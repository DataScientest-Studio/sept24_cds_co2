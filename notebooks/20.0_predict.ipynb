{
 "cells": [
  {
   "cell_type": "markdown",
   "metadata": {},
   "source": [
    "Ce notebook prédit des valeurs d'émission de CO2 pour des caractéristiques de véhicules qui lui sont soumis."
   ]
  },
  {
   "cell_type": "code",
   "execution_count": 1,
   "metadata": {},
   "outputs": [],
   "source": [
    "#chargement des répertoires relatifs\n",
    "%run init_notebook.py"
   ]
  },
  {
   "cell_type": "code",
   "execution_count": 7,
   "metadata": {},
   "outputs": [
    {
     "name": "stdout",
     "output_type": "stream",
     "text": [
      "Ligne 1 : Prédiction Ewltp (g/km) = 197.7475685272106\n",
      "Ligne 2 : Prédiction Ewltp (g/km) = 201.1605939060732\n",
      "Ligne 3 : Prédiction Ewltp (g/km) = 120.19995281663108\n",
      "Ligne 4 : Prédiction Ewltp (g/km) = 205.01559014346313\n",
      "Ligne 5 : Prédiction Ewltp (g/km) = 115.0\n",
      "Ligne 6 : Prédiction Ewltp (g/km) = 139.3333333333333\n",
      "Ligne 7 : Prédiction Ewltp (g/km) = 30.198741712026877\n",
      "Ligne 8 : Prédiction Ewltp (g/km) = 145.02711995347414\n"
     ]
    },
    {
     "name": "stderr",
     "output_type": "stream",
     "text": [
      "c:\\Users\\local\\anaconda\\envs\\DST\\Lib\\site-packages\\sklearn\\base.py:380: InconsistentVersionWarning: Trying to unpickle estimator RobustScaler from version 1.5.1 when using version 1.6.1. This might lead to breaking code or invalid results. Use at your own risk. For more info please refer to:\n",
      "https://scikit-learn.org/stable/model_persistence.html#security-maintainability-limitations\n",
      "  warnings.warn(\n",
      "c:\\Users\\local\\anaconda\\envs\\DST\\Lib\\site-packages\\sklearn\\base.py:380: InconsistentVersionWarning: Trying to unpickle estimator MinMaxScaler from version 1.5.1 when using version 1.6.1. This might lead to breaking code or invalid results. Use at your own risk. For more info please refer to:\n",
      "https://scikit-learn.org/stable/model_persistence.html#security-maintainability-limitations\n",
      "  warnings.warn(\n"
     ]
    }
   ],
   "source": [
    "import pandas as pd\n",
    "import joblib\n",
    "\n",
    "# Chargement du modèle KNN sauvegardé\n",
    "model_path = base_models + \"knn_model_distance_manh_10.pkl\"\n",
    "knn_model = joblib.load(model_path)\n",
    "\n",
    "# Création du dictionnaire avec quelques données :\n",
    "# VW multivan de 2023 index 267, non trouvée en 2022 \n",
    "# mercedes C 220 D 4matic de 2023 index 210, non trouvée en 2022 \n",
    "# Opel Corsa de 2023 index 139, non trouvée en 2022\n",
    "# un modèle 2023 mais avec un quasi équivalent en 2022\n",
    "# deux modèles 2022 pour vérifier\n",
    "# un modèle totalement factice pour faire tourner\n",
    "data = {\n",
    "    'm (kg)': [2119, 1855, 1203,1628, 1067, 1505, 1200, 1800],\n",
    "    'W (mm)': [3120,2995,2540, 2630, 2300, 2785, 2100, 2600],\n",
    "    'At1 (mm)': [1540,1677,1489, 1575, 1600, 1563, 1400, 1760],\n",
    "    'ec (cm3)': [1968, 2989, 1199, 1984, 999, 1499, 1500, 1800],\n",
    "    'ep (KW)': [110, 270, 74, 221, 52, 96, 60, 100],\n",
    "    'z (Wh/km)': [0,0,0,0,0, 0, 120, 0],\n",
    "    'Electric range (km)': [0,0,0,0,0, 0, 30, 0],\n",
    "    'IT28': [0,0,0,0,0, 0, 1, 0],\n",
    "    'IT29': [1,0,1,1,0, 1, 0, 1],\n",
    "    'IT32': [0,0,0,0,0, 0, 1, 0],\n",
    "    'IT33': [0,0,0,0,1, 0, 1, 0],\n",
    "    'IT35': [0,0,0,0,0, 0, 0, 1],\n",
    "    'IT37': [0,0,1,1,0, 0, 0, 1],\n",
    "    'IT38': [0,0,0,0,0, 0, 1, 0],\n",
    "    'IT39': [0,0,0,0,0, 0, 0, 0],\n",
    "    'Ft_diesel/electric': [0,0,0,0,0, 0, 0, 0],\n",
    "    'Ft_petrol': [0,0,1,1,1, 0, 0, 0],\n",
    "    'Ft_petrol/electric': [0,0,0,0,0, 0, 1, 0],\n",
    "    'Cr_M1G': [0,1,0,0,0, 0, 0, 0],\n",
    "    'Cr_M1S': [0,0,0,0,0, 0, 1, 0],\n",
    "    'Cr_N1G': [0,0,0,0,0, 0, 0, 1],\n",
    "    'Fm_H': [0,1,0,0,1, 0, 0, 0],\n",
    "    'Fm_M': [1,0,1,1,0, 1, 0, 1],\n",
    "    'Fm_P': [0,0,0,0,0, 0, 1, 0]\n",
    "}\n",
    "\n",
    "\n",
    "# Création du dataframe à partir du dictionnaire\n",
    "new_data = pd.DataFrame(data)\n",
    "\n",
    "# Chargement des scalers pour mise à l'échelle des nouvelles données\n",
    "robust_scaler_path = base_models + \"robust_scaler.pkl\"\n",
    "min_max_scaler_path = base_models + \"min_max_scaler.pkl\"\n",
    "\n",
    "robust_scaler = joblib.load(robust_scaler_path)\n",
    "min_max_scaler = joblib.load(min_max_scaler_path)\n",
    "\n",
    "# Mise à l'échelle des colonnes correspondantes\n",
    "robust_cols = [\"m (kg)\", \"W (mm)\", \"At1 (mm)\", \"ec (cm3)\", \"ep (KW)\"]\n",
    "min_max_cols = [\"z (Wh/km)\", \"Electric range (km)\"]\n",
    "\n",
    "new_data_scaled = new_data.copy()\n",
    "new_data_scaled[robust_cols] = robust_scaler.transform(new_data[robust_cols])\n",
    "new_data_scaled[min_max_cols] = min_max_scaler.transform(new_data[min_max_cols])\n",
    "\n",
    "# Prédictions avec le modèle\n",
    "predictions = knn_model.predict(new_data_scaled)\n",
    "\n",
    "# Affichage des résultats\n",
    "for i, pred in enumerate(predictions, start=1):\n",
    "    print(f\"Ligne {i} : Prédiction Ewltp (g/km) = {pred}\")\n"
   ]
  }
 ],
 "metadata": {
  "kernelspec": {
   "display_name": "DST",
   "language": "python",
   "name": "python3"
  },
  "language_info": {
   "codemirror_mode": {
    "name": "ipython",
    "version": 3
   },
   "file_extension": ".py",
   "mimetype": "text/x-python",
   "name": "python",
   "nbconvert_exporter": "python",
   "pygments_lexer": "ipython3",
   "version": "3.13.2"
  }
 },
 "nbformat": 4,
 "nbformat_minor": 2
}
