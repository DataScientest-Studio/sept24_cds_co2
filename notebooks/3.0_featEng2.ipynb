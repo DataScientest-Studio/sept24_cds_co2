{
 "cells": [
  {
   "cell_type": "markdown",
   "metadata": {},
   "source": [
    "Feature engineering, partie de Polina\n",
    "(le code pour exploration de données de Polina est dans data_explore_polina.ipynb)\n",
    "\n",
    "Prend en input:\n",
    "Fichier de données issu du feature_engineering Denis+Vincent (engineerd1.csv)\n",
    "\n",
    "Réalise:\n",
    "les traitements de NaN et OHE \n",
    "\n",
    "Fournit en sortie:\n",
    "Fichier de données prêt pour faire une standardisation (engineerd2.csv)\n",
    "\n",
    "prochain traitement après celui-ci : scale.ipynb\n"
   ]
  },
  {
   "cell_type": "code",
   "execution_count": 1,
   "metadata": {},
   "outputs": [],
   "source": [
    "%run init_notebook.py"
   ]
  },
  {
   "cell_type": "code",
   "execution_count": 2,
   "metadata": {},
   "outputs": [
    {
     "data": {
      "application/vnd.microsoft.datawrangler.viewer.v0+json": {
       "columns": [
        {
         "name": "index",
         "rawType": "int64",
         "type": "integer"
        },
        {
         "name": "index",
         "rawType": "int64",
         "type": "integer"
        },
        {
         "name": "Cn",
         "rawType": "object",
         "type": "string"
        },
        {
         "name": "m (kg)",
         "rawType": "float64",
         "type": "float"
        },
        {
         "name": "Ewltp (g/km)",
         "rawType": "float64",
         "type": "float"
        },
        {
         "name": "W (mm)",
         "rawType": "float64",
         "type": "float"
        },
        {
         "name": "At1 (mm)",
         "rawType": "float64",
         "type": "float"
        },
        {
         "name": "Fm",
         "rawType": "object",
         "type": "string"
        },
        {
         "name": "ec (cm3)",
         "rawType": "float64",
         "type": "float"
        },
        {
         "name": "ep (KW)",
         "rawType": "float64",
         "type": "float"
        },
        {
         "name": "z (Wh/km)",
         "rawType": "float64",
         "type": "float"
        },
        {
         "name": "Electric range (km)",
         "rawType": "float64",
         "type": "float"
        },
        {
         "name": "categorie",
         "rawType": "float64",
         "type": "float"
        },
        {
         "name": "IT28",
         "rawType": "int64",
         "type": "integer"
        },
        {
         "name": "IT29",
         "rawType": "int64",
         "type": "integer"
        },
        {
         "name": "IT32",
         "rawType": "int64",
         "type": "integer"
        },
        {
         "name": "IT33",
         "rawType": "int64",
         "type": "integer"
        },
        {
         "name": "IT35",
         "rawType": "int64",
         "type": "integer"
        },
        {
         "name": "IT37",
         "rawType": "int64",
         "type": "integer"
        },
        {
         "name": "IT38",
         "rawType": "int64",
         "type": "integer"
        },
        {
         "name": "IT39",
         "rawType": "int64",
         "type": "integer"
        },
        {
         "name": "ep (ch)",
         "rawType": "float64",
         "type": "float"
        },
        {
         "name": "Ft_diesel/electric",
         "rawType": "float64",
         "type": "float"
        },
        {
         "name": "Ft_petrol",
         "rawType": "float64",
         "type": "float"
        },
        {
         "name": "Ft_petrol/electric",
         "rawType": "float64",
         "type": "float"
        },
        {
         "name": "Cr_M1G",
         "rawType": "float64",
         "type": "float"
        },
        {
         "name": "Cr_M1S",
         "rawType": "float64",
         "type": "float"
        },
        {
         "name": "Cr_N1G",
         "rawType": "float64",
         "type": "float"
        }
       ],
       "conversionMethod": "pd.DataFrame",
       "ref": "58df670f-c99d-4e8d-9310-81707d9eae8d",
       "rows": [
        [
         "0",
         "2",
         "MITSUBISHI ECLIPSE CROSS",
         "1975.0",
         "46.0",
         "2670.0",
         "1540.0",
         "P",
         "2360.0",
         "72.0",
         "175.0",
         "45.0",
         "1.0",
         "0",
         "0",
         "0",
         "0",
         "0",
         "0",
         "0",
         "0",
         "97.92",
         "0.0",
         "0.0",
         "1.0",
         "0.0",
         "0.0",
         "0.0"
        ],
        [
         "1",
         "4",
         "TOYOTA AYGO X",
         "1020.0",
         "108.0",
         "2430.0",
         "1540.0",
         "M",
         "998.0",
         "53.0",
         null,
         null,
         "2.0",
         "0",
         "0",
         "0",
         "0",
         "0",
         "0",
         "0",
         "0",
         "72.08",
         "0.0",
         "0.0",
         "1.0",
         "0.0",
         "0.0",
         "0.0"
        ],
        [
         "2",
         "5",
         "PANDA",
         "1067.0",
         "112.0",
         "2300.0",
         "1600.0",
         "H",
         "999.0",
         "52.0",
         null,
         null,
         "2.0",
         "0",
         "0",
         "0",
         "1",
         "0",
         "0",
         "0",
         "0",
         "70.72",
         "0.0",
         "1.0",
         "0.0",
         "0.0",
         "0.0",
         "0.0"
        ],
        [
         "3",
         "8",
         "SPORTAGE",
         "1905.0",
         "25.0",
         "2680.0",
         "1615.0",
         "P",
         "1598.0",
         "132.0",
         "169.0",
         "70.0",
         "1.0",
         "0",
         "0",
         "0",
         "0",
         "0",
         "0",
         "0",
         "0",
         "179.52",
         "0.0",
         "0.0",
         "1.0",
         "0.0",
         "0.0",
         "0.0"
        ],
        [
         "4",
         "9",
         "SPORTAGE",
         "1905.0",
         "25.0",
         "2680.0",
         "1615.0",
         "P",
         "1598.0",
         "132.0",
         "169.0",
         "70.0",
         "1.0",
         "0",
         "0",
         "0",
         "0",
         "0",
         "0",
         "0",
         "0",
         "179.52",
         "0.0",
         "0.0",
         "1.0",
         "0.0",
         "0.0",
         "0.0"
        ]
       ],
       "shape": {
        "columns": 27,
        "rows": 5
       }
      },
      "text/html": [
       "<div>\n",
       "<style scoped>\n",
       "    .dataframe tbody tr th:only-of-type {\n",
       "        vertical-align: middle;\n",
       "    }\n",
       "\n",
       "    .dataframe tbody tr th {\n",
       "        vertical-align: top;\n",
       "    }\n",
       "\n",
       "    .dataframe thead th {\n",
       "        text-align: right;\n",
       "    }\n",
       "</style>\n",
       "<table border=\"1\" class=\"dataframe\">\n",
       "  <thead>\n",
       "    <tr style=\"text-align: right;\">\n",
       "      <th></th>\n",
       "      <th>index</th>\n",
       "      <th>Cn</th>\n",
       "      <th>m (kg)</th>\n",
       "      <th>Ewltp (g/km)</th>\n",
       "      <th>W (mm)</th>\n",
       "      <th>At1 (mm)</th>\n",
       "      <th>Fm</th>\n",
       "      <th>ec (cm3)</th>\n",
       "      <th>ep (KW)</th>\n",
       "      <th>z (Wh/km)</th>\n",
       "      <th>...</th>\n",
       "      <th>IT37</th>\n",
       "      <th>IT38</th>\n",
       "      <th>IT39</th>\n",
       "      <th>ep (ch)</th>\n",
       "      <th>Ft_diesel/electric</th>\n",
       "      <th>Ft_petrol</th>\n",
       "      <th>Ft_petrol/electric</th>\n",
       "      <th>Cr_M1G</th>\n",
       "      <th>Cr_M1S</th>\n",
       "      <th>Cr_N1G</th>\n",
       "    </tr>\n",
       "  </thead>\n",
       "  <tbody>\n",
       "    <tr>\n",
       "      <th>0</th>\n",
       "      <td>2</td>\n",
       "      <td>MITSUBISHI ECLIPSE CROSS</td>\n",
       "      <td>1975.0</td>\n",
       "      <td>46.0</td>\n",
       "      <td>2670.0</td>\n",
       "      <td>1540.0</td>\n",
       "      <td>P</td>\n",
       "      <td>2360.0</td>\n",
       "      <td>72.0</td>\n",
       "      <td>175.0</td>\n",
       "      <td>...</td>\n",
       "      <td>0</td>\n",
       "      <td>0</td>\n",
       "      <td>0</td>\n",
       "      <td>97.92</td>\n",
       "      <td>0.0</td>\n",
       "      <td>0.0</td>\n",
       "      <td>1.0</td>\n",
       "      <td>0.0</td>\n",
       "      <td>0.0</td>\n",
       "      <td>0.0</td>\n",
       "    </tr>\n",
       "    <tr>\n",
       "      <th>1</th>\n",
       "      <td>4</td>\n",
       "      <td>TOYOTA AYGO X</td>\n",
       "      <td>1020.0</td>\n",
       "      <td>108.0</td>\n",
       "      <td>2430.0</td>\n",
       "      <td>1540.0</td>\n",
       "      <td>M</td>\n",
       "      <td>998.0</td>\n",
       "      <td>53.0</td>\n",
       "      <td>NaN</td>\n",
       "      <td>...</td>\n",
       "      <td>0</td>\n",
       "      <td>0</td>\n",
       "      <td>0</td>\n",
       "      <td>72.08</td>\n",
       "      <td>0.0</td>\n",
       "      <td>0.0</td>\n",
       "      <td>1.0</td>\n",
       "      <td>0.0</td>\n",
       "      <td>0.0</td>\n",
       "      <td>0.0</td>\n",
       "    </tr>\n",
       "    <tr>\n",
       "      <th>2</th>\n",
       "      <td>5</td>\n",
       "      <td>PANDA</td>\n",
       "      <td>1067.0</td>\n",
       "      <td>112.0</td>\n",
       "      <td>2300.0</td>\n",
       "      <td>1600.0</td>\n",
       "      <td>H</td>\n",
       "      <td>999.0</td>\n",
       "      <td>52.0</td>\n",
       "      <td>NaN</td>\n",
       "      <td>...</td>\n",
       "      <td>0</td>\n",
       "      <td>0</td>\n",
       "      <td>0</td>\n",
       "      <td>70.72</td>\n",
       "      <td>0.0</td>\n",
       "      <td>1.0</td>\n",
       "      <td>0.0</td>\n",
       "      <td>0.0</td>\n",
       "      <td>0.0</td>\n",
       "      <td>0.0</td>\n",
       "    </tr>\n",
       "    <tr>\n",
       "      <th>3</th>\n",
       "      <td>8</td>\n",
       "      <td>SPORTAGE</td>\n",
       "      <td>1905.0</td>\n",
       "      <td>25.0</td>\n",
       "      <td>2680.0</td>\n",
       "      <td>1615.0</td>\n",
       "      <td>P</td>\n",
       "      <td>1598.0</td>\n",
       "      <td>132.0</td>\n",
       "      <td>169.0</td>\n",
       "      <td>...</td>\n",
       "      <td>0</td>\n",
       "      <td>0</td>\n",
       "      <td>0</td>\n",
       "      <td>179.52</td>\n",
       "      <td>0.0</td>\n",
       "      <td>0.0</td>\n",
       "      <td>1.0</td>\n",
       "      <td>0.0</td>\n",
       "      <td>0.0</td>\n",
       "      <td>0.0</td>\n",
       "    </tr>\n",
       "    <tr>\n",
       "      <th>4</th>\n",
       "      <td>9</td>\n",
       "      <td>SPORTAGE</td>\n",
       "      <td>1905.0</td>\n",
       "      <td>25.0</td>\n",
       "      <td>2680.0</td>\n",
       "      <td>1615.0</td>\n",
       "      <td>P</td>\n",
       "      <td>1598.0</td>\n",
       "      <td>132.0</td>\n",
       "      <td>169.0</td>\n",
       "      <td>...</td>\n",
       "      <td>0</td>\n",
       "      <td>0</td>\n",
       "      <td>0</td>\n",
       "      <td>179.52</td>\n",
       "      <td>0.0</td>\n",
       "      <td>0.0</td>\n",
       "      <td>1.0</td>\n",
       "      <td>0.0</td>\n",
       "      <td>0.0</td>\n",
       "      <td>0.0</td>\n",
       "    </tr>\n",
       "  </tbody>\n",
       "</table>\n",
       "<p>5 rows × 27 columns</p>\n",
       "</div>"
      ],
      "text/plain": [
       "   index                        Cn  m (kg)  Ewltp (g/km)  W (mm)  At1 (mm) Fm  \\\n",
       "0      2  MITSUBISHI ECLIPSE CROSS  1975.0          46.0  2670.0    1540.0  P   \n",
       "1      4             TOYOTA AYGO X  1020.0         108.0  2430.0    1540.0  M   \n",
       "2      5                     PANDA  1067.0         112.0  2300.0    1600.0  H   \n",
       "3      8                  SPORTAGE  1905.0          25.0  2680.0    1615.0  P   \n",
       "4      9                  SPORTAGE  1905.0          25.0  2680.0    1615.0  P   \n",
       "\n",
       "   ec (cm3)  ep (KW)  z (Wh/km)  ...  IT37  IT38  IT39  ep (ch)  \\\n",
       "0    2360.0     72.0      175.0  ...     0     0     0    97.92   \n",
       "1     998.0     53.0        NaN  ...     0     0     0    72.08   \n",
       "2     999.0     52.0        NaN  ...     0     0     0    70.72   \n",
       "3    1598.0    132.0      169.0  ...     0     0     0   179.52   \n",
       "4    1598.0    132.0      169.0  ...     0     0     0   179.52   \n",
       "\n",
       "   Ft_diesel/electric  Ft_petrol  Ft_petrol/electric  Cr_M1G  Cr_M1S  Cr_N1G  \n",
       "0                 0.0        0.0                 1.0     0.0     0.0     0.0  \n",
       "1                 0.0        0.0                 1.0     0.0     0.0     0.0  \n",
       "2                 0.0        1.0                 0.0     0.0     0.0     0.0  \n",
       "3                 0.0        0.0                 1.0     0.0     0.0     0.0  \n",
       "4                 0.0        0.0                 1.0     0.0     0.0     0.0  \n",
       "\n",
       "[5 rows x 27 columns]"
      ]
     },
     "execution_count": 2,
     "metadata": {},
     "output_type": "execute_result"
    }
   ],
   "source": [
    "# J'importe la base avec plusieurs colonnes déjà encodées\n",
    "import numpy as np\n",
    "import pandas as pd\n",
    "import seaborn as sns\n",
    "import matplotlib.pyplot as plt\n",
    "\n",
    "df = pd.read_csv(filepath_or_buffer = base_processed+\"engineerd1_cat.csv\")\n",
    "df.head()"
   ]
  },
  {
   "cell_type": "markdown",
   "metadata": {},
   "source": [
    "On supprime les lignes avec NAN dans la colonne Cylindrée"
   ]
  },
  {
   "cell_type": "code",
   "execution_count": 3,
   "metadata": {},
   "outputs": [
    {
     "name": "stdout",
     "output_type": "stream",
     "text": [
      "Nombre de NaN dans la colonne 'ec (cm3)' :  25\n"
     ]
    }
   ],
   "source": [
    "# nb de NaN avant la suppression\n",
    "nb_nan = df[\"ec (cm3)\"].isna().sum()\n",
    "\n",
    "print(\"Nombre de NaN dans la colonne 'ec (cm3)' : \", nb_nan)"
   ]
  },
  {
   "cell_type": "code",
   "execution_count": 4,
   "metadata": {},
   "outputs": [],
   "source": [
    "df = df.dropna(subset=['ec (cm3)'])"
   ]
  },
  {
   "cell_type": "code",
   "execution_count": 5,
   "metadata": {},
   "outputs": [
    {
     "name": "stdout",
     "output_type": "stream",
     "text": [
      "Nombre de NaN dans la colonne 'ec (cm3)' : 0\n"
     ]
    }
   ],
   "source": [
    "# vérif NaN après suppression\n",
    "nb_nan = df[\"ec (cm3)\"].isna().sum()\n",
    "\n",
    "print(f\"Nombre de NaN dans la colonne 'ec (cm3)' : {nb_nan}\")"
   ]
  },
  {
   "cell_type": "markdown",
   "metadata": {},
   "source": [
    "Traitement des NaN dans la colonne Electric Range"
   ]
  },
  {
   "cell_type": "markdown",
   "metadata": {},
   "source": [
    "Ft_diesel/electric"
   ]
  },
  {
   "cell_type": "code",
   "execution_count": 6,
   "metadata": {},
   "outputs": [
    {
     "name": "stdout",
     "output_type": "stream",
     "text": [
      "Nombre de NaN dans 'Electric range (km)' après filtrage :  2\n"
     ]
    }
   ],
   "source": [
    "# Filtrer le DataFrame pour Ft_diesel/electric == 1\n",
    "df_filtered = df[df['Ft_diesel/electric'] == 1]\n",
    "\n",
    "# Compter les NaN dans la colonne 'Electric range (km)'\n",
    "nb_nan = df_filtered['Electric range (km)'].isna().sum()\n",
    "\n",
    "print(\"Nombre de NaN dans 'Electric range (km)' après filtrage : \", nb_nan)"
   ]
  },
  {
   "cell_type": "code",
   "execution_count": 7,
   "metadata": {},
   "outputs": [],
   "source": [
    "df = df[~((df['Ft_diesel/electric'] == 1) & (df['Electric range (km)'].isna()))]"
   ]
  },
  {
   "cell_type": "code",
   "execution_count": 8,
   "metadata": {},
   "outputs": [
    {
     "name": "stdout",
     "output_type": "stream",
     "text": [
      "Nombre de NaN dans 'Electric range (km)' après filtrage :  0\n"
     ]
    }
   ],
   "source": [
    "# Vérif NaN\n",
    "df_filtered = df[df['Ft_diesel/electric'] == 1]\n",
    "\n",
    "# Compter les NaN dans la colonne 'Electric range (km)'\n",
    "nb_nan = df_filtered['Electric range (km)'].isna().sum()\n",
    "\n",
    "print(\"Nombre de NaN dans 'Electric range (km)' après filtrage : \", nb_nan)"
   ]
  },
  {
   "cell_type": "markdown",
   "metadata": {},
   "source": [
    "Ft_petrol/electric"
   ]
  },
  {
   "cell_type": "code",
   "execution_count": 9,
   "metadata": {},
   "outputs": [
    {
     "name": "stdout",
     "output_type": "stream",
     "text": [
      "Nombre de NaN dans 'Electric range (km)' après filtrage :  17199\n"
     ]
    }
   ],
   "source": [
    "# Filtrer le DataFrame pour Ft_petrol/electric == 1\n",
    "df_filtered = df[df['Ft_petrol/electric'] == 1]\n",
    "\n",
    "# Compter les NaN dans la colonne 'Electric range (km)'\n",
    "nb_nan = df_filtered['Electric range (km)'].isna().sum()\n",
    "\n",
    "print(\"Nombre de NaN dans 'Electric range (km)' après filtrage : \", nb_nan)"
   ]
  },
  {
   "cell_type": "code",
   "execution_count": 10,
   "metadata": {},
   "outputs": [],
   "source": [
    "df = df[~((df['Ft_petrol/electric'] == 1) & (df['Electric range (km)'].isna()))]"
   ]
  },
  {
   "cell_type": "code",
   "execution_count": 11,
   "metadata": {},
   "outputs": [
    {
     "name": "stdout",
     "output_type": "stream",
     "text": [
      "Nombre de NaN dans 'Electric range (km)' après filtrage :  0\n"
     ]
    }
   ],
   "source": [
    "# Vérif NaN\n",
    "df_filtered = df[df['Ft_petrol/electric'] == 1]\n",
    "\n",
    "# Compter les NaN dans la colonne 'Electric range (km)'\n",
    "nb_nan = df_filtered['Electric range (km)'].isna().sum()\n",
    "\n",
    "print(\"Nombre de NaN dans 'Electric range (km)' après filtrage : \", nb_nan)"
   ]
  },
  {
   "cell_type": "markdown",
   "metadata": {},
   "source": [
    "Diesel : non Nan dans Electric range (km) >> Nan >> 0"
   ]
  },
  {
   "cell_type": "code",
   "execution_count": 12,
   "metadata": {},
   "outputs": [
    {
     "name": "stdout",
     "output_type": "stream",
     "text": [
      "6\n"
     ]
    }
   ],
   "source": [
    "# nombre de lignes où Ft_diesel == 1 et où Electric range (km) n'est pas NaN\n",
    "count = df[\n",
    "    (df['Ft_petrol'] == 0) &\n",
    "    (df['Ft_petrol/electric'] == 0) &\n",
    "    (df['Ft_diesel/electric'] == 0) &\n",
    "    (df['Electric range (km)'].notna())\n",
    "].shape[0]\n",
    "\n",
    "print(count)"
   ]
  },
  {
   "cell_type": "code",
   "execution_count": 13,
   "metadata": {},
   "outputs": [
    {
     "name": "stdout",
     "output_type": "stream",
     "text": [
      "Nombre de lignes avant modification :  6\n"
     ]
    }
   ],
   "source": [
    "# transformer les non nan de diesel par nan\n",
    "conditions = (\n",
    "    (df['Ft_petrol'] == 0) &\n",
    "    (df['Ft_petrol/electric'] == 0) &\n",
    "    (df['Ft_diesel/electric'] == 0) &\n",
    "    (df['Electric range (km)'].notna())\n",
    ")\n",
    "\n",
    "# Nombre de lignes correspondant aux conditions\n",
    "nb_non_nan = df[conditions].shape[0]\n",
    "print(\"Nombre de lignes avant modification : \", nb_non_nan)\n",
    "\n",
    "# Remplacer les valeurs par NaN\n",
    "df.loc[conditions, 'Electric range (km)'] = np.nan"
   ]
  },
  {
   "cell_type": "code",
   "execution_count": 14,
   "metadata": {},
   "outputs": [
    {
     "name": "stdout",
     "output_type": "stream",
     "text": [
      "Nombre de lignes après modification :  0\n"
     ]
    }
   ],
   "source": [
    "# Vérifier les modifications appliquées\n",
    "\n",
    "conditions = (\n",
    "    (df['Ft_petrol'] == 0) &\n",
    "    (df['Ft_petrol/electric'] == 0) &\n",
    "    (df['Ft_diesel/electric'] == 0) &\n",
    "    (df['Electric range (km)'].notna())\n",
    ")\n",
    "\n",
    "nb_non_nan_apres = df[conditions].shape[0]\n",
    "print(\"Nombre de lignes après modification : \", nb_non_nan_apres)"
   ]
  },
  {
   "cell_type": "code",
   "execution_count": 15,
   "metadata": {},
   "outputs": [],
   "source": [
    "# On remplace tous les Nan par 0\n",
    "\n",
    "conditions = (\n",
    "    (df['Ft_petrol'] == 0) &\n",
    "    (df['Ft_petrol/electric'] == 0) &\n",
    "    (df['Ft_diesel/electric'] == 0) &\n",
    "    (df['Electric range (km)'].isna())  # Vérifier que la colonne contient NaN\n",
    ")\n",
    "\n",
    "df.loc[conditions, 'Electric range (km)'] = 0\n"
   ]
  },
  {
   "cell_type": "code",
   "execution_count": 16,
   "metadata": {},
   "outputs": [
    {
     "name": "stdout",
     "output_type": "stream",
     "text": [
      "Nombre de lignes correspondantes :  0\n"
     ]
    }
   ],
   "source": [
    "# On vérifie qu'il ne reste plus de NaN dans Electric range (km) pour Diesel\n",
    "count = df[\n",
    "    (df['Ft_petrol'] == 0) &\n",
    "    (df['Ft_petrol/electric'] == 0) &\n",
    "    (df['Ft_diesel/electric'] == 0) &\n",
    "    (df['Electric range (km)'].isna())\n",
    "].shape[0]\n",
    "\n",
    "print(\"Nombre de lignes correspondantes : \", count)"
   ]
  },
  {
   "cell_type": "markdown",
   "metadata": {},
   "source": [
    "Traitement des NaN dans Electric range (km) pour Ft_petrol"
   ]
  },
  {
   "cell_type": "code",
   "execution_count": 17,
   "metadata": {},
   "outputs": [
    {
     "name": "stdout",
     "output_type": "stream",
     "text": [
      "Nombre de lignes correspondantes :  618311\n"
     ]
    }
   ],
   "source": [
    "# nb de lignes avec Nan dans Electric range (km) pour Ft_petrol avant traitement\n",
    "count = df[(df['Ft_petrol'] == 1) & (df['Electric range (km)'].isna())].shape[0]\n",
    "print(\"Nombre de lignes correspondantes : \", count)"
   ]
  },
  {
   "cell_type": "code",
   "execution_count": 18,
   "metadata": {},
   "outputs": [],
   "source": [
    "# remplacement des nan par 0\n",
    "condition = (df['Ft_petrol'] == 1) & (df['Electric range (km)'].isna())\n",
    "\n",
    "# Remplacement des NaN par 0 pour les lignes correspondant à la condition\n",
    "df.loc[condition, 'Electric range (km)'] = 0"
   ]
  },
  {
   "cell_type": "code",
   "execution_count": 44,
   "metadata": {},
   "outputs": [
    {
     "name": "stdout",
     "output_type": "stream",
     "text": [
      "Nombre de lignes correspondantes :  0\n"
     ]
    }
   ],
   "source": [
    "# nb de lignes avec Nan dans Electric range (km) pour Ft_petrol après traitement\n",
    "count = df[(df['Ft_petrol'] == 1) & (df['Electric range (km)'].isna())].shape[0]\n",
    "print(\"Nombre de lignes correspondantes : \", count)"
   ]
  },
  {
   "cell_type": "markdown",
   "metadata": {},
   "source": [
    "Fuel mode (Fm) - variable nominative >>> One hot Encoding"
   ]
  },
  {
   "cell_type": "code",
   "execution_count": 19,
   "metadata": {},
   "outputs": [
    {
     "name": "stdout",
     "output_type": "stream",
     "text": [
      "Fm\n",
      "M    835344\n",
      "H    315505\n",
      "P    171249\n",
      "Name: count, dtype: int64\n"
     ]
    }
   ],
   "source": [
    "# Nb de lignes par modalité de la colonne Fm avant OHE\n",
    "\n",
    "counts = df['Fm'].value_counts(dropna=False)\n",
    "print(counts)"
   ]
  },
  {
   "cell_type": "code",
   "execution_count": null,
   "metadata": {},
   "outputs": [],
   "source": [
    "# One Hot Encoding de la variable Fm\n",
    "\n",
    "df = pd.get_dummies(df, columns=[\"Fm\"], prefix=\"Fm\")\n",
    "df.head()"
   ]
  },
  {
   "cell_type": "code",
   "execution_count": 21,
   "metadata": {},
   "outputs": [],
   "source": [
    "# au cas où le get_dummies a créé des True/False au lieu de 1/0\n",
    "\n",
    "# Liste des colonnes à convertir\n",
    "cols_to_convert = [\"Fm_H\", \"Fm_M\", \"Fm_P\"]\n",
    "\n",
    "# Appliquer la conversion uniquement à ces colonnes\n",
    "df[cols_to_convert] = df[cols_to_convert].astype(int)"
   ]
  },
  {
   "cell_type": "code",
   "execution_count": 23,
   "metadata": {},
   "outputs": [
    {
     "name": "stdout",
     "output_type": "stream",
     "text": [
      "Fm_M\n",
      "1    835344\n",
      "0    486754\n",
      "Name: count, dtype: int64\n"
     ]
    }
   ],
   "source": [
    "# vérif du nb de Fm_M après OHE\n",
    "counts = df['Fm_M'].value_counts(dropna=False)\n",
    "print(counts)"
   ]
  },
  {
   "cell_type": "markdown",
   "metadata": {},
   "source": [
    "***\n",
    "Quelques traitements finaux"
   ]
  },
  {
   "cell_type": "code",
   "execution_count": 24,
   "metadata": {},
   "outputs": [],
   "source": [
    "# Supprimons les colonnes \"ep (ch)\" et \"Cn\" qui ne nous ont servi que pour des besoins de compréhension humaine des données\n",
    "# bien entendu nous devons aussi supprimer index qui n'est pas une valeur métier\n",
    "df.drop(columns=[\"ep (ch)\", \"Cn\", \"index\"], inplace=True)"
   ]
  },
  {
   "cell_type": "code",
   "execution_count": 25,
   "metadata": {},
   "outputs": [
    {
     "name": "stderr",
     "output_type": "stream",
     "text": [
      "C:\\Users\\abcd3\\AppData\\Local\\Temp\\ipykernel_21200\\1170920781.py:2: FutureWarning: A value is trying to be set on a copy of a DataFrame or Series through chained assignment using an inplace method.\n",
      "The behavior will change in pandas 3.0. This inplace method will never work because the intermediate object on which we are setting values always behaves as a copy.\n",
      "\n",
      "For example, when doing 'df[col].method(value, inplace=True)', try using 'df.method({col: value}, inplace=True)' or df[col] = df[col].method(value) instead, to perform the operation inplace on the original object.\n",
      "\n",
      "\n",
      "  df[\"z (Wh/km)\"].fillna(0, inplace=True)\n"
     ]
    }
   ],
   "source": [
    "# remplacer les NaN par zéro pour \"z (Wh/km)\"\n",
    "df[\"z (Wh/km)\"].fillna(0, inplace=True)"
   ]
  },
  {
   "cell_type": "code",
   "execution_count": 26,
   "metadata": {},
   "outputs": [
    {
     "name": "stdout",
     "output_type": "stream",
     "text": [
      "Nombre de NaN dans notre variable cible 'Ewltp (g/km)': 458, on supprime ces lignes\n"
     ]
    }
   ],
   "source": [
    "nan_count = df[\"Ewltp (g/km)\"].isna().sum()\n",
    "print(f\"Nombre de NaN dans notre variable cible 'Ewltp (g/km)': {nan_count}, on supprime ces lignes\")"
   ]
  },
  {
   "cell_type": "code",
   "execution_count": 27,
   "metadata": {},
   "outputs": [],
   "source": [
    "df.dropna(subset=[\"Ewltp (g/km)\"], inplace=True)"
   ]
  },
  {
   "cell_type": "code",
   "execution_count": 28,
   "metadata": {},
   "outputs": [],
   "source": [
    "# enfin, après toutes nos feature engineering, et suppressions de colonnes, il y a maintenant des duplicats,\n",
    "# on les supprime\n",
    "df.drop_duplicates(inplace=True)\n"
   ]
  },
  {
   "cell_type": "code",
   "execution_count": 29,
   "metadata": {},
   "outputs": [],
   "source": [
    "# Sauvegarde des données après les modifications\n",
    "df.to_csv(base_processed + 'engineerd2_cat.csv', index=False)"
   ]
  }
 ],
 "metadata": {
  "kernelspec": {
   "display_name": "DST",
   "language": "python",
   "name": "python3"
  },
  "language_info": {
   "codemirror_mode": {
    "name": "ipython",
    "version": 3
   },
   "file_extension": ".py",
   "mimetype": "text/x-python",
   "name": "python",
   "nbconvert_exporter": "python",
   "pygments_lexer": "ipython3",
   "version": "3.13.2"
  }
 },
 "nbformat": 4,
 "nbformat_minor": 4
}
