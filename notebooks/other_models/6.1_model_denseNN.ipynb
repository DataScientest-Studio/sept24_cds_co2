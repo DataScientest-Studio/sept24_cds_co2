{
 "cells": [
  {
   "cell_type": "markdown",
   "metadata": {
    "vscode": {
     "languageId": "raw"
    }
   },
   "source": [
    "##### Projet CO2 par Polina, Vincent, Denis\n",
    "\n",
    "Ce notebook:\n",
    "entraine un modèle de classification pour prédiction par Réseau de neurones denses (Fully connected Neural Network), avec fonction d'activation ReLU.\n",
    "\n",
    "Prend en entrée les fichiers:\n",
    "    (processed)/X_test_scaled.csv, X_train_scaled.csv, y_test_cat.csv, y_train_cat.csv : les données scalées et donc forcément préalablement séparées en jeux de train/test.\n",
    "\n",
    "Fournit en sortie les fichiers:\n",
    "\n",
    "    (models)/<nom_de_modele>.pkl\n"
   ]
  },
  {
   "cell_type": "markdown",
   "metadata": {},
   "source": [
    "# Initialisation de variables et fonctions"
   ]
  },
  {
   "cell_type": "code",
   "execution_count": 1,
   "metadata": {},
   "outputs": [],
   "source": [
    "# charge les chemins vers les fichiers de données : base_processed, base_raw, base_models...\n",
    "%run init_notebook.py\n",
    "\n",
    "random_state = 42\n",
    "n_jobs = -1"
   ]
  },
  {
   "cell_type": "code",
   "execution_count": 2,
   "metadata": {},
   "outputs": [],
   "source": [
    "# On importe les fonctions utiles à plusieurs modèles\n",
    "import sys\n",
    "sys.path.append('../')\n",
    "from common_co2 import load_our_data_cat, display_norm_matrix, display_roc, adjust_with_penalty, check_differences"
   ]
  },
  {
   "cell_type": "code",
   "execution_count": 89,
   "metadata": {},
   "outputs": [
    {
     "data": {
      "text/plain": [
       "'\\n!pip install tensorflow\\n'"
      ]
     },
     "execution_count": 89,
     "metadata": {},
     "output_type": "execute_result"
    }
   ],
   "source": [
    "\"\"\"\n",
    "!pip install tensorflow\n",
    "\"\"\""
   ]
  },
  {
   "cell_type": "code",
   "execution_count": 3,
   "metadata": {},
   "outputs": [
    {
     "ename": "ModuleNotFoundError",
     "evalue": "No module named 'tensorflow'",
     "output_type": "error",
     "traceback": [
      "\u001b[1;31m---------------------------------------------------------------------------\u001b[0m",
      "\u001b[1;31mModuleNotFoundError\u001b[0m                       Traceback (most recent call last)",
      "Cell \u001b[1;32mIn[3], line 1\u001b[0m\n\u001b[1;32m----> 1\u001b[0m \u001b[38;5;28;01mfrom\u001b[39;00m\u001b[38;5;250m \u001b[39m\u001b[38;5;21;01mtensorflow\u001b[39;00m\u001b[38;5;21;01m.\u001b[39;00m\u001b[38;5;21;01mkeras\u001b[39;00m\u001b[38;5;21;01m.\u001b[39;00m\u001b[38;5;21;01mmodels\u001b[39;00m\u001b[38;5;250m \u001b[39m\u001b[38;5;28;01mimport\u001b[39;00m Sequential\n\u001b[0;32m      2\u001b[0m \u001b[38;5;28;01mfrom\u001b[39;00m\u001b[38;5;250m \u001b[39m\u001b[38;5;21;01mtensorflow\u001b[39;00m\u001b[38;5;21;01m.\u001b[39;00m\u001b[38;5;21;01mkeras\u001b[39;00m\u001b[38;5;21;01m.\u001b[39;00m\u001b[38;5;21;01mlayers\u001b[39;00m\u001b[38;5;250m \u001b[39m\u001b[38;5;28;01mimport\u001b[39;00m Dense, Dropout\n\u001b[0;32m      3\u001b[0m \u001b[38;5;28;01mfrom\u001b[39;00m\u001b[38;5;250m \u001b[39m\u001b[38;5;21;01mtensorflow\u001b[39;00m\u001b[38;5;21;01m.\u001b[39;00m\u001b[38;5;21;01mkeras\u001b[39;00m\u001b[38;5;21;01m.\u001b[39;00m\u001b[38;5;21;01mutils\u001b[39;00m\u001b[38;5;250m \u001b[39m\u001b[38;5;28;01mimport\u001b[39;00m to_categorical\n",
      "\u001b[1;31mModuleNotFoundError\u001b[0m: No module named 'tensorflow'"
     ]
    }
   ],
   "source": [
    "from tensorflow.keras.models import Sequential\n",
    "from tensorflow.keras.layers import Dense, Dropout\n",
    "from tensorflow.keras.utils import to_categorical"
   ]
  },
  {
   "cell_type": "code",
   "execution_count": 91,
   "metadata": {},
   "outputs": [
    {
     "data": {
      "text/plain": [
       "'\\nimport os\\nos.environ[\"LOKY_MAX_CPU_COUNT\"] = \"16\"  # nombre de cœurs physiques réels\\n'"
      ]
     },
     "execution_count": 91,
     "metadata": {},
     "output_type": "execute_result"
    }
   ],
   "source": [
    "\"\"\"\n",
    "import os\n",
    "os.environ[\"LOKY_MAX_CPU_COUNT\"] = \"16\"  # nombre de cœurs physiques réels\n",
    "\"\"\""
   ]
  },
  {
   "cell_type": "code",
   "execution_count": 92,
   "metadata": {},
   "outputs": [],
   "source": [
    "X_train_scaled, X_test_scaled, y_train, y_test=load_our_data_cat()"
   ]
  },
  {
   "cell_type": "code",
   "execution_count": 93,
   "metadata": {},
   "outputs": [],
   "source": [
    "# typical dimensions\n",
    "\n",
    "# paramétrisation des couches\n",
    "layer_01_neurons = 128\n",
    "layer_02_neurons = 64\n",
    "activation_01 = 'relu'\n",
    "activation_02 = 'relu'\n",
    "activation_output = 'softmax'\n",
    "dropout_rate = 0.2\n",
    "# paramétrisation de l'optimiseur\n",
    "optimizer = 'adam'\n",
    "my_loss = 'sparse_categorical_crossentropy'  # seulement si y_train est une série\n",
    "metrics = ['accuracy']\n",
    "# paramétrisation de l'apprentissage\n",
    "epochs = 50\n",
    "batch_size = 32\n"
   ]
  },
  {
   "cell_type": "code",
   "execution_count": 94,
   "metadata": {},
   "outputs": [],
   "source": [
    "# dimensions for debugging\n",
    "\n",
    "# paramétrisation des couches\n",
    "layer_01_neurons = 32\n",
    "layer_02_neurons = 4\n",
    "activation_01 = 'relu'\n",
    "activation_02 = 'relu'\n",
    "activation_output = 'softmax'\n",
    "dropout_rate = 0.2\n",
    "# paramétrisation de l'optimiseur\n",
    "optimizer = 'adam'\n",
    "# my_loss = 'categorical_crossentropy' # seulement si y_train est one-hot\n",
    "my_loss = 'sparse_categorical_crossentropy'  # seulement si y_train est une série\n",
    "metrics = ['accuracy']\n",
    "# paramétrisation de l'apprentissage\n",
    "epochs = 3\n",
    "batch_size = 32\n"
   ]
  },
  {
   "cell_type": "code",
   "execution_count": 95,
   "metadata": {},
   "outputs": [],
   "source": [
    "# experiments\n",
    "\n",
    "# paramétrisation des couches\n",
    "layer_01_neurons = 256\n",
    "layer_02_neurons = 256\n",
    "layer_03_neurons = 64\n",
    "activation_01 = 'relu'\n",
    "activation_02 = 'relu'\n",
    "activation_03 = 'relu'\n",
    "activation_output = 'softmax'\n",
    "dropout_rate = 0.1\n",
    "# paramétrisation de l'optimiseur\n",
    "optimizer = 'adam'\n",
    "my_loss = 'sparse_categorical_crossentropy'\n",
    "metrics = ['accuracy']\n",
    "# paramétrisation de l'apprentissage\n",
    "epochs = 200\n",
    "batch_size = 32\n"
   ]
  },
  {
   "cell_type": "code",
   "execution_count": null,
   "metadata": {},
   "outputs": [],
   "source": []
  },
  {
   "cell_type": "code",
   "execution_count": 96,
   "metadata": {},
   "outputs": [
    {
     "name": "stdout",
     "output_type": "stream",
     "text": [
      "Epoch 1/200\n"
     ]
    },
    {
     "name": "stderr",
     "output_type": "stream",
     "text": [
      "/media/gerard/dual/dataScientest/streamlitCrsDeep/tf/lib/python3.12/site-packages/keras/src/layers/core/dense.py:87: UserWarning: Do not pass an `input_shape`/`input_dim` argument to a layer. When using Sequential models, prefer using an `Input(shape)` object as the first layer in the model instead.\n",
      "  super().__init__(activity_regularizer=activity_regularizer, **kwargs)\n"
     ]
    },
    {
     "name": "stdout",
     "output_type": "stream",
     "text": [
      "\u001b[1m3092/3092\u001b[0m \u001b[32m━━━━━━━━━━━━━━━━━━━━\u001b[0m\u001b[37m\u001b[0m \u001b[1m6s\u001b[0m 1ms/step - accuracy: 0.7010 - loss: 0.7358 - val_accuracy: 0.8021 - val_loss: 0.4837\n",
      "Epoch 2/200\n",
      "\u001b[1m3092/3092\u001b[0m \u001b[32m━━━━━━━━━━━━━━━━━━━━\u001b[0m\u001b[37m\u001b[0m \u001b[1m3s\u001b[0m 882us/step - accuracy: 0.7889 - loss: 0.5173 - val_accuracy: 0.8136 - val_loss: 0.4509\n",
      "Epoch 3/200\n",
      "\u001b[1m3092/3092\u001b[0m \u001b[32m━━━━━━━━━━━━━━━━━━━━\u001b[0m\u001b[37m\u001b[0m \u001b[1m3s\u001b[0m 911us/step - accuracy: 0.8039 - loss: 0.4785 - val_accuracy: 0.8180 - val_loss: 0.4338\n",
      "Epoch 4/200\n",
      "\u001b[1m3092/3092\u001b[0m \u001b[32m━━━━━━━━━━━━━━━━━━━━\u001b[0m\u001b[37m\u001b[0m \u001b[1m3s\u001b[0m 917us/step - accuracy: 0.8097 - loss: 0.4574 - val_accuracy: 0.8304 - val_loss: 0.4129\n",
      "Epoch 5/200\n",
      "\u001b[1m3092/3092\u001b[0m \u001b[32m━━━━━━━━━━━━━━━━━━━━\u001b[0m\u001b[37m\u001b[0m \u001b[1m3s\u001b[0m 919us/step - accuracy: 0.8142 - loss: 0.4466 - val_accuracy: 0.8340 - val_loss: 0.3978\n",
      "Epoch 6/200\n",
      "\u001b[1m3092/3092\u001b[0m \u001b[32m━━━━━━━━━━━━━━━━━━━━\u001b[0m\u001b[37m\u001b[0m \u001b[1m3s\u001b[0m 932us/step - accuracy: 0.8239 - loss: 0.4304 - val_accuracy: 0.8317 - val_loss: 0.3936\n",
      "Epoch 7/200\n",
      "\u001b[1m3092/3092\u001b[0m \u001b[32m━━━━━━━━━━━━━━━━━━━━\u001b[0m\u001b[37m\u001b[0m \u001b[1m3s\u001b[0m 947us/step - accuracy: 0.8244 - loss: 0.4251 - val_accuracy: 0.8457 - val_loss: 0.3829\n",
      "Epoch 8/200\n",
      "\u001b[1m3092/3092\u001b[0m \u001b[32m━━━━━━━━━━━━━━━━━━━━\u001b[0m\u001b[37m\u001b[0m \u001b[1m3s\u001b[0m 957us/step - accuracy: 0.8298 - loss: 0.4196 - val_accuracy: 0.8410 - val_loss: 0.3804\n",
      "Epoch 9/200\n",
      "\u001b[1m3092/3092\u001b[0m \u001b[32m━━━━━━━━━━━━━━━━━━━━\u001b[0m\u001b[37m\u001b[0m \u001b[1m3s\u001b[0m 906us/step - accuracy: 0.8319 - loss: 0.4113 - val_accuracy: 0.8433 - val_loss: 0.3712\n",
      "Epoch 10/200\n",
      "\u001b[1m3092/3092\u001b[0m \u001b[32m━━━━━━━━━━━━━━━━━━━━\u001b[0m\u001b[37m\u001b[0m \u001b[1m3s\u001b[0m 918us/step - accuracy: 0.8312 - loss: 0.4108 - val_accuracy: 0.8497 - val_loss: 0.3669\n",
      "Epoch 11/200\n",
      "\u001b[1m3092/3092\u001b[0m \u001b[32m━━━━━━━━━━━━━━━━━━━━\u001b[0m\u001b[37m\u001b[0m \u001b[1m3s\u001b[0m 940us/step - accuracy: 0.8370 - loss: 0.3998 - val_accuracy: 0.8539 - val_loss: 0.3662\n",
      "Epoch 12/200\n",
      "\u001b[1m3092/3092\u001b[0m \u001b[32m━━━━━━━━━━━━━━━━━━━━\u001b[0m\u001b[37m\u001b[0m \u001b[1m3s\u001b[0m 876us/step - accuracy: 0.8367 - loss: 0.3973 - val_accuracy: 0.8515 - val_loss: 0.3623\n",
      "Epoch 13/200\n",
      "\u001b[1m3092/3092\u001b[0m \u001b[32m━━━━━━━━━━━━━━━━━━━━\u001b[0m\u001b[37m\u001b[0m \u001b[1m3s\u001b[0m 878us/step - accuracy: 0.8384 - loss: 0.3890 - val_accuracy: 0.8539 - val_loss: 0.3588\n",
      "Epoch 14/200\n",
      "\u001b[1m3092/3092\u001b[0m \u001b[32m━━━━━━━━━━━━━━━━━━━━\u001b[0m\u001b[37m\u001b[0m \u001b[1m3s\u001b[0m 1ms/step - accuracy: 0.8391 - loss: 0.3919 - val_accuracy: 0.8498 - val_loss: 0.3583\n",
      "Epoch 15/200\n",
      "\u001b[1m3092/3092\u001b[0m \u001b[32m━━━━━━━━━━━━━━━━━━━━\u001b[0m\u001b[37m\u001b[0m \u001b[1m4s\u001b[0m 1ms/step - accuracy: 0.8420 - loss: 0.3843 - val_accuracy: 0.8562 - val_loss: 0.3501\n",
      "Epoch 16/200\n",
      "\u001b[1m3092/3092\u001b[0m \u001b[32m━━━━━━━━━━━━━━━━━━━━\u001b[0m\u001b[37m\u001b[0m \u001b[1m4s\u001b[0m 1ms/step - accuracy: 0.8406 - loss: 0.3851 - val_accuracy: 0.8558 - val_loss: 0.3468\n",
      "Epoch 17/200\n",
      "\u001b[1m3092/3092\u001b[0m \u001b[32m━━━━━━━━━━━━━━━━━━━━\u001b[0m\u001b[37m\u001b[0m \u001b[1m4s\u001b[0m 1ms/step - accuracy: 0.8408 - loss: 0.3827 - val_accuracy: 0.8560 - val_loss: 0.3492\n",
      "Epoch 18/200\n",
      "\u001b[1m3092/3092\u001b[0m \u001b[32m━━━━━━━━━━━━━━━━━━━━\u001b[0m\u001b[37m\u001b[0m \u001b[1m3s\u001b[0m 1ms/step - accuracy: 0.8421 - loss: 0.3838 - val_accuracy: 0.8568 - val_loss: 0.3450\n",
      "Epoch 19/200\n",
      "\u001b[1m3092/3092\u001b[0m \u001b[32m━━━━━━━━━━━━━━━━━━━━\u001b[0m\u001b[37m\u001b[0m \u001b[1m3s\u001b[0m 962us/step - accuracy: 0.8450 - loss: 0.3753 - val_accuracy: 0.8574 - val_loss: 0.3432\n",
      "Epoch 20/200\n",
      "\u001b[1m3092/3092\u001b[0m \u001b[32m━━━━━━━━━━━━━━━━━━━━\u001b[0m\u001b[37m\u001b[0m \u001b[1m3s\u001b[0m 987us/step - accuracy: 0.8461 - loss: 0.3758 - val_accuracy: 0.8575 - val_loss: 0.3514\n",
      "Epoch 21/200\n",
      "\u001b[1m3092/3092\u001b[0m \u001b[32m━━━━━━━━━━━━━━━━━━━━\u001b[0m\u001b[37m\u001b[0m \u001b[1m3s\u001b[0m 1ms/step - accuracy: 0.8425 - loss: 0.3799 - val_accuracy: 0.8555 - val_loss: 0.3451\n",
      "Epoch 22/200\n",
      "\u001b[1m3092/3092\u001b[0m \u001b[32m━━━━━━━━━━━━━━━━━━━━\u001b[0m\u001b[37m\u001b[0m \u001b[1m4s\u001b[0m 1ms/step - accuracy: 0.8444 - loss: 0.3765 - val_accuracy: 0.8579 - val_loss: 0.3425\n",
      "Epoch 23/200\n",
      "\u001b[1m3092/3092\u001b[0m \u001b[32m━━━━━━━━━━━━━━━━━━━━\u001b[0m\u001b[37m\u001b[0m \u001b[1m3s\u001b[0m 995us/step - accuracy: 0.8472 - loss: 0.3674 - val_accuracy: 0.8606 - val_loss: 0.3405\n",
      "Epoch 24/200\n",
      "\u001b[1m3092/3092\u001b[0m \u001b[32m━━━━━━━━━━━━━━━━━━━━\u001b[0m\u001b[37m\u001b[0m \u001b[1m3s\u001b[0m 861us/step - accuracy: 0.8460 - loss: 0.3695 - val_accuracy: 0.8582 - val_loss: 0.3421\n",
      "Epoch 25/200\n",
      "\u001b[1m3092/3092\u001b[0m \u001b[32m━━━━━━━━━━━━━━━━━━━━\u001b[0m\u001b[37m\u001b[0m \u001b[1m3s\u001b[0m 872us/step - accuracy: 0.8472 - loss: 0.3702 - val_accuracy: 0.8583 - val_loss: 0.3384\n",
      "Epoch 26/200\n",
      "\u001b[1m3092/3092\u001b[0m \u001b[32m━━━━━━━━━━━━━━━━━━━━\u001b[0m\u001b[37m\u001b[0m \u001b[1m3s\u001b[0m 872us/step - accuracy: 0.8449 - loss: 0.3696 - val_accuracy: 0.8612 - val_loss: 0.3338\n",
      "Epoch 27/200\n",
      "\u001b[1m3092/3092\u001b[0m \u001b[32m━━━━━━━━━━━━━━━━━━━━\u001b[0m\u001b[37m\u001b[0m \u001b[1m3s\u001b[0m 859us/step - accuracy: 0.8481 - loss: 0.3635 - val_accuracy: 0.8642 - val_loss: 0.3315\n",
      "Epoch 28/200\n",
      "\u001b[1m3092/3092\u001b[0m \u001b[32m━━━━━━━━━━━━━━━━━━━━\u001b[0m\u001b[37m\u001b[0m \u001b[1m3s\u001b[0m 883us/step - accuracy: 0.8509 - loss: 0.3643 - val_accuracy: 0.8606 - val_loss: 0.3343\n",
      "Epoch 29/200\n",
      "\u001b[1m3092/3092\u001b[0m \u001b[32m━━━━━━━━━━━━━━━━━━━━\u001b[0m\u001b[37m\u001b[0m \u001b[1m3s\u001b[0m 962us/step - accuracy: 0.8506 - loss: 0.3626 - val_accuracy: 0.8604 - val_loss: 0.3394\n",
      "Epoch 30/200\n",
      "\u001b[1m3092/3092\u001b[0m \u001b[32m━━━━━━━━━━━━━━━━━━━━\u001b[0m\u001b[37m\u001b[0m \u001b[1m4s\u001b[0m 1ms/step - accuracy: 0.8483 - loss: 0.3657 - val_accuracy: 0.8626 - val_loss: 0.3334\n",
      "Epoch 31/200\n",
      "\u001b[1m3092/3092\u001b[0m \u001b[32m━━━━━━━━━━━━━━━━━━━━\u001b[0m\u001b[37m\u001b[0m \u001b[1m4s\u001b[0m 1ms/step - accuracy: 0.8492 - loss: 0.3636 - val_accuracy: 0.8643 - val_loss: 0.3314\n",
      "Epoch 32/200\n",
      "\u001b[1m3092/3092\u001b[0m \u001b[32m━━━━━━━━━━━━━━━━━━━━\u001b[0m\u001b[37m\u001b[0m \u001b[1m4s\u001b[0m 1ms/step - accuracy: 0.8505 - loss: 0.3584 - val_accuracy: 0.8621 - val_loss: 0.3294\n",
      "Epoch 33/200\n",
      "\u001b[1m3092/3092\u001b[0m \u001b[32m━━━━━━━━━━━━━━━━━━━━\u001b[0m\u001b[37m\u001b[0m \u001b[1m3s\u001b[0m 991us/step - accuracy: 0.8498 - loss: 0.3596 - val_accuracy: 0.8614 - val_loss: 0.3359\n",
      "Epoch 34/200\n",
      "\u001b[1m3092/3092\u001b[0m \u001b[32m━━━━━━━━━━━━━━━━━━━━\u001b[0m\u001b[37m\u001b[0m \u001b[1m3s\u001b[0m 973us/step - accuracy: 0.8495 - loss: 0.3620 - val_accuracy: 0.8616 - val_loss: 0.3317\n",
      "Epoch 35/200\n",
      "\u001b[1m3092/3092\u001b[0m \u001b[32m━━━━━━━━━━━━━━━━━━━━\u001b[0m\u001b[37m\u001b[0m \u001b[1m4s\u001b[0m 1ms/step - accuracy: 0.8483 - loss: 0.3615 - val_accuracy: 0.8627 - val_loss: 0.3291\n",
      "Epoch 36/200\n",
      "\u001b[1m3092/3092\u001b[0m \u001b[32m━━━━━━━━━━━━━━━━━━━━\u001b[0m\u001b[37m\u001b[0m \u001b[1m4s\u001b[0m 1ms/step - accuracy: 0.8513 - loss: 0.3564 - val_accuracy: 0.8597 - val_loss: 0.3365\n",
      "Epoch 37/200\n",
      "\u001b[1m3092/3092\u001b[0m \u001b[32m━━━━━━━━━━━━━━━━━━━━\u001b[0m\u001b[37m\u001b[0m \u001b[1m3s\u001b[0m 1ms/step - accuracy: 0.8511 - loss: 0.3606 - val_accuracy: 0.8631 - val_loss: 0.3305\n",
      "Epoch 38/200\n",
      "\u001b[1m3092/3092\u001b[0m \u001b[32m━━━━━━━━━━━━━━━━━━━━\u001b[0m\u001b[37m\u001b[0m \u001b[1m3s\u001b[0m 968us/step - accuracy: 0.8514 - loss: 0.3587 - val_accuracy: 0.8628 - val_loss: 0.3311\n",
      "Epoch 39/200\n",
      "\u001b[1m3092/3092\u001b[0m \u001b[32m━━━━━━━━━━━━━━━━━━━━\u001b[0m\u001b[37m\u001b[0m \u001b[1m3s\u001b[0m 998us/step - accuracy: 0.8554 - loss: 0.3501 - val_accuracy: 0.8610 - val_loss: 0.3339\n",
      "Epoch 40/200\n",
      "\u001b[1m3092/3092\u001b[0m \u001b[32m━━━━━━━━━━━━━━━━━━━━\u001b[0m\u001b[37m\u001b[0m \u001b[1m3s\u001b[0m 1ms/step - accuracy: 0.8534 - loss: 0.3583 - val_accuracy: 0.8640 - val_loss: 0.3268\n",
      "Epoch 41/200\n",
      "\u001b[1m3092/3092\u001b[0m \u001b[32m━━━━━━━━━━━━━━━━━━━━\u001b[0m\u001b[37m\u001b[0m \u001b[1m3s\u001b[0m 1ms/step - accuracy: 0.8545 - loss: 0.3529 - val_accuracy: 0.8655 - val_loss: 0.3240\n",
      "Epoch 42/200\n",
      "\u001b[1m3092/3092\u001b[0m \u001b[32m━━━━━━━━━━━━━━━━━━━━\u001b[0m\u001b[37m\u001b[0m \u001b[1m3s\u001b[0m 1ms/step - accuracy: 0.8550 - loss: 0.3535 - val_accuracy: 0.8657 - val_loss: 0.3262\n",
      "Epoch 43/200\n",
      "\u001b[1m3092/3092\u001b[0m \u001b[32m━━━━━━━━━━━━━━━━━━━━\u001b[0m\u001b[37m\u001b[0m \u001b[1m4s\u001b[0m 1ms/step - accuracy: 0.8516 - loss: 0.3563 - val_accuracy: 0.8640 - val_loss: 0.3239\n",
      "Epoch 44/200\n",
      "\u001b[1m3092/3092\u001b[0m \u001b[32m━━━━━━━━━━━━━━━━━━━━\u001b[0m\u001b[37m\u001b[0m \u001b[1m4s\u001b[0m 1ms/step - accuracy: 0.8529 - loss: 0.3524 - val_accuracy: 0.8648 - val_loss: 0.3231\n",
      "Epoch 45/200\n",
      "\u001b[1m3092/3092\u001b[0m \u001b[32m━━━━━━━━━━━━━━━━━━━━\u001b[0m\u001b[37m\u001b[0m \u001b[1m3s\u001b[0m 1ms/step - accuracy: 0.8545 - loss: 0.3537 - val_accuracy: 0.8592 - val_loss: 0.3335\n",
      "Epoch 46/200\n",
      "\u001b[1m3092/3092\u001b[0m \u001b[32m━━━━━━━━━━━━━━━━━━━━\u001b[0m\u001b[37m\u001b[0m \u001b[1m3s\u001b[0m 1ms/step - accuracy: 0.8555 - loss: 0.3488 - val_accuracy: 0.8669 - val_loss: 0.3219\n",
      "Epoch 47/200\n",
      "\u001b[1m3092/3092\u001b[0m \u001b[32m━━━━━━━━━━━━━━━━━━━━\u001b[0m\u001b[37m\u001b[0m \u001b[1m3s\u001b[0m 1ms/step - accuracy: 0.8560 - loss: 0.3518 - val_accuracy: 0.8637 - val_loss: 0.3274\n",
      "Epoch 48/200\n",
      "\u001b[1m3092/3092\u001b[0m \u001b[32m━━━━━━━━━━━━━━━━━━━━\u001b[0m\u001b[37m\u001b[0m \u001b[1m3s\u001b[0m 1ms/step - accuracy: 0.8544 - loss: 0.3491 - val_accuracy: 0.8662 - val_loss: 0.3268\n",
      "Epoch 49/200\n",
      "\u001b[1m3092/3092\u001b[0m \u001b[32m━━━━━━━━━━━━━━━━━━━━\u001b[0m\u001b[37m\u001b[0m \u001b[1m3s\u001b[0m 994us/step - accuracy: 0.8547 - loss: 0.3502 - val_accuracy: 0.8657 - val_loss: 0.3270\n",
      "Epoch 50/200\n",
      "\u001b[1m3092/3092\u001b[0m \u001b[32m━━━━━━━━━━━━━━━━━━━━\u001b[0m\u001b[37m\u001b[0m \u001b[1m3s\u001b[0m 1ms/step - accuracy: 0.8540 - loss: 0.3488 - val_accuracy: 0.8661 - val_loss: 0.3236\n",
      "Epoch 51/200\n",
      "\u001b[1m3092/3092\u001b[0m \u001b[32m━━━━━━━━━━━━━━━━━━━━\u001b[0m\u001b[37m\u001b[0m \u001b[1m3s\u001b[0m 1ms/step - accuracy: 0.8552 - loss: 0.3467 - val_accuracy: 0.8669 - val_loss: 0.3192\n",
      "Epoch 52/200\n",
      "\u001b[1m3092/3092\u001b[0m \u001b[32m━━━━━━━━━━━━━━━━━━━━\u001b[0m\u001b[37m\u001b[0m \u001b[1m3s\u001b[0m 1ms/step - accuracy: 0.8570 - loss: 0.3471 - val_accuracy: 0.8648 - val_loss: 0.3230\n",
      "Epoch 53/200\n",
      "\u001b[1m3092/3092\u001b[0m \u001b[32m━━━━━━━━━━━━━━━━━━━━\u001b[0m\u001b[37m\u001b[0m \u001b[1m3s\u001b[0m 973us/step - accuracy: 0.8567 - loss: 0.3449 - val_accuracy: 0.8646 - val_loss: 0.3232\n",
      "Epoch 54/200\n",
      "\u001b[1m3092/3092\u001b[0m \u001b[32m━━━━━━━━━━━━━━━━━━━━\u001b[0m\u001b[37m\u001b[0m \u001b[1m3s\u001b[0m 1ms/step - accuracy: 0.8567 - loss: 0.3451 - val_accuracy: 0.8678 - val_loss: 0.3241\n",
      "Epoch 55/200\n",
      "\u001b[1m3092/3092\u001b[0m \u001b[32m━━━━━━━━━━━━━━━━━━━━\u001b[0m\u001b[37m\u001b[0m \u001b[1m3s\u001b[0m 1ms/step - accuracy: 0.8564 - loss: 0.3467 - val_accuracy: 0.8654 - val_loss: 0.3186\n",
      "Epoch 56/200\n",
      "\u001b[1m3092/3092\u001b[0m \u001b[32m━━━━━━━━━━━━━━━━━━━━\u001b[0m\u001b[37m\u001b[0m \u001b[1m3s\u001b[0m 970us/step - accuracy: 0.8570 - loss: 0.3443 - val_accuracy: 0.8669 - val_loss: 0.3219\n",
      "Epoch 57/200\n",
      "\u001b[1m3092/3092\u001b[0m \u001b[32m━━━━━━━━━━━━━━━━━━━━\u001b[0m\u001b[37m\u001b[0m \u001b[1m3s\u001b[0m 1ms/step - accuracy: 0.8556 - loss: 0.3488 - val_accuracy: 0.8676 - val_loss: 0.3177\n",
      "Epoch 58/200\n",
      "\u001b[1m3092/3092\u001b[0m \u001b[32m━━━━━━━━━━━━━━━━━━━━\u001b[0m\u001b[37m\u001b[0m \u001b[1m3s\u001b[0m 1ms/step - accuracy: 0.8566 - loss: 0.3475 - val_accuracy: 0.8683 - val_loss: 0.3194\n",
      "Epoch 59/200\n",
      "\u001b[1m3092/3092\u001b[0m \u001b[32m━━━━━━━━━━━━━━━━━━━━\u001b[0m\u001b[37m\u001b[0m \u001b[1m3s\u001b[0m 1ms/step - accuracy: 0.8563 - loss: 0.3451 - val_accuracy: 0.8666 - val_loss: 0.3240\n",
      "Epoch 60/200\n",
      "\u001b[1m3092/3092\u001b[0m \u001b[32m━━━━━━━━━━━━━━━━━━━━\u001b[0m\u001b[37m\u001b[0m \u001b[1m3s\u001b[0m 1ms/step - accuracy: 0.8556 - loss: 0.3472 - val_accuracy: 0.8667 - val_loss: 0.3221\n",
      "Epoch 61/200\n",
      "\u001b[1m3092/3092\u001b[0m \u001b[32m━━━━━━━━━━━━━━━━━━━━\u001b[0m\u001b[37m\u001b[0m \u001b[1m3s\u001b[0m 1ms/step - accuracy: 0.8568 - loss: 0.3454 - val_accuracy: 0.8691 - val_loss: 0.3182\n",
      "Epoch 62/200\n",
      "\u001b[1m3092/3092\u001b[0m \u001b[32m━━━━━━━━━━━━━━━━━━━━\u001b[0m\u001b[37m\u001b[0m \u001b[1m3s\u001b[0m 1ms/step - accuracy: 0.8573 - loss: 0.3451 - val_accuracy: 0.8689 - val_loss: 0.3161\n",
      "Epoch 63/200\n",
      "\u001b[1m3092/3092\u001b[0m \u001b[32m━━━━━━━━━━━━━━━━━━━━\u001b[0m\u001b[37m\u001b[0m \u001b[1m3s\u001b[0m 971us/step - accuracy: 0.8572 - loss: 0.3423 - val_accuracy: 0.8672 - val_loss: 0.3197\n",
      "Epoch 64/200\n",
      "\u001b[1m3092/3092\u001b[0m \u001b[32m━━━━━━━━━━━━━━━━━━━━\u001b[0m\u001b[37m\u001b[0m \u001b[1m3s\u001b[0m 1ms/step - accuracy: 0.8602 - loss: 0.3403 - val_accuracy: 0.8664 - val_loss: 0.3184\n",
      "Epoch 65/200\n",
      "\u001b[1m3092/3092\u001b[0m \u001b[32m━━━━━━━━━━━━━━━━━━━━\u001b[0m\u001b[37m\u001b[0m \u001b[1m3s\u001b[0m 988us/step - accuracy: 0.8581 - loss: 0.3400 - val_accuracy: 0.8645 - val_loss: 0.3243\n",
      "Epoch 66/200\n",
      "\u001b[1m3092/3092\u001b[0m \u001b[32m━━━━━━━━━━━━━━━━━━━━\u001b[0m\u001b[37m\u001b[0m \u001b[1m3s\u001b[0m 1ms/step - accuracy: 0.8575 - loss: 0.3451 - val_accuracy: 0.8685 - val_loss: 0.3238\n",
      "Epoch 67/200\n",
      "\u001b[1m3092/3092\u001b[0m \u001b[32m━━━━━━━━━━━━━━━━━━━━\u001b[0m\u001b[37m\u001b[0m \u001b[1m3s\u001b[0m 1ms/step - accuracy: 0.8572 - loss: 0.3433 - val_accuracy: 0.8673 - val_loss: 0.3192\n",
      "Epoch 68/200\n",
      "\u001b[1m3092/3092\u001b[0m \u001b[32m━━━━━━━━━━━━━━━━━━━━\u001b[0m\u001b[37m\u001b[0m \u001b[1m4s\u001b[0m 1ms/step - accuracy: 0.8580 - loss: 0.3413 - val_accuracy: 0.8679 - val_loss: 0.3176\n",
      "Epoch 69/200\n",
      "\u001b[1m3092/3092\u001b[0m \u001b[32m━━━━━━━━━━━━━━━━━━━━\u001b[0m\u001b[37m\u001b[0m \u001b[1m3s\u001b[0m 1ms/step - accuracy: 0.8586 - loss: 0.3411 - val_accuracy: 0.8677 - val_loss: 0.3157\n",
      "Epoch 70/200\n",
      "\u001b[1m3092/3092\u001b[0m \u001b[32m━━━━━━━━━━━━━━━━━━━━\u001b[0m\u001b[37m\u001b[0m \u001b[1m3s\u001b[0m 1ms/step - accuracy: 0.8561 - loss: 0.3460 - val_accuracy: 0.8651 - val_loss: 0.3206\n",
      "Epoch 71/200\n",
      "\u001b[1m3092/3092\u001b[0m \u001b[32m━━━━━━━━━━━━━━━━━━━━\u001b[0m\u001b[37m\u001b[0m \u001b[1m3s\u001b[0m 1ms/step - accuracy: 0.8581 - loss: 0.3422 - val_accuracy: 0.8690 - val_loss: 0.3186\n",
      "Epoch 72/200\n",
      "\u001b[1m3092/3092\u001b[0m \u001b[32m━━━━━━━━━━━━━━━━━━━━\u001b[0m\u001b[37m\u001b[0m \u001b[1m3s\u001b[0m 1ms/step - accuracy: 0.8580 - loss: 0.3425 - val_accuracy: 0.8682 - val_loss: 0.3170\n",
      "Epoch 73/200\n",
      "\u001b[1m3092/3092\u001b[0m \u001b[32m━━━━━━━━━━━━━━━━━━━━\u001b[0m\u001b[37m\u001b[0m \u001b[1m3s\u001b[0m 984us/step - accuracy: 0.8588 - loss: 0.3423 - val_accuracy: 0.8671 - val_loss: 0.3160\n",
      "Epoch 74/200\n",
      "\u001b[1m3092/3092\u001b[0m \u001b[32m━━━━━━━━━━━━━━━━━━━━\u001b[0m\u001b[37m\u001b[0m \u001b[1m4s\u001b[0m 1ms/step - accuracy: 0.8588 - loss: 0.3378 - val_accuracy: 0.8666 - val_loss: 0.3176\n",
      "Epoch 75/200\n",
      "\u001b[1m3092/3092\u001b[0m \u001b[32m━━━━━━━━━━━━━━━━━━━━\u001b[0m\u001b[37m\u001b[0m \u001b[1m3s\u001b[0m 1ms/step - accuracy: 0.8610 - loss: 0.3357 - val_accuracy: 0.8688 - val_loss: 0.3189\n",
      "Epoch 76/200\n",
      "\u001b[1m3092/3092\u001b[0m \u001b[32m━━━━━━━━━━━━━━━━━━━━\u001b[0m\u001b[37m\u001b[0m \u001b[1m3s\u001b[0m 968us/step - accuracy: 0.8593 - loss: 0.3393 - val_accuracy: 0.8693 - val_loss: 0.3174\n",
      "Epoch 77/200\n",
      "\u001b[1m3092/3092\u001b[0m \u001b[32m━━━━━━━━━━━━━━━━━━━━\u001b[0m\u001b[37m\u001b[0m \u001b[1m3s\u001b[0m 1ms/step - accuracy: 0.8603 - loss: 0.3359 - val_accuracy: 0.8689 - val_loss: 0.3169\n",
      "Epoch 78/200\n",
      "\u001b[1m3092/3092\u001b[0m \u001b[32m━━━━━━━━━━━━━━━━━━━━\u001b[0m\u001b[37m\u001b[0m \u001b[1m4s\u001b[0m 1ms/step - accuracy: 0.8588 - loss: 0.3419 - val_accuracy: 0.8618 - val_loss: 0.3235\n",
      "Epoch 79/200\n",
      "\u001b[1m3092/3092\u001b[0m \u001b[32m━━━━━━━━━━━━━━━━━━━━\u001b[0m\u001b[37m\u001b[0m \u001b[1m3s\u001b[0m 1ms/step - accuracy: 0.8578 - loss: 0.3386 - val_accuracy: 0.8679 - val_loss: 0.3130\n",
      "Epoch 80/200\n",
      "\u001b[1m3092/3092\u001b[0m \u001b[32m━━━━━━━━━━━━━━━━━━━━\u001b[0m\u001b[37m\u001b[0m \u001b[1m3s\u001b[0m 1ms/step - accuracy: 0.8570 - loss: 0.3382 - val_accuracy: 0.8682 - val_loss: 0.3153\n",
      "Epoch 81/200\n",
      "\u001b[1m3092/3092\u001b[0m \u001b[32m━━━━━━━━━━━━━━━━━━━━\u001b[0m\u001b[37m\u001b[0m \u001b[1m3s\u001b[0m 1ms/step - accuracy: 0.8578 - loss: 0.3396 - val_accuracy: 0.8676 - val_loss: 0.3146\n",
      "Epoch 82/200\n",
      "\u001b[1m3092/3092\u001b[0m \u001b[32m━━━━━━━━━━━━━━━━━━━━\u001b[0m\u001b[37m\u001b[0m \u001b[1m4s\u001b[0m 1ms/step - accuracy: 0.8613 - loss: 0.3344 - val_accuracy: 0.8686 - val_loss: 0.3147\n",
      "Epoch 83/200\n",
      "\u001b[1m3092/3092\u001b[0m \u001b[32m━━━━━━━━━━━━━━━━━━━━\u001b[0m\u001b[37m\u001b[0m \u001b[1m3s\u001b[0m 1ms/step - accuracy: 0.8600 - loss: 0.3362 - val_accuracy: 0.8695 - val_loss: 0.3179\n",
      "Epoch 84/200\n",
      "\u001b[1m3092/3092\u001b[0m \u001b[32m━━━━━━━━━━━━━━━━━━━━\u001b[0m\u001b[37m\u001b[0m \u001b[1m4s\u001b[0m 1ms/step - accuracy: 0.8582 - loss: 0.3372 - val_accuracy: 0.8673 - val_loss: 0.3175\n",
      "Epoch 85/200\n",
      "\u001b[1m3092/3092\u001b[0m \u001b[32m━━━━━━━━━━━━━━━━━━━━\u001b[0m\u001b[37m\u001b[0m \u001b[1m4s\u001b[0m 1ms/step - accuracy: 0.8575 - loss: 0.3388 - val_accuracy: 0.8673 - val_loss: 0.3110\n",
      "Epoch 86/200\n",
      "\u001b[1m3092/3092\u001b[0m \u001b[32m━━━━━━━━━━━━━━━━━━━━\u001b[0m\u001b[37m\u001b[0m \u001b[1m3s\u001b[0m 1ms/step - accuracy: 0.8603 - loss: 0.3374 - val_accuracy: 0.8661 - val_loss: 0.3186\n",
      "Epoch 87/200\n",
      "\u001b[1m3092/3092\u001b[0m \u001b[32m━━━━━━━━━━━━━━━━━━━━\u001b[0m\u001b[37m\u001b[0m \u001b[1m3s\u001b[0m 1ms/step - accuracy: 0.8601 - loss: 0.3376 - val_accuracy: 0.8703 - val_loss: 0.3142\n",
      "Epoch 88/200\n",
      "\u001b[1m3092/3092\u001b[0m \u001b[32m━━━━━━━━━━━━━━━━━━━━\u001b[0m\u001b[37m\u001b[0m \u001b[1m4s\u001b[0m 1ms/step - accuracy: 0.8600 - loss: 0.3349 - val_accuracy: 0.8684 - val_loss: 0.3176\n",
      "Epoch 89/200\n",
      "\u001b[1m3092/3092\u001b[0m \u001b[32m━━━━━━━━━━━━━━━━━━━━\u001b[0m\u001b[37m\u001b[0m \u001b[1m3s\u001b[0m 1ms/step - accuracy: 0.8602 - loss: 0.3388 - val_accuracy: 0.8670 - val_loss: 0.3151\n",
      "Epoch 90/200\n",
      "\u001b[1m3092/3092\u001b[0m \u001b[32m━━━━━━━━━━━━━━━━━━━━\u001b[0m\u001b[37m\u001b[0m \u001b[1m3s\u001b[0m 1ms/step - accuracy: 0.8611 - loss: 0.3341 - val_accuracy: 0.8663 - val_loss: 0.3170\n",
      "Epoch 91/200\n",
      "\u001b[1m3092/3092\u001b[0m \u001b[32m━━━━━━━━━━━━━━━━━━━━\u001b[0m\u001b[37m\u001b[0m \u001b[1m3s\u001b[0m 972us/step - accuracy: 0.8575 - loss: 0.3403 - val_accuracy: 0.8678 - val_loss: 0.3163\n",
      "Epoch 92/200\n",
      "\u001b[1m3092/3092\u001b[0m \u001b[32m━━━━━━━━━━━━━━━━━━━━\u001b[0m\u001b[37m\u001b[0m \u001b[1m3s\u001b[0m 978us/step - accuracy: 0.8596 - loss: 0.3376 - val_accuracy: 0.8692 - val_loss: 0.3167\n",
      "Epoch 93/200\n",
      "\u001b[1m3092/3092\u001b[0m \u001b[32m━━━━━━━━━━━━━━━━━━━━\u001b[0m\u001b[37m\u001b[0m \u001b[1m3s\u001b[0m 958us/step - accuracy: 0.8596 - loss: 0.3330 - val_accuracy: 0.8693 - val_loss: 0.3152\n",
      "Epoch 94/200\n",
      "\u001b[1m3092/3092\u001b[0m \u001b[32m━━━━━━━━━━━━━━━━━━━━\u001b[0m\u001b[37m\u001b[0m \u001b[1m3s\u001b[0m 1ms/step - accuracy: 0.8607 - loss: 0.3371 - val_accuracy: 0.8690 - val_loss: 0.3130\n",
      "Epoch 95/200\n",
      "\u001b[1m3092/3092\u001b[0m \u001b[32m━━━━━━━━━━━━━━━━━━━━\u001b[0m\u001b[37m\u001b[0m \u001b[1m3s\u001b[0m 1ms/step - accuracy: 0.8604 - loss: 0.3351 - val_accuracy: 0.8710 - val_loss: 0.3111\n",
      "Epoch 96/200\n",
      "\u001b[1m3092/3092\u001b[0m \u001b[32m━━━━━━━━━━━━━━━━━━━━\u001b[0m\u001b[37m\u001b[0m \u001b[1m3s\u001b[0m 1ms/step - accuracy: 0.8587 - loss: 0.3399 - val_accuracy: 0.8712 - val_loss: 0.3136\n",
      "Epoch 97/200\n",
      "\u001b[1m3092/3092\u001b[0m \u001b[32m━━━━━━━━━━━━━━━━━━━━\u001b[0m\u001b[37m\u001b[0m \u001b[1m3s\u001b[0m 1ms/step - accuracy: 0.8595 - loss: 0.3389 - val_accuracy: 0.8678 - val_loss: 0.3160\n",
      "Epoch 98/200\n",
      "\u001b[1m3092/3092\u001b[0m \u001b[32m━━━━━━━━━━━━━━━━━━━━\u001b[0m\u001b[37m\u001b[0m \u001b[1m3s\u001b[0m 1ms/step - accuracy: 0.8579 - loss: 0.3402 - val_accuracy: 0.8692 - val_loss: 0.3136\n",
      "Epoch 99/200\n",
      "\u001b[1m3092/3092\u001b[0m \u001b[32m━━━━━━━━━━━━━━━━━━━━\u001b[0m\u001b[37m\u001b[0m \u001b[1m3s\u001b[0m 1ms/step - accuracy: 0.8615 - loss: 0.3355 - val_accuracy: 0.8698 - val_loss: 0.3119\n",
      "Epoch 100/200\n",
      "\u001b[1m3092/3092\u001b[0m \u001b[32m━━━━━━━━━━━━━━━━━━━━\u001b[0m\u001b[37m\u001b[0m \u001b[1m4s\u001b[0m 1ms/step - accuracy: 0.8610 - loss: 0.3317 - val_accuracy: 0.8691 - val_loss: 0.3159\n",
      "Epoch 101/200\n",
      "\u001b[1m3092/3092\u001b[0m \u001b[32m━━━━━━━━━━━━━━━━━━━━\u001b[0m\u001b[37m\u001b[0m \u001b[1m3s\u001b[0m 1ms/step - accuracy: 0.8604 - loss: 0.3347 - val_accuracy: 0.8687 - val_loss: 0.3132\n",
      "Epoch 102/200\n",
      "\u001b[1m3092/3092\u001b[0m \u001b[32m━━━━━━━━━━━━━━━━━━━━\u001b[0m\u001b[37m\u001b[0m \u001b[1m3s\u001b[0m 1ms/step - accuracy: 0.8593 - loss: 0.3396 - val_accuracy: 0.8709 - val_loss: 0.3145\n",
      "Epoch 103/200\n",
      "\u001b[1m3092/3092\u001b[0m \u001b[32m━━━━━━━━━━━━━━━━━━━━\u001b[0m\u001b[37m\u001b[0m \u001b[1m3s\u001b[0m 984us/step - accuracy: 0.8610 - loss: 0.3367 - val_accuracy: 0.8654 - val_loss: 0.3161\n",
      "Epoch 104/200\n",
      "\u001b[1m3092/3092\u001b[0m \u001b[32m━━━━━━━━━━━━━━━━━━━━\u001b[0m\u001b[37m\u001b[0m \u001b[1m3s\u001b[0m 964us/step - accuracy: 0.8614 - loss: 0.3348 - val_accuracy: 0.8696 - val_loss: 0.3156\n",
      "Epoch 105/200\n",
      "\u001b[1m3092/3092\u001b[0m \u001b[32m━━━━━━━━━━━━━━━━━━━━\u001b[0m\u001b[37m\u001b[0m \u001b[1m3s\u001b[0m 1ms/step - accuracy: 0.8609 - loss: 0.3365 - val_accuracy: 0.8688 - val_loss: 0.3109\n",
      "Epoch 106/200\n",
      "\u001b[1m3092/3092\u001b[0m \u001b[32m━━━━━━━━━━━━━━━━━━━━\u001b[0m\u001b[37m\u001b[0m \u001b[1m3s\u001b[0m 919us/step - accuracy: 0.8602 - loss: 0.3359 - val_accuracy: 0.8706 - val_loss: 0.3117\n",
      "Epoch 107/200\n",
      "\u001b[1m3092/3092\u001b[0m \u001b[32m━━━━━━━━━━━━━━━━━━━━\u001b[0m\u001b[37m\u001b[0m \u001b[1m3s\u001b[0m 877us/step - accuracy: 0.8632 - loss: 0.3333 - val_accuracy: 0.8692 - val_loss: 0.3100\n",
      "Epoch 108/200\n",
      "\u001b[1m3092/3092\u001b[0m \u001b[32m━━━━━━━━━━━━━━━━━━━━\u001b[0m\u001b[37m\u001b[0m \u001b[1m3s\u001b[0m 852us/step - accuracy: 0.8611 - loss: 0.3357 - val_accuracy: 0.8693 - val_loss: 0.3163\n",
      "Epoch 109/200\n",
      "\u001b[1m3092/3092\u001b[0m \u001b[32m━━━━━━━━━━━━━━━━━━━━\u001b[0m\u001b[37m\u001b[0m \u001b[1m3s\u001b[0m 911us/step - accuracy: 0.8596 - loss: 0.3369 - val_accuracy: 0.8683 - val_loss: 0.3137\n",
      "Epoch 110/200\n",
      "\u001b[1m3092/3092\u001b[0m \u001b[32m━━━━━━━━━━━━━━━━━━━━\u001b[0m\u001b[37m\u001b[0m \u001b[1m3s\u001b[0m 1ms/step - accuracy: 0.8618 - loss: 0.3317 - val_accuracy: 0.8683 - val_loss: 0.3142\n",
      "Epoch 111/200\n",
      "\u001b[1m3092/3092\u001b[0m \u001b[32m━━━━━━━━━━━━━━━━━━━━\u001b[0m\u001b[37m\u001b[0m \u001b[1m3s\u001b[0m 864us/step - accuracy: 0.8620 - loss: 0.3328 - val_accuracy: 0.8694 - val_loss: 0.3103\n",
      "Epoch 112/200\n",
      "\u001b[1m3092/3092\u001b[0m \u001b[32m━━━━━━━━━━━━━━━━━━━━\u001b[0m\u001b[37m\u001b[0m \u001b[1m3s\u001b[0m 972us/step - accuracy: 0.8612 - loss: 0.3289 - val_accuracy: 0.8661 - val_loss: 0.3177\n",
      "Epoch 113/200\n",
      "\u001b[1m3092/3092\u001b[0m \u001b[32m━━━━━━━━━━━━━━━━━━━━\u001b[0m\u001b[37m\u001b[0m \u001b[1m3s\u001b[0m 855us/step - accuracy: 0.8590 - loss: 0.3386 - val_accuracy: 0.8691 - val_loss: 0.3124\n",
      "Epoch 114/200\n",
      "\u001b[1m3092/3092\u001b[0m \u001b[32m━━━━━━━━━━━━━━━━━━━━\u001b[0m\u001b[37m\u001b[0m \u001b[1m3s\u001b[0m 871us/step - accuracy: 0.8622 - loss: 0.3338 - val_accuracy: 0.8682 - val_loss: 0.3151\n",
      "Epoch 115/200\n",
      "\u001b[1m3092/3092\u001b[0m \u001b[32m━━━━━━━━━━━━━━━━━━━━\u001b[0m\u001b[37m\u001b[0m \u001b[1m3s\u001b[0m 952us/step - accuracy: 0.8605 - loss: 0.3329 - val_accuracy: 0.8704 - val_loss: 0.3147\n",
      "Epoch 116/200\n",
      "\u001b[1m3092/3092\u001b[0m \u001b[32m━━━━━━━━━━━━━━━━━━━━\u001b[0m\u001b[37m\u001b[0m \u001b[1m3s\u001b[0m 966us/step - accuracy: 0.8631 - loss: 0.3275 - val_accuracy: 0.8691 - val_loss: 0.3125\n",
      "Epoch 117/200\n",
      "\u001b[1m3092/3092\u001b[0m \u001b[32m━━━━━━━━━━━━━━━━━━━━\u001b[0m\u001b[37m\u001b[0m \u001b[1m3s\u001b[0m 882us/step - accuracy: 0.8621 - loss: 0.3249 - val_accuracy: 0.8687 - val_loss: 0.3156\n",
      "Epoch 118/200\n",
      "\u001b[1m3092/3092\u001b[0m \u001b[32m━━━━━━━━━━━━━━━━━━━━\u001b[0m\u001b[37m\u001b[0m \u001b[1m3s\u001b[0m 1ms/step - accuracy: 0.8600 - loss: 0.3386 - val_accuracy: 0.8716 - val_loss: 0.3077\n",
      "Epoch 119/200\n",
      "\u001b[1m3092/3092\u001b[0m \u001b[32m━━━━━━━━━━━━━━━━━━━━\u001b[0m\u001b[37m\u001b[0m \u001b[1m3s\u001b[0m 970us/step - accuracy: 0.8623 - loss: 0.3339 - val_accuracy: 0.8680 - val_loss: 0.3138\n",
      "Epoch 120/200\n",
      "\u001b[1m3092/3092\u001b[0m \u001b[32m━━━━━━━━━━━━━━━━━━━━\u001b[0m\u001b[37m\u001b[0m \u001b[1m3s\u001b[0m 874us/step - accuracy: 0.8627 - loss: 0.3366 - val_accuracy: 0.8727 - val_loss: 0.3095\n",
      "Epoch 121/200\n",
      "\u001b[1m3092/3092\u001b[0m \u001b[32m━━━━━━━━━━━━━━━━━━━━\u001b[0m\u001b[37m\u001b[0m \u001b[1m3s\u001b[0m 978us/step - accuracy: 0.8606 - loss: 0.3326 - val_accuracy: 0.8703 - val_loss: 0.3126\n",
      "Epoch 122/200\n",
      "\u001b[1m3092/3092\u001b[0m \u001b[32m━━━━━━━━━━━━━━━━━━━━\u001b[0m\u001b[37m\u001b[0m \u001b[1m3s\u001b[0m 1ms/step - accuracy: 0.8593 - loss: 0.3351 - val_accuracy: 0.8718 - val_loss: 0.3095\n",
      "Epoch 123/200\n",
      "\u001b[1m3092/3092\u001b[0m \u001b[32m━━━━━━━━━━━━━━━━━━━━\u001b[0m\u001b[37m\u001b[0m \u001b[1m3s\u001b[0m 971us/step - accuracy: 0.8610 - loss: 0.3320 - val_accuracy: 0.8671 - val_loss: 0.3122\n",
      "Epoch 124/200\n",
      "\u001b[1m3092/3092\u001b[0m \u001b[32m━━━━━━━━━━━━━━━━━━━━\u001b[0m\u001b[37m\u001b[0m \u001b[1m3s\u001b[0m 939us/step - accuracy: 0.8609 - loss: 0.3336 - val_accuracy: 0.8715 - val_loss: 0.3110\n",
      "Epoch 125/200\n",
      "\u001b[1m3092/3092\u001b[0m \u001b[32m━━━━━━━━━━━━━━━━━━━━\u001b[0m\u001b[37m\u001b[0m \u001b[1m4s\u001b[0m 1ms/step - accuracy: 0.8621 - loss: 0.3292 - val_accuracy: 0.8684 - val_loss: 0.3156\n",
      "Epoch 126/200\n",
      "\u001b[1m3092/3092\u001b[0m \u001b[32m━━━━━━━━━━━━━━━━━━━━\u001b[0m\u001b[37m\u001b[0m \u001b[1m4s\u001b[0m 1ms/step - accuracy: 0.8596 - loss: 0.3382 - val_accuracy: 0.8716 - val_loss: 0.3130\n",
      "Epoch 127/200\n",
      "\u001b[1m3092/3092\u001b[0m \u001b[32m━━━━━━━━━━━━━━━━━━━━\u001b[0m\u001b[37m\u001b[0m \u001b[1m3s\u001b[0m 1ms/step - accuracy: 0.8622 - loss: 0.3331 - val_accuracy: 0.8684 - val_loss: 0.3140\n",
      "Epoch 128/200\n",
      "\u001b[1m3092/3092\u001b[0m \u001b[32m━━━━━━━━━━━━━━━━━━━━\u001b[0m\u001b[37m\u001b[0m \u001b[1m3s\u001b[0m 948us/step - accuracy: 0.8617 - loss: 0.3297 - val_accuracy: 0.8709 - val_loss: 0.3094\n",
      "Epoch 129/200\n",
      "\u001b[1m3092/3092\u001b[0m \u001b[32m━━━━━━━━━━━━━━━━━━━━\u001b[0m\u001b[37m\u001b[0m \u001b[1m3s\u001b[0m 850us/step - accuracy: 0.8612 - loss: 0.3294 - val_accuracy: 0.8711 - val_loss: 0.3105\n",
      "Epoch 130/200\n",
      "\u001b[1m3092/3092\u001b[0m \u001b[32m━━━━━━━━━━━━━━━━━━━━\u001b[0m\u001b[37m\u001b[0m \u001b[1m3s\u001b[0m 862us/step - accuracy: 0.8608 - loss: 0.3341 - val_accuracy: 0.8681 - val_loss: 0.3148\n",
      "Epoch 131/200\n",
      "\u001b[1m3092/3092\u001b[0m \u001b[32m━━━━━━━━━━━━━━━━━━━━\u001b[0m\u001b[37m\u001b[0m \u001b[1m3s\u001b[0m 974us/step - accuracy: 0.8620 - loss: 0.3300 - val_accuracy: 0.8719 - val_loss: 0.3087\n",
      "Epoch 132/200\n",
      "\u001b[1m3092/3092\u001b[0m \u001b[32m━━━━━━━━━━━━━━━━━━━━\u001b[0m\u001b[37m\u001b[0m \u001b[1m3s\u001b[0m 939us/step - accuracy: 0.8599 - loss: 0.3321 - val_accuracy: 0.8709 - val_loss: 0.3090\n",
      "Epoch 133/200\n",
      "\u001b[1m3092/3092\u001b[0m \u001b[32m━━━━━━━━━━━━━━━━━━━━\u001b[0m\u001b[37m\u001b[0m \u001b[1m3s\u001b[0m 897us/step - accuracy: 0.8625 - loss: 0.3303 - val_accuracy: 0.8704 - val_loss: 0.3088\n",
      "Epoch 134/200\n",
      "\u001b[1m3092/3092\u001b[0m \u001b[32m━━━━━━━━━━━━━━━━━━━━\u001b[0m\u001b[37m\u001b[0m \u001b[1m3s\u001b[0m 873us/step - accuracy: 0.8646 - loss: 0.3329 - val_accuracy: 0.8684 - val_loss: 0.3121\n",
      "Epoch 135/200\n",
      "\u001b[1m3092/3092\u001b[0m \u001b[32m━━━━━━━━━━━━━━━━━━━━\u001b[0m\u001b[37m\u001b[0m \u001b[1m3s\u001b[0m 865us/step - accuracy: 0.8636 - loss: 0.3286 - val_accuracy: 0.8691 - val_loss: 0.3111\n",
      "Epoch 136/200\n",
      "\u001b[1m3092/3092\u001b[0m \u001b[32m━━━━━━━━━━━━━━━━━━━━\u001b[0m\u001b[37m\u001b[0m \u001b[1m3s\u001b[0m 863us/step - accuracy: 0.8597 - loss: 0.3323 - val_accuracy: 0.8675 - val_loss: 0.3121\n",
      "Epoch 137/200\n",
      "\u001b[1m3092/3092\u001b[0m \u001b[32m━━━━━━━━━━━━━━━━━━━━\u001b[0m\u001b[37m\u001b[0m \u001b[1m3s\u001b[0m 869us/step - accuracy: 0.8602 - loss: 0.3330 - val_accuracy: 0.8720 - val_loss: 0.3178\n",
      "Epoch 138/200\n",
      "\u001b[1m3092/3092\u001b[0m \u001b[32m━━━━━━━━━━━━━━━━━━━━\u001b[0m\u001b[37m\u001b[0m \u001b[1m3s\u001b[0m 931us/step - accuracy: 0.8604 - loss: 0.3414 - val_accuracy: 0.8714 - val_loss: 0.3078\n",
      "Epoch 139/200\n",
      "\u001b[1m3092/3092\u001b[0m \u001b[32m━━━━━━━━━━━━━━━━━━━━\u001b[0m\u001b[37m\u001b[0m \u001b[1m3s\u001b[0m 1ms/step - accuracy: 0.8636 - loss: 0.3289 - val_accuracy: 0.8721 - val_loss: 0.3111\n",
      "Epoch 140/200\n",
      "\u001b[1m3092/3092\u001b[0m \u001b[32m━━━━━━━━━━━━━━━━━━━━\u001b[0m\u001b[37m\u001b[0m \u001b[1m3s\u001b[0m 948us/step - accuracy: 0.8605 - loss: 0.3302 - val_accuracy: 0.8705 - val_loss: 0.3094\n",
      "Epoch 141/200\n",
      "\u001b[1m3092/3092\u001b[0m \u001b[32m━━━━━━━━━━━━━━━━━━━━\u001b[0m\u001b[37m\u001b[0m \u001b[1m4s\u001b[0m 1ms/step - accuracy: 0.8622 - loss: 0.3277 - val_accuracy: 0.8695 - val_loss: 0.3083\n",
      "Epoch 142/200\n",
      "\u001b[1m3092/3092\u001b[0m \u001b[32m━━━━━━━━━━━━━━━━━━━━\u001b[0m\u001b[37m\u001b[0m \u001b[1m3s\u001b[0m 942us/step - accuracy: 0.8625 - loss: 0.3300 - val_accuracy: 0.8718 - val_loss: 0.3109\n",
      "Epoch 143/200\n",
      "\u001b[1m3092/3092\u001b[0m \u001b[32m━━━━━━━━━━━━━━━━━━━━\u001b[0m\u001b[37m\u001b[0m \u001b[1m3s\u001b[0m 922us/step - accuracy: 0.8626 - loss: 0.3299 - val_accuracy: 0.8715 - val_loss: 0.3072\n",
      "Epoch 144/200\n",
      "\u001b[1m3092/3092\u001b[0m \u001b[32m━━━━━━━━━━━━━━━━━━━━\u001b[0m\u001b[37m\u001b[0m \u001b[1m3s\u001b[0m 908us/step - accuracy: 0.8608 - loss: 0.3353 - val_accuracy: 0.8711 - val_loss: 0.3081\n",
      "Epoch 145/200\n",
      "\u001b[1m3092/3092\u001b[0m \u001b[32m━━━━━━━━━━━━━━━━━━━━\u001b[0m\u001b[37m\u001b[0m \u001b[1m3s\u001b[0m 983us/step - accuracy: 0.8613 - loss: 0.3306 - val_accuracy: 0.8703 - val_loss: 0.3096\n",
      "Epoch 146/200\n",
      "\u001b[1m3092/3092\u001b[0m \u001b[32m━━━━━━━━━━━━━━━━━━━━\u001b[0m\u001b[37m\u001b[0m \u001b[1m3s\u001b[0m 869us/step - accuracy: 0.8634 - loss: 0.3314 - val_accuracy: 0.8702 - val_loss: 0.3093\n",
      "Epoch 147/200\n",
      "\u001b[1m3092/3092\u001b[0m \u001b[32m━━━━━━━━━━━━━━━━━━━━\u001b[0m\u001b[37m\u001b[0m \u001b[1m3s\u001b[0m 858us/step - accuracy: 0.8639 - loss: 0.3286 - val_accuracy: 0.8723 - val_loss: 0.3105\n",
      "Epoch 148/200\n",
      "\u001b[1m3092/3092\u001b[0m \u001b[32m━━━━━━━━━━━━━━━━━━━━\u001b[0m\u001b[37m\u001b[0m \u001b[1m3s\u001b[0m 879us/step - accuracy: 0.8601 - loss: 0.3318 - val_accuracy: 0.8720 - val_loss: 0.3070\n",
      "Epoch 149/200\n",
      "\u001b[1m3092/3092\u001b[0m \u001b[32m━━━━━━━━━━━━━━━━━━━━\u001b[0m\u001b[37m\u001b[0m \u001b[1m3s\u001b[0m 875us/step - accuracy: 0.8637 - loss: 0.3254 - val_accuracy: 0.8686 - val_loss: 0.3130\n",
      "Epoch 150/200\n",
      "\u001b[1m3092/3092\u001b[0m \u001b[32m━━━━━━━━━━━━━━━━━━━━\u001b[0m\u001b[37m\u001b[0m \u001b[1m3s\u001b[0m 868us/step - accuracy: 0.8628 - loss: 0.3292 - val_accuracy: 0.8727 - val_loss: 0.3108\n",
      "Epoch 151/200\n",
      "\u001b[1m3092/3092\u001b[0m \u001b[32m━━━━━━━━━━━━━━━━━━━━\u001b[0m\u001b[37m\u001b[0m \u001b[1m3s\u001b[0m 873us/step - accuracy: 0.8637 - loss: 0.3295 - val_accuracy: 0.8713 - val_loss: 0.3153\n",
      "Epoch 152/200\n",
      "\u001b[1m3092/3092\u001b[0m \u001b[32m━━━━━━━━━━━━━━━━━━━━\u001b[0m\u001b[37m\u001b[0m \u001b[1m3s\u001b[0m 875us/step - accuracy: 0.8639 - loss: 0.3286 - val_accuracy: 0.8725 - val_loss: 0.3126\n",
      "Epoch 153/200\n",
      "\u001b[1m3092/3092\u001b[0m \u001b[32m━━━━━━━━━━━━━━━━━━━━\u001b[0m\u001b[37m\u001b[0m \u001b[1m3s\u001b[0m 872us/step - accuracy: 0.8615 - loss: 0.3290 - val_accuracy: 0.8730 - val_loss: 0.3124\n",
      "Epoch 154/200\n",
      "\u001b[1m3092/3092\u001b[0m \u001b[32m━━━━━━━━━━━━━━━━━━━━\u001b[0m\u001b[37m\u001b[0m \u001b[1m3s\u001b[0m 978us/step - accuracy: 0.8613 - loss: 0.3282 - val_accuracy: 0.8709 - val_loss: 0.3107\n",
      "Epoch 155/200\n",
      "\u001b[1m3092/3092\u001b[0m \u001b[32m━━━━━━━━━━━━━━━━━━━━\u001b[0m\u001b[37m\u001b[0m \u001b[1m3s\u001b[0m 863us/step - accuracy: 0.8618 - loss: 0.3301 - val_accuracy: 0.8723 - val_loss: 0.3086\n",
      "Epoch 156/200\n",
      "\u001b[1m3092/3092\u001b[0m \u001b[32m━━━━━━━━━━━━━━━━━━━━\u001b[0m\u001b[37m\u001b[0m \u001b[1m3s\u001b[0m 1ms/step - accuracy: 0.8615 - loss: 0.3338 - val_accuracy: 0.8696 - val_loss: 0.3125\n",
      "Epoch 157/200\n",
      "\u001b[1m3092/3092\u001b[0m \u001b[32m━━━━━━━━━━━━━━━━━━━━\u001b[0m\u001b[37m\u001b[0m \u001b[1m4s\u001b[0m 1ms/step - accuracy: 0.8617 - loss: 0.3279 - val_accuracy: 0.8710 - val_loss: 0.3116\n",
      "Epoch 158/200\n",
      "\u001b[1m3092/3092\u001b[0m \u001b[32m━━━━━━━━━━━━━━━━━━━━\u001b[0m\u001b[37m\u001b[0m \u001b[1m4s\u001b[0m 1ms/step - accuracy: 0.8622 - loss: 0.3301 - val_accuracy: 0.8708 - val_loss: 0.3127\n",
      "Epoch 159/200\n",
      "\u001b[1m3092/3092\u001b[0m \u001b[32m━━━━━━━━━━━━━━━━━━━━\u001b[0m\u001b[37m\u001b[0m \u001b[1m3s\u001b[0m 1ms/step - accuracy: 0.8625 - loss: 0.3335 - val_accuracy: 0.8716 - val_loss: 0.3091\n",
      "Epoch 160/200\n",
      "\u001b[1m3092/3092\u001b[0m \u001b[32m━━━━━━━━━━━━━━━━━━━━\u001b[0m\u001b[37m\u001b[0m \u001b[1m3s\u001b[0m 1ms/step - accuracy: 0.8639 - loss: 0.3285 - val_accuracy: 0.8707 - val_loss: 0.3112\n",
      "Epoch 161/200\n",
      "\u001b[1m3092/3092\u001b[0m \u001b[32m━━━━━━━━━━━━━━━━━━━━\u001b[0m\u001b[37m\u001b[0m \u001b[1m3s\u001b[0m 1ms/step - accuracy: 0.8619 - loss: 0.3312 - val_accuracy: 0.8730 - val_loss: 0.3070\n",
      "Epoch 162/200\n",
      "\u001b[1m3092/3092\u001b[0m \u001b[32m━━━━━━━━━━━━━━━━━━━━\u001b[0m\u001b[37m\u001b[0m \u001b[1m4s\u001b[0m 1ms/step - accuracy: 0.8617 - loss: 0.3323 - val_accuracy: 0.8701 - val_loss: 0.3088\n",
      "Epoch 163/200\n",
      "\u001b[1m3092/3092\u001b[0m \u001b[32m━━━━━━━━━━━━━━━━━━━━\u001b[0m\u001b[37m\u001b[0m \u001b[1m3s\u001b[0m 1ms/step - accuracy: 0.8618 - loss: 0.3304 - val_accuracy: 0.8732 - val_loss: 0.3111\n",
      "Epoch 164/200\n",
      "\u001b[1m3092/3092\u001b[0m \u001b[32m━━━━━━━━━━━━━━━━━━━━\u001b[0m\u001b[37m\u001b[0m \u001b[1m4s\u001b[0m 1ms/step - accuracy: 0.8636 - loss: 0.3232 - val_accuracy: 0.8715 - val_loss: 0.3098\n",
      "Epoch 165/200\n",
      "\u001b[1m3092/3092\u001b[0m \u001b[32m━━━━━━━━━━━━━━━━━━━━\u001b[0m\u001b[37m\u001b[0m \u001b[1m3s\u001b[0m 1ms/step - accuracy: 0.8619 - loss: 0.3333 - val_accuracy: 0.8712 - val_loss: 0.3107\n",
      "Epoch 166/200\n",
      "\u001b[1m3092/3092\u001b[0m \u001b[32m━━━━━━━━━━━━━━━━━━━━\u001b[0m\u001b[37m\u001b[0m \u001b[1m4s\u001b[0m 1ms/step - accuracy: 0.8615 - loss: 0.3314 - val_accuracy: 0.8725 - val_loss: 0.3078\n",
      "Epoch 167/200\n",
      "\u001b[1m3092/3092\u001b[0m \u001b[32m━━━━━━━━━━━━━━━━━━━━\u001b[0m\u001b[37m\u001b[0m \u001b[1m3s\u001b[0m 975us/step - accuracy: 0.8601 - loss: 0.3330 - val_accuracy: 0.8700 - val_loss: 0.3114\n",
      "Epoch 168/200\n",
      "\u001b[1m3092/3092\u001b[0m \u001b[32m━━━━━━━━━━━━━━━━━━━━\u001b[0m\u001b[37m\u001b[0m \u001b[1m4s\u001b[0m 1ms/step - accuracy: 0.8627 - loss: 0.3302 - val_accuracy: 0.8712 - val_loss: 0.3092\n",
      "Epoch 169/200\n",
      "\u001b[1m3092/3092\u001b[0m \u001b[32m━━━━━━━━━━━━━━━━━━━━\u001b[0m\u001b[37m\u001b[0m \u001b[1m3s\u001b[0m 985us/step - accuracy: 0.8631 - loss: 0.3296 - val_accuracy: 0.8724 - val_loss: 0.3074\n",
      "Epoch 170/200\n",
      "\u001b[1m3092/3092\u001b[0m \u001b[32m━━━━━━━━━━━━━━━━━━━━\u001b[0m\u001b[37m\u001b[0m \u001b[1m3s\u001b[0m 1ms/step - accuracy: 0.8627 - loss: 0.3280 - val_accuracy: 0.8718 - val_loss: 0.3143\n",
      "Epoch 171/200\n",
      "\u001b[1m3092/3092\u001b[0m \u001b[32m━━━━━━━━━━━━━━━━━━━━\u001b[0m\u001b[37m\u001b[0m \u001b[1m3s\u001b[0m 1ms/step - accuracy: 0.8617 - loss: 0.3331 - val_accuracy: 0.8707 - val_loss: 0.3142\n",
      "Epoch 172/200\n",
      "\u001b[1m3092/3092\u001b[0m \u001b[32m━━━━━━━━━━━━━━━━━━━━\u001b[0m\u001b[37m\u001b[0m \u001b[1m3s\u001b[0m 994us/step - accuracy: 0.8633 - loss: 0.3283 - val_accuracy: 0.8714 - val_loss: 0.3138\n",
      "Epoch 173/200\n",
      "\u001b[1m3092/3092\u001b[0m \u001b[32m━━━━━━━━━━━━━━━━━━━━\u001b[0m\u001b[37m\u001b[0m \u001b[1m3s\u001b[0m 1ms/step - accuracy: 0.8629 - loss: 0.3291 - val_accuracy: 0.8730 - val_loss: 0.3088\n",
      "Epoch 174/200\n",
      "\u001b[1m3092/3092\u001b[0m \u001b[32m━━━━━━━━━━━━━━━━━━━━\u001b[0m\u001b[37m\u001b[0m \u001b[1m3s\u001b[0m 1ms/step - accuracy: 0.8642 - loss: 0.3258 - val_accuracy: 0.8680 - val_loss: 0.3136\n",
      "Epoch 175/200\n",
      "\u001b[1m3092/3092\u001b[0m \u001b[32m━━━━━━━━━━━━━━━━━━━━\u001b[0m\u001b[37m\u001b[0m \u001b[1m3s\u001b[0m 1ms/step - accuracy: 0.8614 - loss: 0.3332 - val_accuracy: 0.8724 - val_loss: 0.3089\n",
      "Epoch 176/200\n",
      "\u001b[1m3092/3092\u001b[0m \u001b[32m━━━━━━━━━━━━━━━━━━━━\u001b[0m\u001b[37m\u001b[0m \u001b[1m3s\u001b[0m 1ms/step - accuracy: 0.8647 - loss: 0.3252 - val_accuracy: 0.8721 - val_loss: 0.3089\n",
      "Epoch 177/200\n",
      "\u001b[1m3092/3092\u001b[0m \u001b[32m━━━━━━━━━━━━━━━━━━━━\u001b[0m\u001b[37m\u001b[0m \u001b[1m3s\u001b[0m 967us/step - accuracy: 0.8641 - loss: 0.3262 - val_accuracy: 0.8724 - val_loss: 0.3061\n",
      "Epoch 178/200\n",
      "\u001b[1m3092/3092\u001b[0m \u001b[32m━━━━━━━━━━━━━━━━━━━━\u001b[0m\u001b[37m\u001b[0m \u001b[1m3s\u001b[0m 1ms/step - accuracy: 0.8644 - loss: 0.3291 - val_accuracy: 0.8694 - val_loss: 0.3137\n",
      "Epoch 179/200\n",
      "\u001b[1m3092/3092\u001b[0m \u001b[32m━━━━━━━━━━━━━━━━━━━━\u001b[0m\u001b[37m\u001b[0m \u001b[1m3s\u001b[0m 1ms/step - accuracy: 0.8630 - loss: 0.3304 - val_accuracy: 0.8705 - val_loss: 0.3114\n",
      "Epoch 180/200\n",
      "\u001b[1m3092/3092\u001b[0m \u001b[32m━━━━━━━━━━━━━━━━━━━━\u001b[0m\u001b[37m\u001b[0m \u001b[1m3s\u001b[0m 1ms/step - accuracy: 0.8656 - loss: 0.3244 - val_accuracy: 0.8706 - val_loss: 0.3108\n",
      "Epoch 181/200\n",
      "\u001b[1m3092/3092\u001b[0m \u001b[32m━━━━━━━━━━━━━━━━━━━━\u001b[0m\u001b[37m\u001b[0m \u001b[1m3s\u001b[0m 1ms/step - accuracy: 0.8644 - loss: 0.3270 - val_accuracy: 0.8701 - val_loss: 0.3108\n",
      "Epoch 182/200\n",
      "\u001b[1m3092/3092\u001b[0m \u001b[32m━━━━━━━━━━━━━━━━━━━━\u001b[0m\u001b[37m\u001b[0m \u001b[1m3s\u001b[0m 1ms/step - accuracy: 0.8611 - loss: 0.3322 - val_accuracy: 0.8704 - val_loss: 0.3121\n",
      "Epoch 183/200\n",
      "\u001b[1m3092/3092\u001b[0m \u001b[32m━━━━━━━━━━━━━━━━━━━━\u001b[0m\u001b[37m\u001b[0m \u001b[1m3s\u001b[0m 1ms/step - accuracy: 0.8638 - loss: 0.3294 - val_accuracy: 0.8715 - val_loss: 0.3061\n",
      "Epoch 184/200\n",
      "\u001b[1m3092/3092\u001b[0m \u001b[32m━━━━━━━━━━━━━━━━━━━━\u001b[0m\u001b[37m\u001b[0m \u001b[1m3s\u001b[0m 1ms/step - accuracy: 0.8597 - loss: 0.3326 - val_accuracy: 0.8725 - val_loss: 0.3111\n",
      "Epoch 185/200\n",
      "\u001b[1m3092/3092\u001b[0m \u001b[32m━━━━━━━━━━━━━━━━━━━━\u001b[0m\u001b[37m\u001b[0m \u001b[1m3s\u001b[0m 1ms/step - accuracy: 0.8639 - loss: 0.3291 - val_accuracy: 0.8729 - val_loss: 0.3075\n",
      "Epoch 186/200\n",
      "\u001b[1m3092/3092\u001b[0m \u001b[32m━━━━━━━━━━━━━━━━━━━━\u001b[0m\u001b[37m\u001b[0m \u001b[1m3s\u001b[0m 1ms/step - accuracy: 0.8648 - loss: 0.3270 - val_accuracy: 0.8710 - val_loss: 0.3074\n",
      "Epoch 187/200\n",
      "\u001b[1m3092/3092\u001b[0m \u001b[32m━━━━━━━━━━━━━━━━━━━━\u001b[0m\u001b[37m\u001b[0m \u001b[1m3s\u001b[0m 1ms/step - accuracy: 0.8625 - loss: 0.3307 - val_accuracy: 0.8708 - val_loss: 0.3097\n",
      "Epoch 188/200\n",
      "\u001b[1m3092/3092\u001b[0m \u001b[32m━━━━━━━━━━━━━━━━━━━━\u001b[0m\u001b[37m\u001b[0m \u001b[1m3s\u001b[0m 918us/step - accuracy: 0.8628 - loss: 0.3279 - val_accuracy: 0.8723 - val_loss: 0.3087\n",
      "Epoch 189/200\n",
      "\u001b[1m3092/3092\u001b[0m \u001b[32m━━━━━━━━━━━━━━━━━━━━\u001b[0m\u001b[37m\u001b[0m \u001b[1m3s\u001b[0m 870us/step - accuracy: 0.8639 - loss: 0.3278 - val_accuracy: 0.8721 - val_loss: 0.3082\n",
      "Epoch 190/200\n",
      "\u001b[1m3092/3092\u001b[0m \u001b[32m━━━━━━━━━━━━━━━━━━━━\u001b[0m\u001b[37m\u001b[0m \u001b[1m3s\u001b[0m 965us/step - accuracy: 0.8621 - loss: 0.3291 - val_accuracy: 0.8724 - val_loss: 0.3100\n",
      "Epoch 191/200\n",
      "\u001b[1m3092/3092\u001b[0m \u001b[32m━━━━━━━━━━━━━━━━━━━━\u001b[0m\u001b[37m\u001b[0m \u001b[1m3s\u001b[0m 966us/step - accuracy: 0.8639 - loss: 0.3267 - val_accuracy: 0.8720 - val_loss: 0.3080\n",
      "Epoch 192/200\n",
      "\u001b[1m3092/3092\u001b[0m \u001b[32m━━━━━━━━━━━━━━━━━━━━\u001b[0m\u001b[37m\u001b[0m \u001b[1m3s\u001b[0m 1ms/step - accuracy: 0.8662 - loss: 0.3217 - val_accuracy: 0.8725 - val_loss: 0.3073\n",
      "Epoch 193/200\n",
      "\u001b[1m3092/3092\u001b[0m \u001b[32m━━━━━━━━━━━━━━━━━━━━\u001b[0m\u001b[37m\u001b[0m \u001b[1m3s\u001b[0m 1ms/step - accuracy: 0.8639 - loss: 0.3268 - val_accuracy: 0.8728 - val_loss: 0.3083\n",
      "Epoch 194/200\n",
      "\u001b[1m3092/3092\u001b[0m \u001b[32m━━━━━━━━━━━━━━━━━━━━\u001b[0m\u001b[37m\u001b[0m \u001b[1m4s\u001b[0m 1ms/step - accuracy: 0.8630 - loss: 0.3315 - val_accuracy: 0.8721 - val_loss: 0.3095\n",
      "Epoch 195/200\n",
      "\u001b[1m3092/3092\u001b[0m \u001b[32m━━━━━━━━━━━━━━━━━━━━\u001b[0m\u001b[37m\u001b[0m \u001b[1m4s\u001b[0m 1ms/step - accuracy: 0.8642 - loss: 0.3258 - val_accuracy: 0.8724 - val_loss: 0.3094\n",
      "Epoch 196/200\n",
      "\u001b[1m3092/3092\u001b[0m \u001b[32m━━━━━━━━━━━━━━━━━━━━\u001b[0m\u001b[37m\u001b[0m \u001b[1m3s\u001b[0m 1ms/step - accuracy: 0.8629 - loss: 0.3302 - val_accuracy: 0.8720 - val_loss: 0.3115\n",
      "Epoch 197/200\n",
      "\u001b[1m3092/3092\u001b[0m \u001b[32m━━━━━━━━━━━━━━━━━━━━\u001b[0m\u001b[37m\u001b[0m \u001b[1m3s\u001b[0m 1ms/step - accuracy: 0.8633 - loss: 0.3290 - val_accuracy: 0.8709 - val_loss: 0.3106\n",
      "Epoch 198/200\n",
      "\u001b[1m3092/3092\u001b[0m \u001b[32m━━━━━━━━━━━━━━━━━━━━\u001b[0m\u001b[37m\u001b[0m \u001b[1m3s\u001b[0m 1ms/step - accuracy: 0.8635 - loss: 0.3280 - val_accuracy: 0.8706 - val_loss: 0.3129\n",
      "Epoch 199/200\n",
      "\u001b[1m3092/3092\u001b[0m \u001b[32m━━━━━━━━━━━━━━━━━━━━\u001b[0m\u001b[37m\u001b[0m \u001b[1m3s\u001b[0m 973us/step - accuracy: 0.8648 - loss: 0.3444 - val_accuracy: 0.8724 - val_loss: 0.3118\n",
      "Epoch 200/200\n",
      "\u001b[1m3092/3092\u001b[0m \u001b[32m━━━━━━━━━━━━━━━━━━━━\u001b[0m\u001b[37m\u001b[0m \u001b[1m3s\u001b[0m 1000us/step - accuracy: 0.8639 - loss: 0.3301 - val_accuracy: 0.8733 - val_loss: 0.3124\n",
      "Temps d'apprentissage = 635.81 secondes\n"
     ]
    }
   ],
   "source": [
    "\n",
    "\n",
    "# TODO : on n'est pas obligé de faire du one-hot encoding pour y_test et y_train\n",
    "# mais si on veut ensuite appliquer des pénalités au modèle il faudra alors le faire, \n",
    "# et utiliser my_loss='categorical_crossentropy'\n",
    "import time\n",
    "start_time=time.time()\n",
    "\n",
    "num_classes = len(set(y_train)) \n",
    "\n",
    "# Adjust class labels to start from 0\n",
    "y_train_adjusted = y_train - 1\n",
    "y_test_adjusted = y_test - 1\n",
    "\n",
    "\n",
    "# Définir le modèle de réseau de neurones\n",
    "model = Sequential([\n",
    "    Dense(layer_01_neurons, activation=activation_01, input_dim=X_train_scaled.shape[1]),\n",
    "    Dropout(dropout_rate),\n",
    "    Dense(layer_02_neurons, activation=activation_02),\n",
    "    Dropout(dropout_rate),\n",
    "    # seulement si on met une troisième couche:\n",
    "    Dense(layer_03_neurons, activation=activation_03),\n",
    "    Dropout(dropout_rate),\n",
    "    Dense(num_classes, activation=activation_output)  # Activation softmax pour la classification multi-classes\n",
    "])\n",
    "\n",
    "\n",
    "# Compiler le modèle\n",
    "model.compile(optimizer=optimizer, loss=my_loss, metrics=metrics)\n",
    "\n",
    "# Entraîner le modèle\n",
    "history = model.fit(X_train_scaled, y_train_adjusted, \n",
    "                    validation_data=(X_test_scaled, y_test_adjusted), \n",
    "                    epochs=epochs, \n",
    "                    batch_size=batch_size)\n",
    "\n",
    "end_time = time.time()\n",
    "exec_time = end_time - start_time\n",
    "print(f\"Temps d'apprentissage = {exec_time:.2f} secondes\")"
   ]
  },
  {
   "cell_type": "code",
   "execution_count": 97,
   "metadata": {},
   "outputs": [
    {
     "name": "stdout",
     "output_type": "stream",
     "text": [
      "\u001b[1m773/773\u001b[0m \u001b[32m━━━━━━━━━━━━━━━━━━━━\u001b[0m\u001b[37m\u001b[0m \u001b[1m1s\u001b[0m 705us/step  \n",
      "Test Loss: 0.312\n",
      "Test Accuracy: 0.873\n",
      "F1-score: 0.872\n",
      "Recall: 0.873\n"
     ]
    }
   ],
   "source": [
    "\n",
    "# Évaluer les performances sur le jeu de test\n",
    "from sklearn.metrics import f1_score, recall_score\n",
    "\n",
    "# Evaluate the model to get loss and accuracy\n",
    "loss, accuracy = model.evaluate(X_test_scaled, y_test_adjusted, verbose=0)\n",
    "\n",
    "# Predict the classes for the test set\n",
    "y_pred = model.predict(X_test_scaled)\n",
    "y_pred_classes = y_pred.argmax(axis=1)  # Get class indices for predictions\n",
    "\n",
    "# Compute F1-score and Recall\n",
    "f1 = f1_score(y_test_adjusted, y_pred_classes, average='weighted')  # Weighted for class imbalance\n",
    "recall = recall_score(y_test_adjusted, y_pred_classes, average='weighted')\n",
    "\n",
    "# Display the results\n",
    "print(f\"Test Loss: {loss:.3f}\")\n",
    "print(f\"Test Accuracy: {accuracy:.3f}\")\n",
    "print(f\"F1-score: {f1:.3f}\")\n",
    "print(f\"Recall: {recall:.3f}\")"
   ]
  },
  {
   "cell_type": "markdown",
   "metadata": {},
   "source": [
    "# Représentations graphiques des résultats pour le rapport"
   ]
  },
  {
   "cell_type": "code",
   "execution_count": 98,
   "metadata": {},
   "outputs": [
    {
     "data": {
      "image/png": "[encoded data removed]",
      "text/plain": [
       "<Figure size 640x480 with 1 Axes>"
      ]
     },
     "metadata": {},
     "output_type": "display_data"
    },
    {
     "name": "stdout",
     "output_type": "stream",
     "text": [
      "Temps d'apprentissage = 636 secondes\n"
     ]
    }
   ],
   "source": [
    "\n",
    "# Visualiser les performances pendant l'entraînement\n",
    "import matplotlib.pyplot as plt\n",
    "\n",
    "plt.plot(history.history['accuracy'], label='Train Accuracy')\n",
    "plt.plot(history.history['val_accuracy'], label='Validation Accuracy')\n",
    "plt.xlabel('Epochs')\n",
    "plt.ylabel('Accuracy')\n",
    "plt.legend()\n",
    "plt.title('Model Performance')\n",
    "plt.show()\n",
    "print(f\"Temps d'apprentissage = {exec_time:.0f} secondes\")"
   ]
  },
  {
   "cell_type": "code",
   "execution_count": 109,
   "metadata": {},
   "outputs": [],
   "source": [
    "name='Neural Network with dense layers'\n",
    "hyperparams = f'layer_01_neurons={layer_01_neurons}, layer_02_neurons={layer_02_neurons}, activation_01={activation_01}, activation_02={activation_02}, dropout_rate={dropout_rate}, optimizer={optimizer}, loss={my_loss}, epochs={epochs}, batch_size={batch_size}'"
   ]
  },
  {
   "cell_type": "code",
   "execution_count": 110,
   "metadata": {},
   "outputs": [
    {
     "name": "stdout",
     "output_type": "stream",
     "text": [
      "\n",
      "🔹 Matrice de confusion pour Neural Network with dense layers and layer_01_neurons=256, layer_02_neurons=256, activation_01=relu, activation_02=relu, dropout_rate=0.2, optimizer=adam, loss=sparse_categorical_crossentropy, epochs=200, batch_size=32🔹\n"
     ]
    },
    {
     "data": {
      "image/png": "[encoded data removed]",
      "text/plain": [
       "<Figure size 800x600 with 2 Axes>"
      ]
     },
     "metadata": {},
     "output_type": "display_data"
    },
    {
     "name": "stdout",
     "output_type": "stream",
     "text": [
      "Test Accuracy: 0.873\n",
      "F1-score: 0.872\n",
      "Recall: 0.873\n"
     ]
    }
   ],
   "source": [
    "# y_pred_classes predicts the class -1, so the marix will have to take an corrected input\n",
    "y_pred_class_corrected = y_pred_classes + 1\n",
    "display_norm_matrix(name, y_pred_class_corrected, y_test_adjusted+1, hyperparams=hyperparams)\n",
    "print(f\"Test Accuracy: {accuracy:.3f}\")\n",
    "print(f\"F1-score: {f1:.3f}\")\n",
    "print(f\"Recall: {recall:.3f}\")"
   ]
  },
  {
   "cell_type": "code",
   "execution_count": 101,
   "metadata": {},
   "outputs": [],
   "source": [
    "# display_roc(X_test_scaled, y_test, y_pred, model)"
   ]
  },
  {
   "cell_type": "markdown",
   "metadata": {},
   "source": [
    "On ne ressent pas pour ce modèle le besoin d'égaliser les classes sur le dataset d'entraînement  "
   ]
  },
  {
   "cell_type": "markdown",
   "metadata": {},
   "source": [
    "# Tentatives d'optimisation par randomizedSearchCV"
   ]
  },
  {
   "cell_type": "markdown",
   "metadata": {},
   "source": [
    "Ceci ne s'appliquera pas pour le paramétrage d'un réseau de neurones"
   ]
  },
  {
   "cell_type": "markdown",
   "metadata": {},
   "source": [
    "# Tentative d'optimisation par pénalité"
   ]
  },
  {
   "cell_type": "markdown",
   "metadata": {},
   "source": [
    "à voir si le besoin se fait sentir au vu des résultats.  \n",
    "Ce sera seulement faisable si l'on a one_hot_encoded y_train et y_test"
   ]
  },
  {
   "cell_type": "code",
   "execution_count": 102,
   "metadata": {},
   "outputs": [],
   "source": [
    "# paramètres pour ce chapitre:\n",
    "threshold = 0.012 # par exemple 0.1 pour 10% de favorisation"
   ]
  },
  {
   "cell_type": "code",
   "execution_count": 103,
   "metadata": {},
   "outputs": [
    {
     "data": {
      "text/plain": [
       "' # Prédire les classes sur les données de test\\ny_prob = model.predict_proba(X_test_scaled)\\n\\ny_adjusted_pred= adjust_with_penalty(y_prob,threshold) '"
      ]
     },
     "execution_count": 103,
     "metadata": {},
     "output_type": "execute_result"
    }
   ],
   "source": [
    "\"\"\" # Prédire les classes sur les données de test\n",
    "y_prob = model.predict_proba(X_test_scaled)\n",
    "\n",
    "y_adjusted_pred= adjust_with_penalty(y_prob,threshold) \"\"\""
   ]
  },
  {
   "cell_type": "code",
   "execution_count": 104,
   "metadata": {},
   "outputs": [
    {
     "data": {
      "text/plain": [
       "' from sklearn.metrics import accuracy_score, f1_score, recall_score\\n\\n# Calculate new metrics\\nadjusted_accuracy = accuracy_score(y_test, y_adjusted_pred)\\nadjusted_f1 = f1_score(y_test, y_adjusted_pred, average=\\'weighted\\')\\nadjusted_recall = recall_score(y_test, y_adjusted_pred, average=\\'weighted\\')  # Include recall calculation\\n\\n# Print the metrics\\nprint(f\"Adjusted Accuracy: {adjusted_accuracy:.4f}\")\\nprint(f\"Adjusted F1-Score: {adjusted_f1:.4f}\")\\nprint(f\"Adjusted Recall: {adjusted_recall:.4f}\")\\n '"
      ]
     },
     "execution_count": 104,
     "metadata": {},
     "output_type": "execute_result"
    }
   ],
   "source": [
    "\"\"\" from sklearn.metrics import accuracy_score, f1_score, recall_score\n",
    "\n",
    "# Calculate new metrics\n",
    "adjusted_accuracy = accuracy_score(y_test, y_adjusted_pred)\n",
    "adjusted_f1 = f1_score(y_test, y_adjusted_pred, average='weighted')\n",
    "adjusted_recall = recall_score(y_test, y_adjusted_pred, average='weighted')  # Include recall calculation\n",
    "\n",
    "# Print the metrics\n",
    "print(f\"Adjusted Accuracy: {adjusted_accuracy:.4f}\")\n",
    "print(f\"Adjusted F1-Score: {adjusted_f1:.4f}\")\n",
    "print(f\"Adjusted Recall: {adjusted_recall:.4f}\")\n",
    " \"\"\""
   ]
  },
  {
   "cell_type": "code",
   "execution_count": 105,
   "metadata": {},
   "outputs": [
    {
     "data": {
      "text/plain": [
       "' \\ndifferences, count_misadjustments, count_right_adjustments = check_differences(y_pred, y_adjusted_pred, y_test)\\ndisplay(differences)\\nprint(\"\\nCount of misadjustments (real_3 to 2):      \", count_misadjustments)\\nprint(\"Count of rightful adjustments (real_2 to 2):\", count_right_adjustments) '"
      ]
     },
     "execution_count": 105,
     "metadata": {},
     "output_type": "execute_result"
    }
   ],
   "source": [
    "\"\"\" \n",
    "differences, count_misadjustments, count_right_adjustments = check_differences(y_pred, y_adjusted_pred, y_test)\n",
    "display(differences)\n",
    "print(\"\\nCount of misadjustments (real_3 to 2):      \", count_misadjustments)\n",
    "print(\"Count of rightful adjustments (real_2 to 2):\", count_right_adjustments) \"\"\""
   ]
  },
  {
   "cell_type": "markdown",
   "metadata": {},
   "source": [
    "Ici, on remarque que dès les premières lignes affectées par la pénalité, on commence à classer des lignes de classe réelles 3 en classe 2, donc cela explique qu'on n'améliore pas la performance avec la pénalité."
   ]
  },
  {
   "cell_type": "markdown",
   "metadata": {},
   "source": [
    "Puis faire des représentations graphiques pour le rapport"
   ]
  },
  {
   "cell_type": "markdown",
   "metadata": {},
   "source": [
    "# Interprêtabilité des résultats"
   ]
  },
  {
   "cell_type": "code",
   "execution_count": 106,
   "metadata": {},
   "outputs": [
    {
     "name": "stdout",
     "output_type": "stream",
     "text": [
      "Architecture du modèle (plan de construction) :\n",
      "{'name': 'sequential_4', 'trainable': True, 'dtype': {'module': 'keras', 'class_name': 'DTypePolicy', 'config': {'name': 'float32'}, 'registered_name': None}, 'layers': [{'module': 'keras.layers', 'class_name': 'InputLayer', 'config': {'batch_shape': (None, 24), 'dtype': 'float32', 'sparse': False, 'name': 'input_layer_4'}, 'registered_name': None}, {'module': 'keras.layers', 'class_name': 'Dense', 'config': {'name': 'dense_16', 'trainable': True, 'dtype': {'module': 'keras', 'class_name': 'DTypePolicy', 'config': {'name': 'float32'}, 'registered_name': None}, 'units': 256, 'activation': 'relu', 'use_bias': True, 'kernel_initializer': {'module': 'keras.initializers', 'class_name': 'GlorotUniform', 'config': {'seed': None}, 'registered_name': None}, 'bias_initializer': {'module': 'keras.initializers', 'class_name': 'Zeros', 'config': {}, 'registered_name': None}, 'kernel_regularizer': None, 'bias_regularizer': None, 'kernel_constraint': None, 'bias_constraint': None}, 'registered_name': None, 'build_config': {'input_shape': (None, 24)}}, {'module': 'keras.layers', 'class_name': 'Dropout', 'config': {'name': 'dropout_12', 'trainable': True, 'dtype': {'module': 'keras', 'class_name': 'DTypePolicy', 'config': {'name': 'float32'}, 'registered_name': None}, 'rate': 0.2, 'seed': None, 'noise_shape': None}, 'registered_name': None}, {'module': 'keras.layers', 'class_name': 'Dense', 'config': {'name': 'dense_17', 'trainable': True, 'dtype': {'module': 'keras', 'class_name': 'DTypePolicy', 'config': {'name': 'float32'}, 'registered_name': None}, 'units': 256, 'activation': 'relu', 'use_bias': True, 'kernel_initializer': {'module': 'keras.initializers', 'class_name': 'GlorotUniform', 'config': {'seed': None}, 'registered_name': None}, 'bias_initializer': {'module': 'keras.initializers', 'class_name': 'Zeros', 'config': {}, 'registered_name': None}, 'kernel_regularizer': None, 'bias_regularizer': None, 'kernel_constraint': None, 'bias_constraint': None}, 'registered_name': None, 'build_config': {'input_shape': (None, 256)}}, {'module': 'keras.layers', 'class_name': 'Dropout', 'config': {'name': 'dropout_13', 'trainable': True, 'dtype': {'module': 'keras', 'class_name': 'DTypePolicy', 'config': {'name': 'float32'}, 'registered_name': None}, 'rate': 0.2, 'seed': None, 'noise_shape': None}, 'registered_name': None}, {'module': 'keras.layers', 'class_name': 'Dense', 'config': {'name': 'dense_18', 'trainable': True, 'dtype': {'module': 'keras', 'class_name': 'DTypePolicy', 'config': {'name': 'float32'}, 'registered_name': None}, 'units': 64, 'activation': 'relu', 'use_bias': True, 'kernel_initializer': {'module': 'keras.initializers', 'class_name': 'GlorotUniform', 'config': {'seed': None}, 'registered_name': None}, 'bias_initializer': {'module': 'keras.initializers', 'class_name': 'Zeros', 'config': {}, 'registered_name': None}, 'kernel_regularizer': None, 'bias_regularizer': None, 'kernel_constraint': None, 'bias_constraint': None}, 'registered_name': None, 'build_config': {'input_shape': (None, 256)}}, {'module': 'keras.layers', 'class_name': 'Dropout', 'config': {'name': 'dropout_14', 'trainable': True, 'dtype': {'module': 'keras', 'class_name': 'DTypePolicy', 'config': {'name': 'float32'}, 'registered_name': None}, 'rate': 0.2, 'seed': None, 'noise_shape': None}, 'registered_name': None}, {'module': 'keras.layers', 'class_name': 'Dense', 'config': {'name': 'dense_19', 'trainable': True, 'dtype': {'module': 'keras', 'class_name': 'DTypePolicy', 'config': {'name': 'float32'}, 'registered_name': None}, 'units': 7, 'activation': 'softmax', 'use_bias': True, 'kernel_initializer': {'module': 'keras.initializers', 'class_name': 'GlorotUniform', 'config': {'seed': None}, 'registered_name': None}, 'bias_initializer': {'module': 'keras.initializers', 'class_name': 'Zeros', 'config': {}, 'registered_name': None}, 'kernel_regularizer': None, 'bias_regularizer': None, 'kernel_constraint': None, 'bias_constraint': None}, 'registered_name': None, 'build_config': {'input_shape': (None, 64)}}], 'build_input_shape': (None, 24)}\n",
      "\n",
      "---\n",
      "Résumé du modèle (présentation rapide) :\n"
     ]
    },
    {
     "data": {
      "text/html": [
       "<pre style=\"white-space:pre;overflow-x:auto;line-height:normal;font-family:Menlo,'DejaVu Sans Mono',consolas,'Courier New',monospace\"><span style=\"font-weight: bold\">Model: \"sequential_4\"</span>\n",
       "</pre>\n"
      ],
      "text/plain": [
       "\u001b[1mModel: \"sequential_4\"\u001b[0m\n"
      ]
     },
     "metadata": {},
     "output_type": "display_data"
    },
    {
     "data": {
      "text/html": [
       "<pre style=\"white-space:pre;overflow-x:auto;line-height:normal;font-family:Menlo,'DejaVu Sans Mono',consolas,'Courier New',monospace\">┏━━━━━━━━━━━━━━━━━━━━━━━━━━━━━━━━━┳━━━━━━━━━━━━━━━━━━━━━━━━┳━━━━━━━━━━━━━━━┓\n",
       "┃<span style=\"font-weight: bold\"> Layer (type)                    </span>┃<span style=\"font-weight: bold\"> Output Shape           </span>┃<span style=\"font-weight: bold\">       Param # </span>┃\n",
       "┡━━━━━━━━━━━━━━━━━━━━━━━━━━━━━━━━━╇━━━━━━━━━━━━━━━━━━━━━━━━╇━━━━━━━━━━━━━━━┩\n",
       "│ dense_16 (<span style=\"color: #0087ff; text-decoration-color: #0087ff\">Dense</span>)                │ (<span style=\"color: #00d7ff; text-decoration-color: #00d7ff\">None</span>, <span style=\"color: #00af00; text-decoration-color: #00af00\">256</span>)            │         <span style=\"color: #00af00; text-decoration-color: #00af00\">6,400</span> │\n",
       "├─────────────────────────────────┼────────────────────────┼───────────────┤\n",
       "│ dropout_12 (<span style=\"color: #0087ff; text-decoration-color: #0087ff\">Dropout</span>)            │ (<span style=\"color: #00d7ff; text-decoration-color: #00d7ff\">None</span>, <span style=\"color: #00af00; text-decoration-color: #00af00\">256</span>)            │             <span style=\"color: #00af00; text-decoration-color: #00af00\">0</span> │\n",
       "├─────────────────────────────────┼────────────────────────┼───────────────┤\n",
       "│ dense_17 (<span style=\"color: #0087ff; text-decoration-color: #0087ff\">Dense</span>)                │ (<span style=\"color: #00d7ff; text-decoration-color: #00d7ff\">None</span>, <span style=\"color: #00af00; text-decoration-color: #00af00\">256</span>)            │        <span style=\"color: #00af00; text-decoration-color: #00af00\">65,792</span> │\n",
       "├─────────────────────────────────┼────────────────────────┼───────────────┤\n",
       "│ dropout_13 (<span style=\"color: #0087ff; text-decoration-color: #0087ff\">Dropout</span>)            │ (<span style=\"color: #00d7ff; text-decoration-color: #00d7ff\">None</span>, <span style=\"color: #00af00; text-decoration-color: #00af00\">256</span>)            │             <span style=\"color: #00af00; text-decoration-color: #00af00\">0</span> │\n",
       "├─────────────────────────────────┼────────────────────────┼───────────────┤\n",
       "│ dense_18 (<span style=\"color: #0087ff; text-decoration-color: #0087ff\">Dense</span>)                │ (<span style=\"color: #00d7ff; text-decoration-color: #00d7ff\">None</span>, <span style=\"color: #00af00; text-decoration-color: #00af00\">64</span>)             │        <span style=\"color: #00af00; text-decoration-color: #00af00\">16,448</span> │\n",
       "├─────────────────────────────────┼────────────────────────┼───────────────┤\n",
       "│ dropout_14 (<span style=\"color: #0087ff; text-decoration-color: #0087ff\">Dropout</span>)            │ (<span style=\"color: #00d7ff; text-decoration-color: #00d7ff\">None</span>, <span style=\"color: #00af00; text-decoration-color: #00af00\">64</span>)             │             <span style=\"color: #00af00; text-decoration-color: #00af00\">0</span> │\n",
       "├─────────────────────────────────┼────────────────────────┼───────────────┤\n",
       "│ dense_19 (<span style=\"color: #0087ff; text-decoration-color: #0087ff\">Dense</span>)                │ (<span style=\"color: #00d7ff; text-decoration-color: #00d7ff\">None</span>, <span style=\"color: #00af00; text-decoration-color: #00af00\">7</span>)              │           <span style=\"color: #00af00; text-decoration-color: #00af00\">455</span> │\n",
       "└─────────────────────────────────┴────────────────────────┴───────────────┘\n",
       "</pre>\n"
      ],
      "text/plain": [
       "┏━━━━━━━━━━━━━━━━━━━━━━━━━━━━━━━━━┳━━━━━━━━━━━━━━━━━━━━━━━━┳━━━━━━━━━━━━━━━┓\n",
       "┃\u001b[1m \u001b[0m\u001b[1mLayer (type)                   \u001b[0m\u001b[1m \u001b[0m┃\u001b[1m \u001b[0m\u001b[1mOutput Shape          \u001b[0m\u001b[1m \u001b[0m┃\u001b[1m \u001b[0m\u001b[1m      Param #\u001b[0m\u001b[1m \u001b[0m┃\n",
       "┡━━━━━━━━━━━━━━━━━━━━━━━━━━━━━━━━━╇━━━━━━━━━━━━━━━━━━━━━━━━╇━━━━━━━━━━━━━━━┩\n",
       "│ dense_16 (\u001b[38;5;33mDense\u001b[0m)                │ (\u001b[38;5;45mNone\u001b[0m, \u001b[38;5;34m256\u001b[0m)            │         \u001b[38;5;34m6,400\u001b[0m │\n",
       "├─────────────────────────────────┼────────────────────────┼───────────────┤\n",
       "│ dropout_12 (\u001b[38;5;33mDropout\u001b[0m)            │ (\u001b[38;5;45mNone\u001b[0m, \u001b[38;5;34m256\u001b[0m)            │             \u001b[38;5;34m0\u001b[0m │\n",
       "├─────────────────────────────────┼────────────────────────┼───────────────┤\n",
       "│ dense_17 (\u001b[38;5;33mDense\u001b[0m)                │ (\u001b[38;5;45mNone\u001b[0m, \u001b[38;5;34m256\u001b[0m)            │        \u001b[38;5;34m65,792\u001b[0m │\n",
       "├─────────────────────────────────┼────────────────────────┼───────────────┤\n",
       "│ dropout_13 (\u001b[38;5;33mDropout\u001b[0m)            │ (\u001b[38;5;45mNone\u001b[0m, \u001b[38;5;34m256\u001b[0m)            │             \u001b[38;5;34m0\u001b[0m │\n",
       "├─────────────────────────────────┼────────────────────────┼───────────────┤\n",
       "│ dense_18 (\u001b[38;5;33mDense\u001b[0m)                │ (\u001b[38;5;45mNone\u001b[0m, \u001b[38;5;34m64\u001b[0m)             │        \u001b[38;5;34m16,448\u001b[0m │\n",
       "├─────────────────────────────────┼────────────────────────┼───────────────┤\n",
       "│ dropout_14 (\u001b[38;5;33mDropout\u001b[0m)            │ (\u001b[38;5;45mNone\u001b[0m, \u001b[38;5;34m64\u001b[0m)             │             \u001b[38;5;34m0\u001b[0m │\n",
       "├─────────────────────────────────┼────────────────────────┼───────────────┤\n",
       "│ dense_19 (\u001b[38;5;33mDense\u001b[0m)                │ (\u001b[38;5;45mNone\u001b[0m, \u001b[38;5;34m7\u001b[0m)              │           \u001b[38;5;34m455\u001b[0m │\n",
       "└─────────────────────────────────┴────────────────────────┴───────────────┘\n"
      ]
     },
     "metadata": {},
     "output_type": "display_data"
    },
    {
     "data": {
      "text/html": [
       "<pre style=\"white-space:pre;overflow-x:auto;line-height:normal;font-family:Menlo,'DejaVu Sans Mono',consolas,'Courier New',monospace\"><span style=\"font-weight: bold\"> Total params: </span><span style=\"color: #00af00; text-decoration-color: #00af00\">267,287</span> (1.02 MB)\n",
       "</pre>\n"
      ],
      "text/plain": [
       "\u001b[1m Total params: \u001b[0m\u001b[38;5;34m267,287\u001b[0m (1.02 MB)\n"
      ]
     },
     "metadata": {},
     "output_type": "display_data"
    },
    {
     "data": {
      "text/html": [
       "<pre style=\"white-space:pre;overflow-x:auto;line-height:normal;font-family:Menlo,'DejaVu Sans Mono',consolas,'Courier New',monospace\"><span style=\"font-weight: bold\"> Trainable params: </span><span style=\"color: #00af00; text-decoration-color: #00af00\">89,095</span> (348.03 KB)\n",
       "</pre>\n"
      ],
      "text/plain": [
       "\u001b[1m Trainable params: \u001b[0m\u001b[38;5;34m89,095\u001b[0m (348.03 KB)\n"
      ]
     },
     "metadata": {},
     "output_type": "display_data"
    },
    {
     "data": {
      "text/html": [
       "<pre style=\"white-space:pre;overflow-x:auto;line-height:normal;font-family:Menlo,'DejaVu Sans Mono',consolas,'Courier New',monospace\"><span style=\"font-weight: bold\"> Non-trainable params: </span><span style=\"color: #00af00; text-decoration-color: #00af00\">0</span> (0.00 B)\n",
       "</pre>\n"
      ],
      "text/plain": [
       "\u001b[1m Non-trainable params: \u001b[0m\u001b[38;5;34m0\u001b[0m (0.00 B)\n"
      ]
     },
     "metadata": {},
     "output_type": "display_data"
    },
    {
     "data": {
      "text/html": [
       "<pre style=\"white-space:pre;overflow-x:auto;line-height:normal;font-family:Menlo,'DejaVu Sans Mono',consolas,'Courier New',monospace\"><span style=\"font-weight: bold\"> Optimizer params: </span><span style=\"color: #00af00; text-decoration-color: #00af00\">178,192</span> (696.07 KB)\n",
       "</pre>\n"
      ],
      "text/plain": [
       "\u001b[1m Optimizer params: \u001b[0m\u001b[38;5;34m178,192\u001b[0m (696.07 KB)\n"
      ]
     },
     "metadata": {},
     "output_type": "display_data"
    },
    {
     "name": "stdout",
     "output_type": "stream",
     "text": [
      "\n",
      "---\n",
      "Poids appris par le modèle (compétences acquises après entraînement) :\n",
      "Poids de la couche 1: [[-0.03765621  1.3932848   1.1246043  ... -0.5946082   1.6924555\n",
      "  -2.0660255 ]\n",
      " [ 0.14445065  0.64175606 -0.75390464 ...  0.1158729  -1.7141234\n",
      "  -0.2817989 ]\n",
      " [ 0.48294327 -1.0801408   0.02712201 ...  0.1467694   0.04008402\n",
      "   0.1758022 ]\n",
      " ...\n",
      " [ 0.7939574  -0.7027717  -0.01594198 ...  0.62694407 -0.22582658\n",
      "  -0.24520993]\n",
      " [-0.3182729   0.01090026  0.28084168 ... -0.63731533 -0.01596835\n",
      "   0.09134627]\n",
      " [-0.8115197  -0.16556491 -1.348914   ...  0.7049218  -0.35283506\n",
      "   0.03133171]]\n",
      "Poids de la couche 2: [-0.01941763 -0.44886017 -0.8390359  -0.4030353  -0.50564754 -1.4069694\n",
      " -0.1739052  -1.2986931  -0.6853544  -0.37034947 -0.59078294 -0.47320044\n",
      "  0.18069832 -0.3389895  -0.55685353 -0.81105363 -0.05208116 -0.88003266\n",
      " -1.0147629  -0.57050276 -1.1311706  -0.9421299  -0.66690075 -0.2952677\n",
      " -1.9478838  -0.52871716 -0.19847627 -0.88972044 -0.32217187 -0.14940427\n",
      " -1.2707602  -1.8045096  -0.3957083  -1.6558855  -0.14663969 -0.37971127\n",
      " -1.3669943  -0.48753586 -0.25275674 -0.8312376  -0.640714   -0.48344278\n",
      " -0.15771882 -2.2201855  -0.20948644 -0.45302424 -0.18652429 -0.25981602\n",
      " -0.6531791  -0.7788137  -0.9772288  -1.7343237   0.1539871  -0.29821774\n",
      " -0.22919387 -0.75683653 -0.42485058 -0.31707093 -0.13727993 -2.225339\n",
      " -0.5808071  -0.3666373   0.00627049 -0.8890255  -0.9170678  -0.57140476\n",
      " -0.8380448  -0.6711144  -0.14171974 -0.12184401 -1.0852231  -0.08318058\n",
      " -0.24668613 -0.3186126  -0.79619586  0.0493311  -0.5709039  -0.7292093\n",
      " -1.1906543  -0.5304433  -1.8653926  -0.20478545 -0.08678377 -0.5716983\n",
      " -0.3706046  -0.93025225 -1.9439912  -0.24614668 -1.4535561  -0.58524877\n",
      " -0.4935346  -0.5464563  -0.3901752  -0.8230068  -0.5436135  -1.004902\n",
      " -1.076777   -0.22151737 -0.4028939  -0.39816946 -0.5121044  -0.6264089\n",
      " -1.2762656  -0.4130812  -2.44667    -0.6157479  -0.62037724 -0.89385664\n",
      "  0.15928602 -1.5799587  -0.1766029  -1.595077   -0.11622456 -1.0720404\n",
      " -0.9010473  -0.5402643  -1.1455727  -0.84992456 -0.72964615 -0.58821356\n",
      " -0.6439626  -0.5523691  -0.10841641 -1.4381948  -0.5370871  -0.48334417\n",
      " -1.2618364  -0.19377798 -0.3115266  -0.57898074 -0.10232135 -0.48223943\n",
      " -0.55173016 -0.20287    -0.64269    -0.6336323  -0.6938249  -0.33163518\n",
      " -0.7031349  -0.49076855 -0.0489259  -0.62506634 -1.1500335  -0.24319616\n",
      " -0.62872607  0.02809287 -0.18874454 -1.0332053  -1.1544505  -0.35417017\n",
      " -0.8789368  -0.63822895 -0.24757512  0.01281509 -1.3978114  -0.6444927\n",
      " -0.03219412 -0.48100495 -0.7479928  -0.49518064 -0.95429593 -1.228588\n",
      " -0.8527332  -0.52799886 -0.03162363 -0.73290116 -0.58813715 -1.1106068\n",
      " -0.9863785  -0.6194013  -0.23269953 -1.0110316  -0.7824088  -0.5924873\n",
      " -0.311064   -0.8830592  -0.8003171  -0.59007215 -0.8551405  -0.3169178\n",
      " -0.6182594   0.21746565 -1.2346035  -0.30874875 -0.654101   -0.33417296\n",
      " -0.8490765  -0.43149176 -0.90952265 -0.4628411  -0.40386772 -0.8603868\n",
      "  0.02034973 -1.4963645  -1.4293103  -1.9150227  -0.4044772  -0.66794324\n",
      " -0.840247   -0.41875517 -0.23140809 -0.5268116  -1.2999547  -0.2934994\n",
      " -0.82358575 -0.9025194  -0.3269122   0.01884933 -1.1753788  -0.57911855\n",
      " -0.18583956 -0.5348442  -0.4135296  -0.66091925 -0.26415297 -0.9469187\n",
      " -0.3826569   0.07872667 -0.4679005  -0.84762996 -0.23815677 -1.6940721\n",
      " -1.2394679  -0.20308658 -0.41358352 -0.41686764 -0.75454766 -0.69461584\n",
      "  0.03021124 -0.4415425  -0.04039163 -0.54993546 -0.10359822 -1.1993306\n",
      " -0.49850866 -1.0385159  -0.47415528 -1.0264083   0.00574669 -0.66646636\n",
      " -0.17074066 -0.71157014 -0.30960786 -0.8315872  -0.59494066 -0.32718444\n",
      " -0.15005025 -1.3870618  -0.77955365 -0.48867223 -0.47681755 -0.00588486\n",
      "  0.0356191  -2.7601967  -0.44159943 -0.31443858]\n",
      "Poids de la couche 3: [[ 0.21829912 -2.3917787  -0.12630223 ... -0.37368634 -0.51961344\n",
      "   0.25877485]\n",
      " [ 0.02128784  0.11712193  0.3145043  ... -1.7649392  -1.5888673\n",
      "   0.03604063]\n",
      " [-0.43658376  0.18028182 -1.5249201  ...  1.5074602  -0.2670251\n",
      "  -2.7663264 ]\n",
      " ...\n",
      " [-2.3890822   1.3179982   0.83306307 ... -0.2634404  -0.14563836\n",
      "   0.02117582]\n",
      " [ 0.04770786  0.22884907  0.08126171 ... -0.0817837  -0.6684586\n",
      "  -0.19158699]\n",
      " [-0.29486477  0.24635464 -2.4647174  ... -0.65194803 -0.46289915\n",
      "  -0.5591568 ]]\n",
      "Poids de la couche 4: [ 4.25746322e-01  1.53002948e-01 -3.37648720e-01 -5.09613812e-01\n",
      "  7.26420358e-02  8.41392875e-01 -1.16308928e+00  1.56234831e-01\n",
      "  3.06708157e-01 -8.13948393e-01 -3.24788308e+00  7.50680625e-01\n",
      " -9.88692284e-01 -8.61454904e-02  1.44032329e-01 -3.60403633e+00\n",
      " -5.73785961e-01  4.22997624e-01 -7.92093948e-02  9.33142364e-01\n",
      "  2.79576123e-01 -1.76474953e+00  5.15365899e-01 -7.73845732e-01\n",
      "  2.19072446e-01 -2.57057500e+00 -8.15844610e-02  8.37378323e-01\n",
      " -1.08225322e+00 -7.74286807e-01 -4.93017912e+00 -1.14086711e+00\n",
      " -9.87418890e-01 -1.55679643e-01  1.21601307e+00 -2.45716676e-01\n",
      " -3.99660438e-01  4.30651337e-01 -2.24647188e+00 -1.53453755e+00\n",
      " -3.56650615e+00 -3.11726379e+00 -7.63432980e-02  2.69624680e-01\n",
      " -2.68482119e-01  4.57149476e-01 -3.15963596e-01 -6.40764618e+00\n",
      "  5.23514569e-01  3.87647063e-01 -3.55316907e-01 -1.39657032e+00\n",
      " -1.02436371e-01  4.57016557e-01  3.82471263e-01 -1.48075894e-01\n",
      " -4.10723463e-02 -5.58549643e-01 -6.22558415e-01 -7.24150911e-02\n",
      "  2.96488702e-01  2.55507797e-01 -2.72543073e+00 -3.58523512e+00\n",
      "  1.51206061e-01 -2.97036856e-01 -1.74092114e+00 -6.68766141e-01\n",
      " -3.37407768e-01 -1.04059422e+00  1.78644165e-01 -1.17478827e-02\n",
      "  1.48491293e-01 -8.43629181e-01  6.45718575e-02 -1.95615637e+00\n",
      "  3.48941058e-01  9.49372828e-01 -1.10032713e+00 -5.28954935e+00\n",
      "  4.05421764e-01 -1.55736864e+00  5.12183070e-01 -2.64002299e+00\n",
      " -3.00412107e+00  2.23429561e-01 -1.98811328e+00  4.95501906e-01\n",
      " -7.00627685e-01 -9.13436294e-01  3.57521027e-01 -1.16470909e+00\n",
      "  6.35962069e-01 -4.53071260e+00 -4.25087833e+00 -8.70828986e-01\n",
      " -5.46313941e-01  6.39945626e-01 -5.21950331e-03  4.24513191e-01\n",
      " -2.69301009e+00 -3.35133529e+00  1.02018893e+00  1.23171437e+00\n",
      "  4.31660116e-01 -7.96120048e-01 -1.44220269e+00  3.19008902e-02\n",
      " -8.95217955e-01 -1.93672597e+00  4.33540255e-01  7.16077447e-01\n",
      "  2.89426804e-01 -1.34795833e+00 -5.82402825e-01 -4.19709826e+00\n",
      "  1.03557818e-01 -1.85240197e+00  1.37970895e-02 -3.92484188e+00\n",
      " -1.69898176e+00 -1.13821185e+00  2.78146088e-01  1.21446323e+00\n",
      "  1.43012941e-01  3.45248848e-01 -8.89229476e-02  2.72861511e-01\n",
      "  5.35038114e-01  6.34924889e-01  5.57714999e-01 -6.53636754e-01\n",
      " -1.18042004e+00 -1.62443101e+00 -3.55136991e+00 -2.21891189e+00\n",
      " -3.99035007e-01 -3.67751122e-01  6.02113605e-01  9.27007079e-01\n",
      "  2.77748723e-02 -1.75433385e+00  2.27612779e-01 -2.40798974e+00\n",
      " -3.97728860e-01 -3.91432452e+00  4.20675904e-01  4.53412890e-01\n",
      " -3.73015046e+00 -1.92814100e+00  4.75166768e-01  5.15825348e-03\n",
      " -1.48931086e+00  1.95103213e-02  6.13083720e-01 -4.63876814e-01\n",
      "  5.25840938e-01  1.45991370e-01  4.12419736e-01 -2.12907529e+00\n",
      " -9.22857463e-01 -1.97826421e+00 -5.45555890e-01 -2.72968337e-02\n",
      " -1.02572608e+00 -2.81762123e+00 -1.30325305e+00 -1.71872959e-01\n",
      " -1.18508339e+00 -4.21484232e-01 -6.80941865e-02  1.94449916e-01\n",
      " -2.54337519e-01  5.69329202e-01 -1.03892648e+00  8.23790431e-01\n",
      " -1.01732171e+00  5.28040081e-02 -2.86171556e-01  2.35467795e-02\n",
      " -7.88051844e-01  2.61448264e-01  2.18253527e-02  9.66201186e-01\n",
      "  4.35357392e-02  4.42280561e-01 -2.08451629e-01  3.22697848e-01\n",
      "  4.04702276e-01 -2.39038825e+00  5.00513971e-01 -3.12239975e-01\n",
      " -4.18846369e-01  3.95829052e-01 -4.24001634e-01 -6.97687045e-02\n",
      "  4.32535529e-01  1.30493492e-01 -3.28803325e+00  5.83749533e-01\n",
      " -1.22614980e+00 -1.70241043e-01 -1.40944421e-01 -1.24674380e-01\n",
      " -4.46553715e-03 -9.06799316e-01 -4.50444132e-01  2.92860419e-01\n",
      " -3.88112426e-01  2.94860333e-01  3.62855673e-01 -3.56465697e-01\n",
      "  1.50500033e-02 -6.74638510e-01  8.09602514e-02  5.61355293e-01\n",
      "  7.52684414e-01  9.20076445e-02 -3.38223553e+00  9.41727534e-02\n",
      "  2.78257877e-01 -1.31660843e+00  2.44865030e-01 -8.13421533e-02\n",
      "  1.91457614e-01 -2.57657743e+00 -9.28797498e-02 -1.11174977e+00\n",
      " -2.06257328e-01 -4.79446173e+00 -4.04223084e-01 -3.27529997e-01\n",
      " -1.07421601e+00 -2.74613428e+00 -1.03764586e-01 -7.65491128e-02\n",
      " -1.33652881e-01  4.54947591e-01 -3.04836178e+00 -3.64147949e+00\n",
      " -3.74656022e-02 -1.75834730e-01 -1.55328169e-01 -8.02222013e-01\n",
      " -6.87952697e-01 -9.99543786e-01 -3.80093008e-02 -6.99101150e-01\n",
      " -1.03026994e-01 -7.68923044e-01 -6.03995442e-01 -5.19758403e-01\n",
      " -3.27148885e-01 -5.11035144e-01  1.76081643e-01 -1.03805208e+00]\n",
      "Poids de la couche 5: [[-0.2268297  -0.45170757  0.09166447 ...  0.8498438   0.2291282\n",
      "  -0.9066379 ]\n",
      " [-1.7737588   0.03174076  0.7226101  ... -0.7187495  -0.45768273\n",
      "   0.475329  ]\n",
      " [ 0.6107912  -0.246483    0.4441017  ...  0.11174371 -0.7489431\n",
      "   0.98399824]\n",
      " ...\n",
      " [-0.15794562  0.1664002  -0.31330144 ...  0.19949606  0.37024003\n",
      "  -0.26946166]\n",
      " [ 0.05032698 -1.52678    -0.79919815 ...  0.13761097  0.2830203\n",
      "  -0.32731557]\n",
      " [-0.24496497  0.28151008  0.32273594 ...  0.16907354 -0.15513416\n",
      "   0.01280921]]\n",
      "Poids de la couche 6: [ 0.8952181   0.57118535  0.9478928  -1.2975576   0.4260522  -0.8922108\n",
      "  0.6142642   1.035985    0.97371155  1.0054555   0.14605835  0.9604832\n",
      "  0.775397   -0.8772166   0.57689387  0.03329094 -0.31794566 -0.5263595\n",
      " -0.18558024  1.0488071   0.236435    0.5981732  -0.29299012  1.6627902\n",
      "  1.1422836   0.35561234  1.442439    0.56362295 -1.43135    -0.4438136\n",
      " -0.01479454  1.3523042  -0.55530983 -0.48630917 -1.311764   -7.801832\n",
      "  0.38775238  0.24172178  1.3975632   1.7546479  -2.0259836   0.31974882\n",
      "  1.6403749  -0.9870295   1.8923752  -6.6549     -5.830633    0.17795053\n",
      " -2.903757    1.4389411  -3.0691955   0.04965995 -1.9807203   1.6138351\n",
      " -0.42232943 -1.4156424   0.8060756  -0.24143979  0.57354075  0.4795275\n",
      "  1.0862813   0.03373071  1.256484   -0.28452885]\n",
      "Poids de la couche 7: [[ 1.79095328e-01  1.19710714e-01  1.12304538e-01 -1.07222639e-01\n",
      "  -1.05078697e-01 -7.63513744e-02 -1.87391881e-02]\n",
      " [-1.68650305e+00 -3.58182937e-01 -2.66569763e-01 -4.35686409e-01\n",
      "  -1.09728746e-01 -1.07669145e-01 -2.32571691e-01]\n",
      " [-3.50289643e-01 -5.04075326e-02 -6.37269840e-02 -3.57359022e-01\n",
      "  -2.46563151e-01 -3.08530927e-01 -3.54388088e-01]\n",
      " [-2.60634005e-01 -6.90000057e-01 -6.06816769e-01 -4.24869061e-01\n",
      "  -3.23866248e-01 -3.00870776e-01 -2.66087502e-01]\n",
      " [-2.67269087e+00 -1.60829639e+00 -4.94639546e-01 -1.70175120e-01\n",
      "  -1.14977434e-01 -1.34218112e-01 -2.69380510e-01]\n",
      " [-6.14182055e-01 -1.12118351e+00 -6.02627575e-01 -3.78262311e-01\n",
      "  -7.37931132e-02 -6.03381395e-02 -3.12261786e-02]\n",
      " [-4.07025814e+00 -5.12079418e-01 -1.45952240e-01 -6.85847998e-02\n",
      "  -8.33668336e-02 -2.54712373e-01 -8.55346620e-01]\n",
      " [-2.40715384e+00 -3.43330204e-01 -3.52202475e-01 -9.20533687e-02\n",
      "  -8.54340494e-02 -1.10013239e-01 -1.74981162e-01]\n",
      " [ 6.35808110e-02 -3.87264639e-01 -9.51928347e-02 -4.00111228e-02\n",
      "  -1.06084175e-01 -5.93352579e-02 -2.93309450e-01]\n",
      " [-5.26468217e-01 -3.55132669e-01 -3.25575471e-01 -1.59887567e-01\n",
      "  -1.68390736e-01 -2.17281744e-01 -3.54299098e-01]\n",
      " [-1.38982832e+00  1.73454452e-02 -1.31056756e-01 -5.42286821e-02\n",
      "  -4.78622504e-02 -2.83032924e-01 -2.84800506e+00]\n",
      " [-5.32313466e-01 -2.28011727e-01 -1.57838203e-02 -6.80168625e-03\n",
      "  -1.43030599e-01 -8.47112238e-02 -6.44622594e-02]\n",
      " [-2.50068367e-01  5.28346188e-02  6.09832481e-02 -1.72691613e-01\n",
      "  -2.07286909e-01 -8.30343738e-02 -1.30616546e-01]\n",
      " [-4.79195565e-02 -5.45655414e-02 -1.35252818e-01 -1.94241852e-01\n",
      "  -1.45823970e-01 -2.00617224e-01 -7.02266842e-02]\n",
      " [-2.53190660e+00 -7.39355147e-01 -5.06161392e-01 -3.85247856e-01\n",
      "  -1.29855990e-01 -1.28224269e-01 -2.08841130e-01]\n",
      " [ 9.29704905e-02 -5.63126504e-01 -4.59305435e-01 -4.64048356e-01\n",
      "  -2.25965962e-01 -2.37596110e-01 -3.71343285e-01]\n",
      " [-4.74900126e-01 -1.24471927e+00 -6.33416831e-01 -5.29255748e-01\n",
      "  -2.04576075e-01 -1.91970631e-01 -1.80955872e-01]\n",
      " [-1.79299027e-01 -1.54709443e-01 -1.97601646e-01 -3.94594491e-01\n",
      "  -1.48593456e-01 -5.06701954e-02 -1.62636898e-02]\n",
      " [-2.54711246e+00 -7.60803342e-01 -2.64083207e-01 -1.38125956e-01\n",
      "  -6.15439229e-02 -1.19083144e-01  2.85860989e-02]\n",
      " [-5.91936037e-02 -7.58771524e-02 -5.51182628e-02 -2.07747623e-01\n",
      "  -4.50357080e-01 -4.82383221e-01 -7.20490932e-01]\n",
      " [-1.46702182e+00 -6.34588361e-01 -1.66884974e-01 -2.20632702e-02\n",
      "  -1.04000734e-03 -2.59936582e-02 -4.11898613e-01]\n",
      " [-7.02483952e-01 -4.32519704e-01 -4.46010709e-01 -6.60498559e-01\n",
      "  -5.03902674e-01 -6.11110568e-01 -1.11091936e+00]\n",
      " [-9.98338223e-01 -2.96335578e-01 -1.41784534e-01 -3.21963191e-01\n",
      "  -1.18459240e-01 -1.24777079e-01 -1.99191004e-01]\n",
      " [-7.00002491e-01 -3.38828772e-01 -1.80829436e-01 -1.75156981e-01\n",
      "  -3.45760375e-01 -5.18757761e-01 -1.49840093e+00]\n",
      " [-9.65781976e-03 -1.96533158e-01 -5.57933487e-02 -7.41765872e-02\n",
      "  -3.06651264e-01 -2.50838846e-01 -5.53923011e-01]\n",
      " [-3.67088020e-02 -1.43872336e-01 -1.82659179e-01 -2.77790129e-01\n",
      "  -1.30194008e-01 -1.58052146e-01 -7.74774924e-02]\n",
      " [ 5.56649640e-02 -1.73559159e-01 -2.25240156e-01 -2.04363856e-02\n",
      "  -1.68822892e-02  2.23272294e-03 -2.59534895e-01]\n",
      " [-2.68244791e+00  1.90087840e-01 -2.06846505e-01  4.88946997e-02\n",
      "   5.32688759e-02 -2.73976326e-02 -4.49846089e-01]\n",
      " [-4.10112858e-01 -4.45492752e-02 -5.24195172e-02 -7.38986805e-02\n",
      "  -2.81184971e-01 -1.35746026e+00 -3.34187055e+00]\n",
      " [-4.80100632e+00 -1.17678590e-01 -9.54335928e-02 -3.57700497e-01\n",
      "  -2.09827855e-01 -2.97006965e-01 -1.21660709e+00]\n",
      " [ 2.02656314e-02 -1.64253175e-01 -1.15580475e-02 -9.75636020e-02\n",
      "   9.72813170e-04  3.70173343e-02 -1.62095204e-01]\n",
      " [-3.07758784e+00 -9.93935615e-02 -2.68122494e-01 -1.78793937e-01\n",
      "  -1.64080024e-01 -3.61074507e-01 -6.41945153e-02]\n",
      " [-6.92926502e+00 -1.40200898e-01 -1.86995953e-01 -1.12465404e-01\n",
      "  -1.18443429e-01 -6.00896657e-01 -2.89174175e+00]\n",
      " [-1.88462764e-01 -2.30248451e-01 -2.68426418e-01 -2.88340151e-01\n",
      "  -2.51811981e-01 -3.87692332e-01 -6.27045155e-01]\n",
      " [-2.59144366e-01 -9.71245527e-01 -6.79305911e-01 -4.06047165e-01\n",
      "  -2.93015957e-01 -1.84580073e-01 -2.00224832e-01]\n",
      " [-3.98082674e-01 -4.48080540e-01 -2.37669900e-01 -2.36393377e-01\n",
      "  -1.59501761e-01 -1.96458116e-01 -1.52556881e-01]\n",
      " [-3.53638202e-01 -8.80225301e-01 -5.24483860e-01 -2.82804489e-01\n",
      "  -1.24248810e-01 -4.37590145e-02 -3.07641532e-02]\n",
      " [-8.09082747e-01 -1.52858958e-01 -1.29645288e-01 -3.17361593e-01\n",
      "  -6.72181666e-01 -1.35800600e+00 -3.54948497e+00]\n",
      " [-1.87231219e+00 -3.07483375e-01 -6.52967319e-02 -3.70499343e-02\n",
      "  -4.09235321e-02 -3.19540262e-01 -2.89855957e-01]\n",
      " [-2.40744695e-01 -2.85445511e-01 -4.11344200e-01 -2.47135907e-01\n",
      "  -2.43357792e-01 -2.66581565e-01 -3.56268227e-01]\n",
      " [-4.82659626e+00 -6.03309929e-01 -2.16777429e-01 -1.36846930e-01\n",
      "  -1.49171531e-01 -4.90962535e-01 -6.51799917e+00]\n",
      " [ 3.36669147e-01 -6.88413143e-01 -3.34678471e-01 -7.68547282e-02\n",
      "  -1.08310066e-01 -1.00438215e-01 -4.22383010e-01]\n",
      " [ 1.41665235e-03 -2.75459647e-01 -7.62506649e-02 -6.76160529e-02\n",
      "  -1.90967962e-01 -3.59853476e-01 -2.22192597e+00]\n",
      " [-8.99546981e-01 -4.00414020e-01 -5.45708835e-01 -2.97635525e-01\n",
      "  -3.34855616e-01 -2.55797178e-01 -2.71179229e-01]\n",
      " [-4.37299967e-01 -3.94512177e-01 -9.99915898e-02 -7.71199837e-02\n",
      "  -7.99886733e-02 -2.41349936e-01 -3.02143186e-01]\n",
      " [-8.61152470e-01 -3.27232003e-01 -4.06967968e-01 -1.79065749e-01\n",
      "  -3.58423650e-01 -2.70184517e-01 -1.88722223e-01]\n",
      " [-2.22105336e+00 -1.43865371e+00 -6.62186980e-01 -4.14433390e-01\n",
      "  -4.94633019e-01 -2.90288657e-01 -2.88232386e-01]\n",
      " [-3.30321503e+00 -3.65050405e-01 -1.26756430e-01 -6.66792840e-02\n",
      "  -9.89520848e-02 -2.12500945e-01  8.19013119e-02]\n",
      " [-1.18295893e-01 -3.12048584e-01 -1.96059614e-01 -1.36096627e-01\n",
      "  -1.26187801e-01 -2.36258641e-01 -2.00612530e-01]\n",
      " [-1.09067392e+00 -1.84619218e-01 -1.11538164e-01 -1.25525460e-01\n",
      "  -1.16035260e-01 -3.47560644e-01 -4.19348419e-01]\n",
      " [-8.55043411e-01 -1.33577064e-01 -5.00454977e-02 -1.24819987e-01\n",
      "  -2.01067746e-01 -9.25286040e-02 -9.92080644e-02]\n",
      " [-4.78253067e-01 -3.12476307e-01 -4.09573674e-01 -4.45165932e-01\n",
      "  -2.91062415e-01 -3.16044420e-01 -2.49083906e-01]\n",
      " [-9.16806534e-02 -1.36142164e-01 -2.03752980e-01 -1.59409672e-01\n",
      "  -1.69496745e-01 -1.84241414e-01 -6.57502711e-02]\n",
      " [-7.44589925e-01 -3.60587001e-01 -5.42755783e-01 -6.02141738e-01\n",
      "  -4.86043423e-01 -3.24621469e-01 -3.27270627e-01]\n",
      " [-2.23456159e-01 -1.55962348e-01 -1.27805501e-01 -1.03024870e-01\n",
      "  -1.83781028e-01 -3.72806787e-01 -3.44178629e+00]\n",
      " [-5.36421910e-02 -1.51268765e-01 -2.18416676e-01 -2.69111931e-01\n",
      "  -1.05527662e-01 -3.44291553e-02 -5.30462377e-02]\n",
      " [-3.58063728e-02 -1.92241013e-01 -1.23767078e-01 -3.23128849e-01\n",
      "  -1.63291186e-01 -1.13038592e-01 -1.59377143e-01]\n",
      " [-2.30907779e-02 -4.28517796e-02 -1.19966075e-01 -9.29034278e-02\n",
      "  -1.40360445e-01 -8.64777714e-03 -4.25895341e-02]\n",
      " [-1.97884619e-01  1.38671905e-01  1.16978921e-01 -7.57760853e-02\n",
      "  -2.36318082e-01 -1.27992220e-02  3.26000042e-02]\n",
      " [-6.25695765e-01 -8.97273272e-02 -1.25812054e-01 -2.07313687e-01\n",
      "  -6.59236848e-01 -1.17636991e+00 -4.54001379e+00]\n",
      " [-1.16348839e+00 -2.57326573e-01 -1.26983702e-01 -1.43443897e-01\n",
      "  -5.17028332e-01 -1.19701850e+00 -3.22447228e+00]\n",
      " [-6.60479844e-01 -1.32840825e-03  5.19607514e-02  5.22213317e-02\n",
      "  -2.47801095e-01 -1.14418328e+00 -3.49228287e+00]\n",
      " [ 1.77699998e-01 -5.30503020e-02  8.91551301e-02  9.17207971e-02\n",
      "  -1.44387364e-01 -2.22952694e-01 -1.00739884e+00]\n",
      " [-3.66460299e+00 -1.35386631e-01 -1.16667472e-01 -3.10734093e-01\n",
      "  -6.85388595e-02 -6.51196092e-02 -4.27561820e-01]]\n",
      "Poids de la couche 8: [-0.5147642  -0.2839649   0.42337042  0.22917071 -0.25924942 -0.33581683\n",
      "  0.16243032]\n"
     ]
    }
   ],
   "source": [
    "# Résumé pour non experts :\n",
    "# - L'architecture montre la structure du modèle (comme un plan de construction).\n",
    "# - Le résumé offre une vue générale facile à comprendre (comme une présentation rapide).\n",
    "# - Les poids appris sont les compétences acquises par le modèle après \"l'entraînement\" (comme les connaissances d'un élève).\n",
    "\n",
    "# Affichage de l'architecture du modèle\n",
    "print(\"Architecture du modèle (plan de construction) :\")\n",
    "model_config = model.get_config()\n",
    "print(model_config)\n",
    "\n",
    "print(\"\\n---\")\n",
    "\n",
    "# Affichage du résumé du modèle\n",
    "print(\"Résumé du modèle (présentation rapide) :\")\n",
    "model.summary()\n",
    "\n",
    "print(\"\\n---\")\n",
    "\n",
    "# Affichage des poids appris par le modèle\n",
    "print(\"Poids appris par le modèle (compétences acquises après entraînement) :\")\n",
    "model_weights = model.get_weights()\n",
    "for i, weight in enumerate(model_weights):\n",
    "    print(f\"Poids de la couche {i + 1}: {weight}\")"
   ]
  },
  {
   "cell_type": "markdown",
   "metadata": {},
   "source": [
    "Notice pour interprétation de la parie \"paramètres\", avec premiers exemples de valeurs pour illustrer :  \n",
    "1. Total params: 2,903 (11.34 KB)\n",
    "C'est le nombre total de paramètres du modèle, qu'ils soient entraînables ou non. Un paramètre est une valeur ajustable (comme les poids ou les biais dans les couches) que le modèle utilise pour effectuer des prédictions.\n",
    "\n",
    "La taille totale en mémoire (11.34 KB) montre l'espace nécessaire pour stocker tous les paramètres.\n",
    "\n",
    "2. Trainable params: 967 (3.78 KB)\n",
    "Les paramètres \"entraînables\" sont ceux que l'optimiseur modifie lors de l'entraînement pour minimiser la fonction de perte (loss). Ils incluent les poids et les biais des couches du modèle qui participent activement à l'apprentissage.\n",
    "\n",
    "Ici, le modèle a 967 paramètres qui seront ajustés pendant l'entraînement.\n",
    "\n",
    "La taille en mémoire (3.78 KB) montre l'espace nécessaire pour stocker ces paramètres spécifiquement.\n",
    "\n",
    "3. Non-trainable params: 0 (0.00 B)\n",
    "Ce sont des paramètres qui ne sont pas modifiés durant l'entraînement, par exemple, des paramètres fixes ou partagés entre plusieurs modèles. Dans notre cas, il n'y a aucun paramètre non-entraînable, ce qui signifie que tous les paramètres du modèle sont impliqués dans l'apprentissage.\n",
    "\n",
    "4. Optimizer params: 1,936 (7.57 KB)\n",
    "Ces paramètres sont spécifiques à l'optimiseur utilisé (ici: adam). Ils incluent des variables auxiliaires que l'optimiseur utilise, comme les moyennes mobiles ou les moments pour optimiser la descente de gradient.\n",
    "\n",
    "Le nombre d'optimiseur paramètres (1,936) reflète les ressources supplémentaires nécessaires pour effectuer les calculs d'optimisation.\n",
    "\n",
    "La taille en mémoire (7.57 KB) indique l'espace requis pour ces paramètres."
   ]
  },
  {
   "cell_type": "markdown",
   "metadata": {},
   "source": [
    "# Sauvegarde du dernier modèle utilisé"
   ]
  },
  {
   "cell_type": "code",
   "execution_count": 107,
   "metadata": {},
   "outputs": [
    {
     "data": {
      "text/plain": [
       "' pour le charger :\\nfrom tensorflow.keras.models import load_model\\nmodel = load_model(model_path)\\n '"
      ]
     },
     "execution_count": 107,
     "metadata": {},
     "output_type": "execute_result"
    }
   ],
   "source": [
    "# Chemin pour enregistrer le modèle\n",
    "model_path = base_models + 'rf_nn_dense_relu.h5'\n",
    "\"\"\"\n",
    "# Enregistrer le modèle entier\n",
    "model.save(model_path)\n",
    "\n",
    "print(f\"Modèle de réseau de neurones enregistré dans {model_path}\")\n",
    "\"\"\"\n",
    "\n",
    "\"\"\" pour le charger :\n",
    "from tensorflow.keras.models import load_model\n",
    "model = load_model(model_path)\n",
    " \"\"\""
   ]
  }
 ],
 "metadata": {
  "kernelspec": {
   "display_name": "Python 3 (ipykernel)",
   "language": "python",
   "name": "python3"
  },
  "language_info": {
   "codemirror_mode": {
    "name": "ipython",
    "version": 3
   },
   "file_extension": ".py",
   "mimetype": "text/x-python",
   "name": "python",
   "nbconvert_exporter": "python",
   "pygments_lexer": "ipython3",
   "version": "3.12.7"
  }
 },
 "nbformat": 4,
 "nbformat_minor": 4
}
