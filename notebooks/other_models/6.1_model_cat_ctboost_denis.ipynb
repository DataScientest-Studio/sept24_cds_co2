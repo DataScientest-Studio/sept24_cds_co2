{
 "cells": [
  {
   "cell_type": "markdown",
   "metadata": {
    "vscode": {
     "languageId": "raw"
    }
   },
   "source": [
    "##### Projet CO2 par Polina, Vincent, Denis\n",
    "\n",
    "Ce notebook:\n",
    "entraine un modèle de classification pour prédiction par Gradient Boosting Machines Catboost  \n",
    "Prend en entrée les fichiers:\n",
    "    (processed)/X_test_scaled.csv, X_train_scaled.csv, y_test_cat.csv, y_train_cat.csv : les données scalées et donc forcément préalablement séparées en jeux de train/test.\n",
    "\n",
    "Fournit en sortie les fichiers:\n",
    "    (models)/<nom_de_modele>.pkl\n"
   ]
  },
  {
   "cell_type": "markdown",
   "metadata": {},
   "source": [
    "# Initialisations, librairies"
   ]
  },
  {
   "cell_type": "code",
   "execution_count": null,
   "metadata": {},
   "outputs": [],
   "source": [
    "# charge les chemins vers les fichiers de données : base_processed, base_raw, base_models...\n",
    "%run init_notebook.py\n",
    "\n",
    "# Ajoute le chemin du module commun\n",
    "import sys\n",
    "sys.path.append('../') \n",
    "\n",
    "# charge nos fonctions communes aux travaux sur plusieurs modèles\n",
    "from common_co2 import load_our_data_cat, display_norm_matrix, display_roc"
   ]
  },
  {
   "cell_type": "code",
   "execution_count": null,
   "metadata": {},
   "outputs": [
    {
     "name": "stdout",
     "output_type": "stream",
     "text": [
      "Collecting catboost\n",
      "  Downloading catboost-1.2.8-cp313-cp313-win_amd64.whl.metadata (1.5 kB)\n",
      "Collecting graphviz (from catboost)\n",
      "  Downloading graphviz-0.20.3-py3-none-any.whl.metadata (12 kB)\n",
      "Requirement already satisfied: matplotlib in c:\\users\\local\\anaconda\\envs\\dst\\lib\\site-packages (from catboost) (3.10.1)\n",
      "Requirement already satisfied: numpy<3.0,>=1.16.0 in c:\\users\\local\\anaconda\\envs\\dst\\lib\\site-packages (from catboost) (2.2.2)\n",
      "Requirement already satisfied: pandas>=0.24 in c:\\users\\local\\anaconda\\envs\\dst\\lib\\site-packages (from catboost) (2.2.3)\n",
      "Requirement already satisfied: scipy in c:\\users\\local\\anaconda\\envs\\dst\\lib\\site-packages (from catboost) (1.15.1)\n",
      "Collecting plotly (from catboost)\n",
      "  Downloading plotly-6.0.1-py3-none-any.whl.metadata (6.7 kB)\n",
      "Requirement already satisfied: six in c:\\users\\local\\anaconda\\envs\\dst\\lib\\site-packages (from catboost) (1.16.0)\n",
      "Requirement already satisfied: python-dateutil>=2.8.2 in c:\\users\\local\\anaconda\\envs\\dst\\lib\\site-packages (from pandas>=0.24->catboost) (2.9.0.post0)\n",
      "Requirement already satisfied: pytz>=2020.1 in c:\\users\\local\\anaconda\\envs\\dst\\lib\\site-packages (from pandas>=0.24->catboost) (2024.1)\n",
      "Requirement already satisfied: tzdata>=2022.7 in c:\\users\\local\\anaconda\\envs\\dst\\lib\\site-packages (from pandas>=0.24->catboost) (2023.3)\n",
      "Requirement already satisfied: contourpy>=1.0.1 in c:\\users\\local\\anaconda\\envs\\dst\\lib\\site-packages (from matplotlib->catboost) (1.3.1)\n",
      "Requirement already satisfied: cycler>=0.10 in c:\\users\\local\\anaconda\\envs\\dst\\lib\\site-packages (from matplotlib->catboost) (0.11.0)\n",
      "Requirement already satisfied: fonttools>=4.22.0 in c:\\users\\local\\anaconda\\envs\\dst\\lib\\site-packages (from matplotlib->catboost) (4.55.3)\n",
      "Requirement already satisfied: kiwisolver>=1.3.1 in c:\\users\\local\\anaconda\\envs\\dst\\lib\\site-packages (from matplotlib->catboost) (1.4.8)\n",
      "Requirement already satisfied: packaging>=20.0 in c:\\users\\local\\anaconda\\envs\\dst\\lib\\site-packages (from matplotlib->catboost) (24.2)\n",
      "Requirement already satisfied: pillow>=8 in c:\\users\\local\\anaconda\\envs\\dst\\lib\\site-packages (from matplotlib->catboost) (11.1.0)\n",
      "Requirement already satisfied: pyparsing>=2.3.1 in c:\\users\\local\\anaconda\\envs\\dst\\lib\\site-packages (from matplotlib->catboost) (3.2.0)\n",
      "Collecting narwhals>=1.15.1 (from plotly->catboost)\n",
      "  Downloading narwhals-1.37.0-py3-none-any.whl.metadata (9.3 kB)\n",
      "Downloading catboost-1.2.8-cp313-cp313-win_amd64.whl (102.4 MB)\n",
      "   ---------------------------------------- 0.0/102.4 MB ? eta -:--:--\n",
      "   -- ------------------------------------- 7.3/102.4 MB 42.3 MB/s eta 0:00:03\n",
      "   ---- ----------------------------------- 10.5/102.4 MB 27.4 MB/s eta 0:00:04\n",
      "   ------- -------------------------------- 18.9/102.4 MB 32.1 MB/s eta 0:00:03\n",
      "   --------- ------------------------------ 25.2/102.4 MB 32.4 MB/s eta 0:00:03\n",
      "   ----------- ---------------------------- 28.3/102.4 MB 27.7 MB/s eta 0:00:03\n",
      "   -------------- ------------------------- 36.4/102.4 MB 29.1 MB/s eta 0:00:03\n",
      "   ------------------ --------------------- 48.2/102.4 MB 33.2 MB/s eta 0:00:02\n",
      "   ---------------------- ----------------- 58.7/102.4 MB 35.2 MB/s eta 0:00:02\n",
      "   --------------------------- ------------ 70.3/102.4 MB 37.5 MB/s eta 0:00:01\n",
      "   ------------------------------ --------- 77.6/102.4 MB 37.8 MB/s eta 0:00:01\n",
      "   -------------------------------- ------- 83.9/102.4 MB 37.1 MB/s eta 0:00:01\n",
      "   --------------------------------- ------ 87.0/102.4 MB 35.8 MB/s eta 0:00:01\n",
      "   ------------------------------------- -- 97.0/102.4 MB 35.8 MB/s eta 0:00:01\n",
      "   --------------------------------------  102.2/102.4 MB 36.9 MB/s eta 0:00:01\n",
      "   --------------------------------------- 102.4/102.4 MB 35.1 MB/s eta 0:00:00\n",
      "Downloading graphviz-0.20.3-py3-none-any.whl (47 kB)\n",
      "Downloading plotly-6.0.1-py3-none-any.whl (14.8 MB)\n",
      "   ---------------------------------------- 0.0/14.8 MB ? eta -:--:--\n",
      "   ---------------------------------------- 14.8/14.8 MB 80.6 MB/s eta 0:00:00\n",
      "Downloading narwhals-1.37.0-py3-none-any.whl (331 kB)\n",
      "Installing collected packages: narwhals, graphviz, plotly, catboost\n",
      "Successfully installed catboost-1.2.8 graphviz-0.20.3 narwhals-1.37.0 plotly-6.0.1\n"
     ]
    },
    {
     "name": "stderr",
     "output_type": "stream",
     "text": [
      "WARNING: Ignoring invalid distribution ~atplotlib (C:\\Users\\local\\anaconda\\envs\\DST\\Lib\\site-packages)\n",
      "WARNING: Ignoring invalid distribution ~atplotlib (C:\\Users\\local\\anaconda\\envs\\DST\\Lib\\site-packages)\n",
      "WARNING: Ignoring invalid distribution ~atplotlib (C:\\Users\\local\\anaconda\\envs\\DST\\Lib\\site-packages)\n"
     ]
    }
   ],
   "source": [
    "# installation des librairies lorsque nécessaire\n",
    "\n",
    "\"\"\"!pip install seaborn \"\"\"\n",
    "!pip install catboost"
   ]
  },
  {
   "cell_type": "code",
   "execution_count": 3,
   "metadata": {},
   "outputs": [],
   "source": [
    "from catboost import CatBoostClassifier, Pool"
   ]
  },
  {
   "cell_type": "markdown",
   "metadata": {},
   "source": [
    "# Classification par Gradient Boosting Machines Catboost"
   ]
  },
  {
   "cell_type": "code",
   "execution_count": 4,
   "metadata": {},
   "outputs": [],
   "source": [
    "# Optionnel: Sur windows pour utiliser 16 coeurs physiques\n",
    "\n",
    "import os\n",
    "os.environ[\"LOKY_MAX_CPU_COUNT\"] = \"16\"  # nombre de cœurs physiques réels"
   ]
  },
  {
   "cell_type": "code",
   "execution_count": 5,
   "metadata": {},
   "outputs": [],
   "source": [
    "# chargement des données\n",
    "X_train_scaled, X_test_scaled, y_train, y_test=load_our_data_cat()"
   ]
  },
  {
   "cell_type": "code",
   "execution_count": 6,
   "metadata": {},
   "outputs": [
    {
     "name": "stderr",
     "output_type": "stream",
     "text": [
      "C:\\Users\\abcd3\\AppData\\Local\\Temp\\ipykernel_39208\\171215039.py:6: DeprecationWarning: Non-integer input passed to bincount. In a future version of NumPy, this will be an error. (Deprecated NumPy 2.1)\n",
      "  class_counts = np.bincount(y_train)\n"
     ]
    },
    {
     "data": {
      "text/plain": [
       "{1: 1, 2: 1.1, 3: 1, 4: 1, 5: 1, 6: 1, 7: 1}"
      ]
     },
     "execution_count": 6,
     "metadata": {},
     "output_type": "execute_result"
    }
   ],
   "source": [
    "# On tente d'ajuster les poids des classes.\n",
    "import numpy as np\n",
    "from catboost import CatBoostClassifier, Pool\n",
    "\n",
    "# Count occurrences of each class\n",
    "class_counts = np.bincount(y_train)\n",
    "\n",
    "# Calculate inverse frequency weights\n",
    "total_samples = len(y_train)\n",
    "class_weights = {i: total_samples / (len(class_counts) * count) for i, count in enumerate(class_counts) if count > 0}\n",
    "# ceci améliore énormément le recall de la classe 2,\n",
    "# mais dégrade sa precision\n",
    "\n",
    "# force le poids de la classe 2 seulement\n",
    "class_weights = {key: (1.1 if key == 2 else 1) for key in class_weights}\n",
    "\n",
    "\n",
    "# Assign sample weights based on target values\n",
    "sample_weights = np.array([class_weights[y] for y in y_train])\n",
    "# On affiche nos poids de classes\n",
    "class_weights\n"
   ]
  },
  {
   "cell_type": "code",
   "execution_count": 7,
   "metadata": {},
   "outputs": [],
   "source": [
    "# Une 1ere initialisation des hyperparamètres du modèle\n",
    "hyperparams = {\n",
    "    'iterations': 1000,  # Nombre d'itérations\n",
    "    'learning_rate': 0.1,  # Taux d'apprentissage\n",
    "    'depth': 6,  # Profondeur des arbres\n",
    "    'l2_leaf_reg': 3,  # Régularisation L2\n",
    "    'random_seed': 42,  # Seed pour la reproductibilité\n",
    "}"
   ]
  },
  {
   "cell_type": "code",
   "execution_count": 8,
   "metadata": {},
   "outputs": [
    {
     "data": {
      "text/plain": [
       "<catboost.core.CatBoostClassifier at 0x216dc90b620>"
      ]
     },
     "execution_count": 8,
     "metadata": {},
     "output_type": "execute_result"
    }
   ],
   "source": [
    "from catboost import CatBoostClassifier, Pool\n",
    "\n",
    "# Prepare data using `Pool`\n",
    "train_pool = Pool(X_train_scaled, y_train, weight=sample_weights)\n",
    "model = CatBoostClassifier(**hyperparams)\n",
    "\n",
    "# Train model with sample weights\n",
    "model.fit(train_pool, verbose=0)"
   ]
  },
  {
   "cell_type": "code",
   "execution_count": 9,
   "metadata": {},
   "outputs": [],
   "source": [
    "# Fonction pour entraîner le modèle sans pondération\n",
    "def train_model(model, X_train_scaled, y_train):\n",
    "    \"\"\"\n",
    "    Entraîne le modèle.\n",
    "    \"\"\"\n",
    "    model.fit(X_train_scaled, y_train, verbose=0)  # verbose=0 pour éviter trop de logs\n",
    "    return model\n",
    "\n",
    "# Fonction pour entraîner le modèle avec pondération\n",
    "def train_model_weight(model, X_train_scaled, y_train, sample_weights):\n",
    "    # Prepare data using `Pool`\n",
    "    train_pool = Pool(X_train_scaled, y_train, weight=sample_weights)\n",
    "\n",
    "    model.fit(train_pool, verbose=0)  # verbose=0 pour éviter trop de logs\n",
    "    return model\n",
    "\n",
    "\n",
    "# Fonction pour évaluer les performances du modèle\n",
    "from sklearn.metrics import classification_report, f1_score, recall_score\n",
    "def evaluate_model(model, X_test_scaled, y_test):\n",
    "    \"\"\"\n",
    "    Calcule et affiche les métriques du modèle.\n",
    "    \"\"\"\n",
    "    # Prédictions sur les données de test\n",
    "    y_pred = model.predict(X_test_scaled)\n",
    "    \n",
    "    # Calcul et affichage de la précision\n",
    "    accuracy = model.score(X_test_scaled, y_test)\n",
    "    print(f\"Précision du modèle : {accuracy:.4f}\")\n",
    "    \n",
    "    # Calcul et affichage du F1-score\n",
    "    f1 = f1_score(y_test, y_pred, average='weighted')  # 'weighted' pour les classes déséquilibrées\n",
    "    print(f\"F1-score : {f1:.4f}\")\n",
    "    \n",
    "    # Calcul et affichage du recall\n",
    "    recall = recall_score(y_test, y_pred, average='weighted')\n",
    "    print(f\"Recall : {recall:.4f}\")\n",
    "    \n",
    "    # Affichage du rapport de classification\n",
    "    report = classification_report(y_test, y_pred)\n",
    "    print(\"Rapport de classification :\")\n",
    "    print(report)\n",
    "\n",
    "    return accuracy, f1, recall, y_pred"
   ]
  },
  {
   "cell_type": "code",
   "execution_count": 10,
   "metadata": {},
   "outputs": [],
   "source": [
    "# info pour les représentations graphiques\n",
    "name=\"CatBoost\""
   ]
  },
  {
   "cell_type": "code",
   "execution_count": 11,
   "metadata": {},
   "outputs": [
    {
     "name": "stdout",
     "output_type": "stream",
     "text": [
      "Précision du modèle : 0.8845\n",
      "F1-score : 0.8843\n",
      "Recall : 0.8845\n",
      "Rapport de classification :\n",
      "              precision    recall  f1-score   support\n",
      "\n",
      "         1.0       0.99      1.00      1.00      2887\n",
      "         2.0       0.80      0.75      0.77      1441\n",
      "         3.0       0.88      0.88      0.88      6138\n",
      "         4.0       0.84      0.87      0.85      5435\n",
      "         5.0       0.89      0.87      0.88      5061\n",
      "         6.0       0.90      0.89      0.89      2610\n",
      "         7.0       0.93      0.96      0.94      1163\n",
      "\n",
      "    accuracy                           0.88     24735\n",
      "   macro avg       0.89      0.89      0.89     24735\n",
      "weighted avg       0.88      0.88      0.88     24735\n",
      "\n"
     ]
    }
   ],
   "source": [
    "#model=train_model(model, X_train_scaled, y_train)\n",
    "accuracy, f1, recall, y_pred=evaluate_model(model, X_test_scaled, y_test)"
   ]
  },
  {
   "cell_type": "code",
   "execution_count": 12,
   "metadata": {},
   "outputs": [
    {
     "name": "stdout",
     "output_type": "stream",
     "text": [
      "\n",
      "🔹 Matrice de confusion pour CatBoost and iterations=1000, depth=6, l2_leaf_reg=3, class_weights={1: 1, 2: 1.1, 3: 1, 4: 1, 5: 1, 6: 1, 7: 1}🔹\n"
     ]
    },
    {
     "data": {
      "image/png": "[encoded data removed]",
      "text/plain": [
       "<Figure size 800x600 with 2 Axes>"
      ]
     },
     "metadata": {},
     "output_type": "display_data"
    }
   ],
   "source": [
    "# On affiche notre matrice de confusion\n",
    "text_hyperparams = f\"iterations={hyperparams['iterations']}, depth={hyperparams['depth']}, l2_leaf_reg={hyperparams['l2_leaf_reg']}, class_weights={class_weights}\"\n",
    "display_norm_matrix(name, y_pred, y_test, text_hyperparams)\n"
   ]
  },
  {
   "cell_type": "markdown",
   "metadata": {},
   "source": [
    "Quelle est la qualité du résultat ?  \n",
    "Plutôt bon, mais on n'a pas encore optimisé les hyperparamètres."
   ]
  },
  {
   "cell_type": "code",
   "execution_count": null,
   "metadata": {},
   "outputs": [
    {
     "name": "stdout",
     "output_type": "stream",
     "text": [
      "Précision du modèle : 0.8894\n",
      "F1-score : 0.8893\n",
      "Recall : 0.8894\n",
      "Rapport de classification :\n",
      "              precision    recall  f1-score   support\n",
      "\n",
      "         1.0       0.99      1.00      1.00      2887\n",
      "         2.0       0.80      0.75      0.78      1441\n",
      "         3.0       0.88      0.89      0.88      6138\n",
      "         4.0       0.85      0.87      0.86      5435\n",
      "         5.0       0.89      0.87      0.88      5061\n",
      "         6.0       0.91      0.89      0.90      2610\n",
      "         7.0       0.93      0.96      0.95      1163\n",
      "\n",
      "    accuracy                           0.89     24735\n",
      "   macro avg       0.89      0.89      0.89     24735\n",
      "weighted avg       0.89      0.89      0.89     24735\n",
      "\n"
     ]
    }
   ],
   "source": [
    "# Nouveau set d'hyperparamètres du modèle avec des paramètres plus ambitieux en besoins de calcul\n",
    "hyperparams = {\n",
    "    'iterations': 1500,  # Nombre d'itérations\n",
    "    'learning_rate': 0.1,  # Taux d'apprentissage\n",
    "    'depth': 6,  # Profondeur des arbres\n",
    "    'l2_leaf_reg': 2,  # Régularisation L2\n",
    "    'random_seed': 42,  # Seed pour la reproductibilité\n",
    "}\n",
    "\n",
    "model = CatBoostClassifier(**hyperparams)\n",
    "model=train_model(model, X_train_scaled, y_train)\n",
    "accuracy, f1, recall, y_pred=evaluate_model(model, X_test_scaled, y_test)"
   ]
  },
  {
   "cell_type": "markdown",
   "metadata": {},
   "source": [
    "# Optimisation par pondération"
   ]
  },
  {
   "cell_type": "code",
   "execution_count": null,
   "metadata": {},
   "outputs": [],
   "source": [
    "# On tente d'ajuster les poids des classes.\n",
    "import numpy as np\n",
    "from catboost import CatBoostClassifier, Pool\n",
    "\n",
    "# Count occurrences of each class\n",
    "class_counts = np.bincount(y_train)\n",
    "\n",
    "# Calculate inverse frequency weights\n",
    "total_samples = len(y_train)\n",
    "class_weights = {i: total_samples / (len(class_counts) * count) for i, count in enumerate(class_counts) if count > 0}\n",
    "# ceci améliore énormément le recall de la classe 2,\n",
    "# mais dégrade sa precision\n",
    "\n",
    "# force le poids de la classe 2 seulement\n",
    "class_weights = {key: (1.1 if key == 2 else 1) for key in class_weights}\n",
    "\n",
    "\n",
    "# Assign sample weights based on target values\n",
    "sample_weights = np.array([class_weights[y] for y in y_train])\n",
    "# On affiche nos poids de classes\n",
    "class_weights\n"
   ]
  },
  {
   "cell_type": "code",
   "execution_count": null,
   "metadata": {},
   "outputs": [],
   "source": [
    "# init et entraînement du modèle avec les poids de classes\n",
    "\n",
    "model = CatBoostClassifier(**hyperparams)\n",
    "model=train_model_weight(model, X_train_scaled, y_train, sample_weights)"
   ]
  },
  {
   "cell_type": "code",
   "execution_count": null,
   "metadata": {},
   "outputs": [
    {
     "name": "stdout",
     "output_type": "stream",
     "text": [
      "Précision du modèle : 0.8905\n",
      "F1-score : 0.8904\n",
      "Recall : 0.8905\n",
      "Rapport de classification :\n",
      "              precision    recall  f1-score   support\n",
      "\n",
      "         1.0       0.99      1.00      1.00      2887\n",
      "         2.0       0.79      0.77      0.78      1441\n",
      "         3.0       0.88      0.88      0.88      6138\n",
      "         4.0       0.85      0.87      0.86      5435\n",
      "         5.0       0.90      0.87      0.88      5061\n",
      "         6.0       0.91      0.89      0.90      2610\n",
      "         7.0       0.93      0.96      0.95      1163\n",
      "\n",
      "    accuracy                           0.89     24735\n",
      "   macro avg       0.89      0.89      0.89     24735\n",
      "weighted avg       0.89      0.89      0.89     24735\n",
      "\n"
     ]
    }
   ],
   "source": [
    "# on affiche l'évaluation des performances \n",
    "accuracy, f1, recall, y_pred=evaluate_model(model, X_test_scaled, y_test)"
   ]
  },
  {
   "cell_type": "code",
   "execution_count": null,
   "metadata": {},
   "outputs": [
    {
     "name": "stdout",
     "output_type": "stream",
     "text": [
      "\n",
      "🔹 Matrice de confusion pour CatBoost and iterations=1500, depth=6, l2_leaf_reg=2, weights🔹\n"
     ]
    },
    {
     "data": {
      "image/png": "[encoded data removed]",
      "text/plain": [
       "<Figure size 800x600 with 2 Axes>"
      ]
     },
     "metadata": {},
     "output_type": "display_data"
    }
   ],
   "source": [
    "# on affiche la matrice de confusion\n",
    "text_hyperparams = f\"iterations={hyperparams['iterations']}, depth={hyperparams['depth']}, l2_leaf_reg={hyperparams['l2_leaf_reg']}, weights\"\n",
    "display_norm_matrix(name, y_pred, y_test, text_hyperparams)"
   ]
  },
  {
   "cell_type": "markdown",
   "metadata": {},
   "source": [
    "# Tentative d'amélioration par SMOTE"
   ]
  },
  {
   "cell_type": "code",
   "execution_count": null,
   "metadata": {},
   "outputs": [],
   "source": [
    "# Notre set d'hyperparamètres du modèle\n",
    "hyperparams = {\n",
    "    'iterations': 1500,  # Nombre d'itérations\n",
    "    'learning_rate': 0.1,  # Taux d'apprentissage\n",
    "    'depth': 6,  # Profondeur des arbres\n",
    "    'l2_leaf_reg': 2,  # Régularisation L2\n",
    "    'random_seed': 42,  # Seed pour la reproductibilité\n",
    "}\n",
    "\n",
    "from imblearn.over_sampling import SMOTE\n",
    "\n",
    "smote = SMOTE(random_state=42)\n",
    "X_train_resampled, y_train_resampled = smote.fit_resample(X_train_scaled, y_train)\n",
    "\n",
    "\n",
    "model = CatBoostClassifier(**hyperparams)\n",
    "model=train_model(model, X_train_resampled, y_train_resampled)\n",
    "accuracy, f1, recall, y_pred=evaluate_model(model, X_test_scaled, y_test)\n"
   ]
  },
  {
   "cell_type": "code",
   "execution_count": null,
   "metadata": {},
   "outputs": [],
   "source": [
    "text_hyperparams = f\"iterations={hyperparams['iterations']}, depth={hyperparams['depth']}, l2_leaf_reg={hyperparams['l2_leaf_reg']}\"\n",
    "text_hyperparams += f\", SMOTE\"\n",
    "display_norm_matrix(name, y_pred, y_test, text_hyperparams)\n",
    "# display_confusion_matrix(model, X_test_scaled, y_test, name=name, params=hyperparams)"
   ]
  },
  {
   "cell_type": "code",
   "execution_count": null,
   "metadata": {},
   "outputs": [],
   "source": [
    "display_roc(X_test_scaled, y_test, y_pred, model)"
   ]
  },
  {
   "cell_type": "markdown",
   "metadata": {},
   "source": [
    "On ne constate pas d'amélioration significative de la précision du modèle, même si le recall est meilleur sur la classe 2."
   ]
  },
  {
   "cell_type": "markdown",
   "metadata": {},
   "source": [
    "# Tentative d'amélioration par pénalité\n",
    "\n",
    "La classe 2 est sous représentée par rapport à la classe 3,  \n",
    "on applique donc une pénalité aux probabilités"
   ]
  },
  {
   "cell_type": "code",
   "execution_count": null,
   "metadata": {},
   "outputs": [],
   "source": [
    "# paramètres pour ce chapitre:\n",
    "threshold = 0.05 # par exemple 0.1 pour 10% de favorisation"
   ]
  },
  {
   "cell_type": "code",
   "execution_count": null,
   "metadata": {},
   "outputs": [],
   "source": [
    "# Prédire les classes sur les données de test\n",
    "import numpy as np\n",
    "y_prob = model.predict_proba(X_test_scaled)\n",
    "\n",
    "y_adjusted_pred = []\n",
    "\n",
    "# Custom logic: on priorisera class 2 si c'est celle qui est la plus probable au threshold près\n",
    "for prob in y_prob:\n",
    "    # La classe avec la plus haute probe est:\n",
    "    max_prob_class_index = np.argmax(prob)\n",
    "\n",
    "    # Check if class 2 is close enough to the maximum probability\n",
    "    if prob[1] >= prob[max_prob_class_index] - threshold:  # Close enough to the max probability\n",
    "        y_adjusted_pred.append(2)  # Favor class 2\n",
    "    else:\n",
    "        y_adjusted_pred.append(max_prob_class_index+1)  # Stick to the class with the highest probability\n"
   ]
  },
  {
   "cell_type": "code",
   "execution_count": null,
   "metadata": {},
   "outputs": [],
   "source": [
    "# Pour info , on s'affiche les probabilités\n",
    "display(y_prob)"
   ]
  },
  {
   "cell_type": "code",
   "execution_count": null,
   "metadata": {},
   "outputs": [],
   "source": [
    "from sklearn.metrics import accuracy_score, f1_score, recall_score\n",
    "\n",
    "# On va calculer et afficher les métriques de performance\n",
    "adjusted_accuracy = accuracy_score(y_test, y_adjusted_pred)\n",
    "adjusted_f1 = f1_score(y_test, y_adjusted_pred, average='weighted')\n",
    "adjusted_recall = recall_score(y_test, y_adjusted_pred, average='weighted')  # Include recall calculation\n",
    "\n",
    "print(f\"Accuracy ajustée par pénalité : {adjusted_accuracy:.4f}\")\n",
    "print(f\"F1-Score ajusté par pénalité: {adjusted_f1:.4f}\")\n",
    "print(f\"Recall ajustée par pénalité: {adjusted_recall:.4f}\")\n"
   ]
  },
  {
   "cell_type": "markdown",
   "metadata": {},
   "source": [
    "Les résultats s'améliorent avec des pénalités de 2.5% à 7%\n",
    "Avec une pénalité de 5%, on a pu améliorer les scores de 0.001 point. C'est peu, mais dans la recherche de la maximisation, ça peut être retenu.\n"
   ]
  },
  {
   "cell_type": "code",
   "execution_count": null,
   "metadata": {},
   "outputs": [],
   "source": [
    "# pour info, les lignes qui ont bougé avec la pénalisation\n",
    "\n",
    "# Convert y_pred to a 1D array for easier comparison\n",
    "y_pred_1d = np.array(y_pred).flatten()\n",
    "\n",
    "# Ensure y_adjusted_pred is a numpy array for consistency\n",
    "y_adjusted_pred_array = np.array(y_adjusted_pred)\n",
    "\n",
    "y_test_array=np.array(y_test)\n",
    "\n",
    "# Compare the two arrays element-wise\n",
    "differences = y_pred_1d != y_adjusted_pred_array\n",
    "\n",
    "# Print comparison results\n",
    "for i, (pred, adjusted, tst) in enumerate(zip(y_pred_1d, y_adjusted_pred_array, y_test_array)):\n",
    "    if pred != adjusted:\n",
    "        print(f\"Difference at index {i}: y_pred = {pred}, y_adjusted_pred = {adjusted}, real={tst}\")"
   ]
  },
  {
   "cell_type": "code",
   "execution_count": null,
   "metadata": {},
   "outputs": [],
   "source": [
    "# affichage de la matrice\n",
    "text_hyperparams = f\"iterations={hyperparams['iterations']}, depth={hyperparams['depth']}, l2_leaf_reg={hyperparams['l2_leaf_reg']}\"\n",
    "text_hyperparams += f\", pénalité {threshold*100} %\"\n",
    "display_norm_matrix(name, y_adjusted_pred, y_test, text_hyperparams)"
   ]
  },
  {
   "cell_type": "markdown",
   "metadata": {},
   "source": [
    "# Sauvegarde du modèle"
   ]
  },
  {
   "cell_type": "code",
   "execution_count": null,
   "metadata": {},
   "outputs": [],
   "source": [
    "import joblib\n",
    "\n",
    "# Chemin pour enregistrer le modèle\n",
    "model_path = base_models + 'rf_cat.pkl'\n",
    "\n",
    "# Enregistrer le modèle\n",
    "joblib.dump(random_forest_model, model_path)\n",
    "\n",
    "print(f\"Modèle Catboost enregistré dans {model_path}\")\n"
   ]
  }
 ],
 "metadata": {
  "kernelspec": {
   "display_name": "DST",
   "language": "python",
   "name": "python3"
  },
  "language_info": {
   "codemirror_mode": {
    "name": "ipython",
    "version": 3
   },
   "file_extension": ".py",
   "mimetype": "text/x-python",
   "name": "python",
   "nbconvert_exporter": "python",
   "pygments_lexer": "ipython3",
   "version": "3.13.2"
  }
 },
 "nbformat": 4,
 "nbformat_minor": 4
}
